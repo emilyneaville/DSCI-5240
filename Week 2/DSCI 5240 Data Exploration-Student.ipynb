{
 "cells": [
  {
   "cell_type": "markdown",
   "id": "edb5e6f2",
   "metadata": {},
   "source": [
    "### Week 2 Data Exploration"
   ]
  },
  {
   "cell_type": "code",
   "execution_count": null,
   "id": "6fc2bb24",
   "metadata": {},
   "outputs": [],
   "source": [
    "# This code appears in every demonstration Notebook.\n",
    "# By default, when you run each cell, only the last output of the codes will show.\n",
    "# This code makes all outputs of a cell show.\n",
    "from IPython.core.interactiveshell import InteractiveShell\n",
    "InteractiveShell.ast_node_interactivity = \"all\""
   ]
  },
  {
   "cell_type": "markdown",
   "id": "1f8c655a",
   "metadata": {},
   "source": [
    "We will explore the user and order data from JD.com."
   ]
  },
  {
   "cell_type": "markdown",
   "id": "8b1d070f",
   "metadata": {},
   "source": [
    "1. We import the necessary packages."
   ]
  },
  {
   "cell_type": "code",
   "execution_count": 2,
   "id": "ec5fab6a",
   "metadata": {},
   "outputs": [],
   "source": [
    "import pandas as pd"
   ]
  },
  {
   "cell_type": "markdown",
   "id": "4c043205",
   "metadata": {},
   "source": [
    "2. We read in the datasets."
   ]
  },
  {
   "cell_type": "code",
   "execution_count": 3,
   "id": "ce825a29",
   "metadata": {},
   "outputs": [],
   "source": [
    "jd_order = pd.read_csv('JD_order_data.csv')\n",
    "jd_user = pd.read_csv('JD_user_data.csv')"
   ]
  },
  {
   "cell_type": "markdown",
   "id": "0b258061",
   "metadata": {},
   "source": [
    "3. Take a look at the data"
   ]
  },
  {
   "cell_type": "code",
   "execution_count": 10,
   "id": "2229862f",
   "metadata": {
    "scrolled": true
   },
   "outputs": [
    {
     "name": "stdout",
     "output_type": "stream",
     "text": [
      "      user_ID  user_level first_order_month  plus gender    age  \\\n",
      "0  000089d6a6           1           2017-08     0      F  26-35   \n",
      "1  0000babd1f           1           2018-03     0      U      U   \n",
      "2  0000bc018b           3           2016-06     0      F   >=56   \n",
      "3  0000d0e5ab           3           2014-06     0      M  26-35   \n",
      "4  0000dce472           3           2012-08     1      U      U   \n",
      "\n",
      "  marital_status  education  city_level  purchase_power  \n",
      "0              S          3           4               3  \n",
      "1              U         -1          -1              -1  \n",
      "2              M          3           2               3  \n",
      "3              M          3           2               2  \n",
      "4              U         -1          -1              -1  \n",
      "<class 'pandas.core.frame.DataFrame'>\n",
      "RangeIndex: 457298 entries, 0 to 457297\n",
      "Data columns (total 10 columns):\n",
      " #   Column             Non-Null Count   Dtype \n",
      "---  ------             --------------   ----- \n",
      " 0   user_ID            457298 non-null  object\n",
      " 1   user_level         457298 non-null  int64 \n",
      " 2   first_order_month  457298 non-null  object\n",
      " 3   plus               457298 non-null  int64 \n",
      " 4   gender             457298 non-null  object\n",
      " 5   age                457298 non-null  object\n",
      " 6   marital_status     457298 non-null  object\n",
      " 7   education          457298 non-null  int64 \n",
      " 8   city_level         457298 non-null  int64 \n",
      " 9   purchase_power     457298 non-null  int64 \n",
      "dtypes: int64(5), object(5)\n",
      "memory usage: 34.9+ MB\n",
      "None\n"
     ]
    }
   ],
   "source": [
    "print(jd_user.head())\n",
    "print(jd_user.info())"
   ]
  },
  {
   "cell_type": "code",
   "execution_count": 5,
   "id": "63d17554",
   "metadata": {},
   "outputs": [
    {
     "data": {
      "text/html": [
       "<div>\n",
       "<style scoped>\n",
       "    .dataframe tbody tr th:only-of-type {\n",
       "        vertical-align: middle;\n",
       "    }\n",
       "\n",
       "    .dataframe tbody tr th {\n",
       "        vertical-align: top;\n",
       "    }\n",
       "\n",
       "    .dataframe thead th {\n",
       "        text-align: right;\n",
       "    }\n",
       "</style>\n",
       "<table border=\"1\" class=\"dataframe\">\n",
       "  <thead>\n",
       "    <tr style=\"text-align: right;\">\n",
       "      <th></th>\n",
       "      <th>order_ID</th>\n",
       "      <th>user_ID</th>\n",
       "      <th>sku_ID</th>\n",
       "      <th>order_date</th>\n",
       "      <th>order_time</th>\n",
       "      <th>quantity</th>\n",
       "      <th>type</th>\n",
       "      <th>promise</th>\n",
       "      <th>original_unit_price</th>\n",
       "      <th>final_unit_price</th>\n",
       "      <th>direct_discount_per_unit</th>\n",
       "      <th>quantity_discount_per_unit</th>\n",
       "      <th>bundle_discount_per_unit</th>\n",
       "      <th>coupon_discount_per_unit</th>\n",
       "      <th>gift_item</th>\n",
       "      <th>dc_ori</th>\n",
       "      <th>dc_des</th>\n",
       "    </tr>\n",
       "  </thead>\n",
       "  <tbody>\n",
       "    <tr>\n",
       "      <th>0</th>\n",
       "      <td>d0cf5cc6db</td>\n",
       "      <td>0abe9ef2ce</td>\n",
       "      <td>581d5b54c1</td>\n",
       "      <td>2018-03-01</td>\n",
       "      <td>2018-03-01 17:14:25.0</td>\n",
       "      <td>1</td>\n",
       "      <td>2</td>\n",
       "      <td>-</td>\n",
       "      <td>89.0</td>\n",
       "      <td>79.0</td>\n",
       "      <td>0.0</td>\n",
       "      <td>10.0</td>\n",
       "      <td>0.0</td>\n",
       "      <td>0.0</td>\n",
       "      <td>0</td>\n",
       "      <td>4</td>\n",
       "      <td>28</td>\n",
       "    </tr>\n",
       "    <tr>\n",
       "      <th>1</th>\n",
       "      <td>7444318d01</td>\n",
       "      <td>33a9e56257</td>\n",
       "      <td>067b673f2b</td>\n",
       "      <td>2018-03-01</td>\n",
       "      <td>2018-03-01 11:10:40.0</td>\n",
       "      <td>1</td>\n",
       "      <td>1</td>\n",
       "      <td>2</td>\n",
       "      <td>99.9</td>\n",
       "      <td>53.9</td>\n",
       "      <td>5.0</td>\n",
       "      <td>41.0</td>\n",
       "      <td>0.0</td>\n",
       "      <td>0.0</td>\n",
       "      <td>0</td>\n",
       "      <td>28</td>\n",
       "      <td>28</td>\n",
       "    </tr>\n",
       "    <tr>\n",
       "      <th>2</th>\n",
       "      <td>f973b01694</td>\n",
       "      <td>4ea3cf408f</td>\n",
       "      <td>623d0a582a</td>\n",
       "      <td>2018-03-01</td>\n",
       "      <td>2018-03-01 09:13:26.0</td>\n",
       "      <td>1</td>\n",
       "      <td>1</td>\n",
       "      <td>2</td>\n",
       "      <td>78.0</td>\n",
       "      <td>58.5</td>\n",
       "      <td>19.5</td>\n",
       "      <td>0.0</td>\n",
       "      <td>0.0</td>\n",
       "      <td>0.0</td>\n",
       "      <td>0</td>\n",
       "      <td>28</td>\n",
       "      <td>28</td>\n",
       "    </tr>\n",
       "    <tr>\n",
       "      <th>3</th>\n",
       "      <td>8c1cec8d4b</td>\n",
       "      <td>b87cb736cb</td>\n",
       "      <td>fc5289b139</td>\n",
       "      <td>2018-03-01</td>\n",
       "      <td>2018-03-01 21:29:50.0</td>\n",
       "      <td>1</td>\n",
       "      <td>1</td>\n",
       "      <td>2</td>\n",
       "      <td>61.0</td>\n",
       "      <td>35.0</td>\n",
       "      <td>0.0</td>\n",
       "      <td>26.0</td>\n",
       "      <td>0.0</td>\n",
       "      <td>0.0</td>\n",
       "      <td>0</td>\n",
       "      <td>4</td>\n",
       "      <td>28</td>\n",
       "    </tr>\n",
       "    <tr>\n",
       "      <th>4</th>\n",
       "      <td>d43a33c38a</td>\n",
       "      <td>4829223b6f</td>\n",
       "      <td>623d0a582a</td>\n",
       "      <td>2018-03-01</td>\n",
       "      <td>2018-03-01 19:13:37.0</td>\n",
       "      <td>1</td>\n",
       "      <td>1</td>\n",
       "      <td>1</td>\n",
       "      <td>78.0</td>\n",
       "      <td>53.0</td>\n",
       "      <td>19.0</td>\n",
       "      <td>0.0</td>\n",
       "      <td>0.0</td>\n",
       "      <td>6.0</td>\n",
       "      <td>0</td>\n",
       "      <td>3</td>\n",
       "      <td>16</td>\n",
       "    </tr>\n",
       "  </tbody>\n",
       "</table>\n",
       "</div>"
      ],
      "text/plain": [
       "     order_ID     user_ID      sku_ID  order_date             order_time  \\\n",
       "0  d0cf5cc6db  0abe9ef2ce  581d5b54c1  2018-03-01  2018-03-01 17:14:25.0   \n",
       "1  7444318d01  33a9e56257  067b673f2b  2018-03-01  2018-03-01 11:10:40.0   \n",
       "2  f973b01694  4ea3cf408f  623d0a582a  2018-03-01  2018-03-01 09:13:26.0   \n",
       "3  8c1cec8d4b  b87cb736cb  fc5289b139  2018-03-01  2018-03-01 21:29:50.0   \n",
       "4  d43a33c38a  4829223b6f  623d0a582a  2018-03-01  2018-03-01 19:13:37.0   \n",
       "\n",
       "   quantity  type promise  original_unit_price  final_unit_price  \\\n",
       "0         1     2       -                 89.0              79.0   \n",
       "1         1     1       2                 99.9              53.9   \n",
       "2         1     1       2                 78.0              58.5   \n",
       "3         1     1       2                 61.0              35.0   \n",
       "4         1     1       1                 78.0              53.0   \n",
       "\n",
       "   direct_discount_per_unit  quantity_discount_per_unit  \\\n",
       "0                       0.0                        10.0   \n",
       "1                       5.0                        41.0   \n",
       "2                      19.5                         0.0   \n",
       "3                       0.0                        26.0   \n",
       "4                      19.0                         0.0   \n",
       "\n",
       "   bundle_discount_per_unit  coupon_discount_per_unit  gift_item  dc_ori  \\\n",
       "0                       0.0                       0.0          0       4   \n",
       "1                       0.0                       0.0          0      28   \n",
       "2                       0.0                       0.0          0      28   \n",
       "3                       0.0                       0.0          0       4   \n",
       "4                       0.0                       6.0          0       3   \n",
       "\n",
       "   dc_des  \n",
       "0      28  \n",
       "1      28  \n",
       "2      28  \n",
       "3      28  \n",
       "4      16  "
      ]
     },
     "execution_count": 5,
     "metadata": {},
     "output_type": "execute_result"
    }
   ],
   "source": [
    "jd_order.head()"
   ]
  },
  {
   "cell_type": "markdown",
   "id": "c2b91280",
   "metadata": {},
   "source": [
    "4. Explore a single categorical variable"
   ]
  },
  {
   "cell_type": "code",
   "execution_count": 6,
   "id": "4c500677",
   "metadata": {},
   "outputs": [
    {
     "data": {
      "text/plain": [
       "array(['26-35', 'U', '>=56', '36-45', '16-25', '46-55', '<=15'],\n",
       "      dtype=object)"
      ]
     },
     "execution_count": 6,
     "metadata": {},
     "output_type": "execute_result"
    }
   ],
   "source": [
    "jd_user['age'].unique()"
   ]
  },
  {
   "cell_type": "code",
   "execution_count": 8,
   "id": "f85d89c0",
   "metadata": {},
   "outputs": [
    {
     "data": {
      "text/plain": [
       "<bound method Series.info of 0         F\n",
       "1         U\n",
       "2         F\n",
       "3         M\n",
       "4         U\n",
       "         ..\n",
       "457293    U\n",
       "457294    M\n",
       "457295    M\n",
       "457296    F\n",
       "457297    M\n",
       "Name: gender, Length: 457298, dtype: object>"
      ]
     },
     "execution_count": 8,
     "metadata": {},
     "output_type": "execute_result"
    }
   ],
   "source": [
    "# Let's explore the gender variable in users\n",
    "jd_user['gender'].info\n",
    "\n",
    "# value_counts() gives the frequency distribution"
   ]
  },
  {
   "cell_type": "code",
   "execution_count": null,
   "id": "964ce0e4",
   "metadata": {},
   "outputs": [],
   "source": [
    "# Make a bar chart for the frequency distribution\n"
   ]
  },
  {
   "cell_type": "code",
   "execution_count": null,
   "id": "37f0fdd0",
   "metadata": {},
   "outputs": [],
   "source": [
    "# Exercise: explore variable 'age'\n"
   ]
  },
  {
   "cell_type": "code",
   "execution_count": null,
   "id": "1ee9d865",
   "metadata": {},
   "outputs": [],
   "source": []
  },
  {
   "cell_type": "markdown",
   "id": "832e29e4",
   "metadata": {},
   "source": [
    "5. Explore a single inteval variable"
   ]
  },
  {
   "cell_type": "code",
   "execution_count": null,
   "id": "e99d5f50",
   "metadata": {},
   "outputs": [],
   "source": []
  },
  {
   "cell_type": "code",
   "execution_count": null,
   "id": "cf2293f1",
   "metadata": {},
   "outputs": [],
   "source": [
    "# Find quantile or percentile"
   ]
  },
  {
   "cell_type": "code",
   "execution_count": null,
   "id": "0aa1e09f",
   "metadata": {},
   "outputs": [],
   "source": [
    "# Find the records with the maximum price\n",
    "# The max price is an outlier\n",
    "\n",
    "# We use the comparison to slice the original dataset"
   ]
  },
  {
   "cell_type": "code",
   "execution_count": null,
   "id": "8f2d4cb2",
   "metadata": {
    "scrolled": true
   },
   "outputs": [],
   "source": [
    "# A histogram to explore the distribution of the interval variable\n",
    "# original price\n",
    "\n",
    "# The results are strongly affected by the maximum value."
   ]
  },
  {
   "cell_type": "code",
   "execution_count": null,
   "id": "869d1084",
   "metadata": {},
   "outputs": [],
   "source": [
    "# delete the maximum record\n"
   ]
  },
  {
   "cell_type": "code",
   "execution_count": null,
   "id": "394ee09f",
   "metadata": {
    "scrolled": true
   },
   "outputs": [],
   "source": [
    "# The histogram again\n"
   ]
  },
  {
   "cell_type": "code",
   "execution_count": null,
   "id": "9efea411",
   "metadata": {},
   "outputs": [],
   "source": [
    "# Delete the outliers using slicing\n"
   ]
  },
  {
   "cell_type": "code",
   "execution_count": null,
   "id": "a034ed1b",
   "metadata": {},
   "outputs": [],
   "source": []
  },
  {
   "cell_type": "markdown",
   "id": "635b0d5d",
   "metadata": {},
   "source": [
    "6. Explore the relationship between two interval variables"
   ]
  },
  {
   "cell_type": "code",
   "execution_count": null,
   "id": "fb40f683",
   "metadata": {},
   "outputs": [],
   "source": []
  },
  {
   "cell_type": "code",
   "execution_count": null,
   "id": "6f09dec4",
   "metadata": {},
   "outputs": [],
   "source": [
    "# Make a scatterplot to explore the relationship between original and\n",
    "# final price\n"
   ]
  },
  {
   "cell_type": "code",
   "execution_count": null,
   "id": "23765ba1",
   "metadata": {},
   "outputs": [],
   "source": [
    "# A graph package that is built on matplotlib and asthetically better\n"
   ]
  },
  {
   "cell_type": "code",
   "execution_count": null,
   "id": "a32b9484",
   "metadata": {},
   "outputs": [],
   "source": []
  },
  {
   "cell_type": "markdown",
   "id": "6030b955",
   "metadata": {},
   "source": [
    "7. Explore the relationship between an interval variable and a categorical variable"
   ]
  },
  {
   "cell_type": "code",
   "execution_count": null,
   "id": "e9e955be",
   "metadata": {},
   "outputs": [],
   "source": []
  }
 ],
 "metadata": {
  "kernelspec": {
   "display_name": "base",
   "language": "python",
   "name": "python3"
  },
  "language_info": {
   "codemirror_mode": {
    "name": "ipython",
    "version": 3
   },
   "file_extension": ".py",
   "mimetype": "text/x-python",
   "name": "python",
   "nbconvert_exporter": "python",
   "pygments_lexer": "ipython3",
   "version": "3.12.7"
  }
 },
 "nbformat": 4,
 "nbformat_minor": 5
}

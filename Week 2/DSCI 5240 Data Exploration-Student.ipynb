{
 "cells": [
  {
   "cell_type": "markdown",
   "id": "edb5e6f2",
   "metadata": {},
   "source": [
    "### Week 2 Data Exploration"
   ]
  },
  {
   "cell_type": "code",
   "execution_count": 1,
   "id": "6fc2bb24",
   "metadata": {},
   "outputs": [],
   "source": [
    "# This code appears in every demonstration Notebook.\n",
    "# By default, when you run each cell, only the last output of the codes will show.\n",
    "# This code makes all outputs of a cell show.\n",
    "from IPython.core.interactiveshell import InteractiveShell\n",
    "InteractiveShell.ast_node_interactivity = \"all\""
   ]
  },
  {
   "cell_type": "markdown",
   "id": "1f8c655a",
   "metadata": {},
   "source": [
    "We will explore the user and order data from JD.com."
   ]
  },
  {
   "cell_type": "markdown",
   "id": "8b1d070f",
   "metadata": {},
   "source": [
    "1. We import the necessary packages."
   ]
  },
  {
   "cell_type": "code",
   "execution_count": 1,
   "id": "ec5fab6a",
   "metadata": {},
   "outputs": [],
   "source": [
    "import pandas as pd\n",
    "import matplotlib.pyplot as plt"
   ]
  },
  {
   "cell_type": "markdown",
   "id": "4c043205",
   "metadata": {},
   "source": [
    "2. We read in the datasets."
   ]
  },
  {
   "cell_type": "code",
   "execution_count": 2,
   "id": "ce825a29",
   "metadata": {},
   "outputs": [],
   "source": [
    "jd_order = pd.read_csv('JD_order_data.csv')\n",
    "jd_user = pd.read_csv('JD_user_data.csv')"
   ]
  },
  {
   "cell_type": "code",
   "execution_count": 3,
   "id": "493d06c9",
   "metadata": {},
   "outputs": [
    {
     "data": {
      "text/plain": [
       "pandas.core.frame.DataFrame"
      ]
     },
     "execution_count": 3,
     "metadata": {},
     "output_type": "execute_result"
    }
   ],
   "source": [
    "# Make sure it's dataframe\n",
    "type(jd_user)\n",
    "type(jd_order)"
   ]
  },
  {
   "cell_type": "markdown",
   "id": "0b258061",
   "metadata": {},
   "source": [
    "3. Take a look at the data"
   ]
  },
  {
   "cell_type": "code",
   "execution_count": 4,
   "id": "2229862f",
   "metadata": {
    "scrolled": true
   },
   "outputs": [
    {
     "name": "stdout",
     "output_type": "stream",
     "text": [
      "<class 'pandas.core.frame.DataFrame'>\n",
      "RangeIndex: 549989 entries, 0 to 549988\n",
      "Data columns (total 17 columns):\n",
      " #   Column                      Non-Null Count   Dtype  \n",
      "---  ------                      --------------   -----  \n",
      " 0   order_ID                    549989 non-null  object \n",
      " 1   user_ID                     549989 non-null  object \n",
      " 2   sku_ID                      549989 non-null  object \n",
      " 3   order_date                  549989 non-null  object \n",
      " 4   order_time                  549989 non-null  object \n",
      " 5   quantity                    549989 non-null  int64  \n",
      " 6   type                        549989 non-null  int64  \n",
      " 7   promise                     549989 non-null  object \n",
      " 8   original_unit_price         549989 non-null  float64\n",
      " 9   final_unit_price            549989 non-null  float64\n",
      " 10  direct_discount_per_unit    549989 non-null  float64\n",
      " 11  quantity_discount_per_unit  549989 non-null  float64\n",
      " 12  bundle_discount_per_unit    549989 non-null  float64\n",
      " 13  coupon_discount_per_unit    549989 non-null  float64\n",
      " 14  gift_item                   549989 non-null  int64  \n",
      " 15  dc_ori                      549989 non-null  int64  \n",
      " 16  dc_des                      549989 non-null  int64  \n",
      "dtypes: float64(6), int64(5), object(6)\n",
      "memory usage: 71.3+ MB\n",
      "<class 'pandas.core.frame.DataFrame'>\n",
      "RangeIndex: 457298 entries, 0 to 457297\n",
      "Data columns (total 10 columns):\n",
      " #   Column             Non-Null Count   Dtype \n",
      "---  ------             --------------   ----- \n",
      " 0   user_ID            457298 non-null  object\n",
      " 1   user_level         457298 non-null  int64 \n",
      " 2   first_order_month  457298 non-null  object\n",
      " 3   plus               457298 non-null  int64 \n",
      " 4   gender             457298 non-null  object\n",
      " 5   age                457298 non-null  object\n",
      " 6   marital_status     457298 non-null  object\n",
      " 7   education          457298 non-null  int64 \n",
      " 8   city_level         457298 non-null  int64 \n",
      " 9   purchase_power     457298 non-null  int64 \n",
      "dtypes: int64(5), object(5)\n",
      "memory usage: 34.9+ MB\n"
     ]
    }
   ],
   "source": [
    "jd_order.info()\n",
    "jd_user.info()"
   ]
  },
  {
   "cell_type": "code",
   "execution_count": 5,
   "id": "63d17554",
   "metadata": {},
   "outputs": [
    {
     "data": {
      "text/html": [
       "<div>\n",
       "<style scoped>\n",
       "    .dataframe tbody tr th:only-of-type {\n",
       "        vertical-align: middle;\n",
       "    }\n",
       "\n",
       "    .dataframe tbody tr th {\n",
       "        vertical-align: top;\n",
       "    }\n",
       "\n",
       "    .dataframe thead th {\n",
       "        text-align: right;\n",
       "    }\n",
       "</style>\n",
       "<table border=\"1\" class=\"dataframe\">\n",
       "  <thead>\n",
       "    <tr style=\"text-align: right;\">\n",
       "      <th></th>\n",
       "      <th>user_ID</th>\n",
       "      <th>user_level</th>\n",
       "      <th>first_order_month</th>\n",
       "      <th>plus</th>\n",
       "      <th>gender</th>\n",
       "      <th>age</th>\n",
       "      <th>marital_status</th>\n",
       "      <th>education</th>\n",
       "      <th>city_level</th>\n",
       "      <th>purchase_power</th>\n",
       "    </tr>\n",
       "  </thead>\n",
       "  <tbody>\n",
       "    <tr>\n",
       "      <th>0</th>\n",
       "      <td>000089d6a6</td>\n",
       "      <td>1</td>\n",
       "      <td>2017-08</td>\n",
       "      <td>0</td>\n",
       "      <td>F</td>\n",
       "      <td>26-35</td>\n",
       "      <td>S</td>\n",
       "      <td>3</td>\n",
       "      <td>4</td>\n",
       "      <td>3</td>\n",
       "    </tr>\n",
       "    <tr>\n",
       "      <th>1</th>\n",
       "      <td>0000babd1f</td>\n",
       "      <td>1</td>\n",
       "      <td>2018-03</td>\n",
       "      <td>0</td>\n",
       "      <td>U</td>\n",
       "      <td>U</td>\n",
       "      <td>U</td>\n",
       "      <td>-1</td>\n",
       "      <td>-1</td>\n",
       "      <td>-1</td>\n",
       "    </tr>\n",
       "    <tr>\n",
       "      <th>2</th>\n",
       "      <td>0000bc018b</td>\n",
       "      <td>3</td>\n",
       "      <td>2016-06</td>\n",
       "      <td>0</td>\n",
       "      <td>F</td>\n",
       "      <td>&gt;=56</td>\n",
       "      <td>M</td>\n",
       "      <td>3</td>\n",
       "      <td>2</td>\n",
       "      <td>3</td>\n",
       "    </tr>\n",
       "    <tr>\n",
       "      <th>3</th>\n",
       "      <td>0000d0e5ab</td>\n",
       "      <td>3</td>\n",
       "      <td>2014-06</td>\n",
       "      <td>0</td>\n",
       "      <td>M</td>\n",
       "      <td>26-35</td>\n",
       "      <td>M</td>\n",
       "      <td>3</td>\n",
       "      <td>2</td>\n",
       "      <td>2</td>\n",
       "    </tr>\n",
       "    <tr>\n",
       "      <th>4</th>\n",
       "      <td>0000dce472</td>\n",
       "      <td>3</td>\n",
       "      <td>2012-08</td>\n",
       "      <td>1</td>\n",
       "      <td>U</td>\n",
       "      <td>U</td>\n",
       "      <td>U</td>\n",
       "      <td>-1</td>\n",
       "      <td>-1</td>\n",
       "      <td>-1</td>\n",
       "    </tr>\n",
       "  </tbody>\n",
       "</table>\n",
       "</div>"
      ],
      "text/plain": [
       "      user_ID  user_level first_order_month  plus gender    age  \\\n",
       "0  000089d6a6           1           2017-08     0      F  26-35   \n",
       "1  0000babd1f           1           2018-03     0      U      U   \n",
       "2  0000bc018b           3           2016-06     0      F   >=56   \n",
       "3  0000d0e5ab           3           2014-06     0      M  26-35   \n",
       "4  0000dce472           3           2012-08     1      U      U   \n",
       "\n",
       "  marital_status  education  city_level  purchase_power  \n",
       "0              S          3           4               3  \n",
       "1              U         -1          -1              -1  \n",
       "2              M          3           2               3  \n",
       "3              M          3           2               2  \n",
       "4              U         -1          -1              -1  "
      ]
     },
     "execution_count": 5,
     "metadata": {},
     "output_type": "execute_result"
    }
   ],
   "source": [
    "jd_order.head()\n",
    "jd_user.head()"
   ]
  },
  {
   "cell_type": "markdown",
   "id": "c2b91280",
   "metadata": {},
   "source": [
    "4. Explore a single categorical variable"
   ]
  },
  {
   "cell_type": "code",
   "execution_count": 6,
   "id": "0850122e",
   "metadata": {},
   "outputs": [
    {
     "data": {
      "text/plain": [
       "Index(['user_ID', 'user_level', 'first_order_month', 'plus', 'gender', 'age',\n",
       "       'marital_status', 'education', 'city_level', 'purchase_power'],\n",
       "      dtype='object')"
      ]
     },
     "execution_count": 6,
     "metadata": {},
     "output_type": "execute_result"
    }
   ],
   "source": [
    "# Run the columns to see which variables you have\n",
    "jd_user.columns"
   ]
  },
  {
   "cell_type": "code",
   "execution_count": 7,
   "id": "f85d89c0",
   "metadata": {},
   "outputs": [
    {
     "data": {
      "text/plain": [
       "gender\n",
       "F    292897\n",
       "M    107084\n",
       "U     57317\n",
       "Name: count, dtype: int64"
      ]
     },
     "execution_count": 7,
     "metadata": {},
     "output_type": "execute_result"
    }
   ],
   "source": [
    "# Let's explore the gender variable in users\n",
    "jd_user['gender'].value_counts()"
   ]
  },
  {
   "cell_type": "markdown",
   "id": "51f02abc",
   "metadata": {},
   "source": [
    "#### What does this tell us?? As a story!!\n",
    "There are 3 times as many female users, females are doing the shopping"
   ]
  },
  {
   "cell_type": "code",
   "execution_count": 24,
   "id": "70f3a211",
   "metadata": {},
   "outputs": [
    {
     "data": {
      "text/plain": [
       "Text(0.5, 1.0, 'Gender Frequency Distribution')"
      ]
     },
     "execution_count": 24,
     "metadata": {},
     "output_type": "execute_result"
    },
    {
     "data": {
      "image/png": "[encoded data removed]",
      "text/plain": [
       "<Figure size 640x480 with 1 Axes>"
      ]
     },
     "metadata": {},
     "output_type": "display_data"
    }
   ],
   "source": [
    "# Make a bar chart for the frequency distribution\n",
    "gender_frequency = jd_user['gender'].value_counts()\n",
    "\n",
    "# Using only pandas\n",
    "gender_frequency.plot(kind='bar', width = 0.8)\n",
    "\n",
    "# Adjusting x labels with matplotlib\n",
    "plt.xticks(rotation = 0)\n",
    "plt.title('Gender Frequency Distribution')\n"
   ]
  },
  {
   "cell_type": "code",
   "execution_count": 23,
   "id": "964ce0e4",
   "metadata": {},
   "outputs": [
    {
     "data": {
      "text/plain": [
       "Text(0.5, 1.0, 'Age Frequency Distribution')"
      ]
     },
     "execution_count": 23,
     "metadata": {},
     "output_type": "execute_result"
    },
    {
     "data": {
      "image/png": "[encoded data removed]",
      "text/plain": [
       "<Figure size 640x480 with 1 Axes>"
      ]
     },
     "metadata": {},
     "output_type": "display_data"
    }
   ],
   "source": [
    "# Make a bar chart for the frequency distribution for age\n",
    "gender_frequency = jd_user['age'].value_counts()\n",
    "\n",
    "# Using only pandas\n",
    "gender_frequency.plot(kind='bar', color= 'g', width = .9)\n",
    "\n",
    "# Adjusting x labels with matplotlib\n",
    "plt.xticks(rotation = 0)\n",
    "plt.title('Age Frequency Distribution')"
   ]
  },
  {
   "cell_type": "code",
   "execution_count": 10,
   "id": "37f0fdd0",
   "metadata": {},
   "outputs": [],
   "source": [
    "# Exercise: explore variable 'age'\n"
   ]
  },
  {
   "cell_type": "code",
   "execution_count": null,
   "id": "1ee9d865",
   "metadata": {},
   "outputs": [],
   "source": []
  },
  {
   "cell_type": "markdown",
   "id": "832e29e4",
   "metadata": {},
   "source": [
    "5. Explore a single inteval variable"
   ]
  },
  {
   "cell_type": "code",
   "execution_count": null,
   "id": "e99d5f50",
   "metadata": {},
   "outputs": [],
   "source": []
  },
  {
   "cell_type": "code",
   "execution_count": 11,
   "id": "cf2293f1",
   "metadata": {},
   "outputs": [],
   "source": [
    "# Find quantile or percentile"
   ]
  },
  {
   "cell_type": "code",
   "execution_count": 12,
   "id": "0aa1e09f",
   "metadata": {},
   "outputs": [],
   "source": [
    "# Find the records with the maximum price\n",
    "# The max price is an outlier\n",
    "\n",
    "# We use the comparison to slice the original dataset"
   ]
  },
  {
   "cell_type": "code",
   "execution_count": 13,
   "id": "8f2d4cb2",
   "metadata": {
    "scrolled": true
   },
   "outputs": [],
   "source": [
    "# A histogram to explore the distribution of the interval variable\n",
    "# original price\n",
    "\n",
    "# The results are strongly affected by the maximum value."
   ]
  },
  {
   "cell_type": "code",
   "execution_count": 14,
   "id": "869d1084",
   "metadata": {},
   "outputs": [],
   "source": [
    "# delete the maximum record\n"
   ]
  },
  {
   "cell_type": "code",
   "execution_count": 15,
   "id": "394ee09f",
   "metadata": {
    "scrolled": true
   },
   "outputs": [],
   "source": [
    "# The histogram again\n"
   ]
  },
  {
   "cell_type": "code",
   "execution_count": 16,
   "id": "9efea411",
   "metadata": {},
   "outputs": [],
   "source": [
    "# Delete the outliers using slicing\n"
   ]
  },
  {
   "cell_type": "code",
   "execution_count": null,
   "id": "a034ed1b",
   "metadata": {},
   "outputs": [],
   "source": []
  },
  {
   "cell_type": "markdown",
   "id": "635b0d5d",
   "metadata": {},
   "source": [
    "6. Explore the relationship between two interval variables"
   ]
  },
  {
   "cell_type": "code",
   "execution_count": null,
   "id": "fb40f683",
   "metadata": {},
   "outputs": [],
   "source": []
  },
  {
   "cell_type": "code",
   "execution_count": 17,
   "id": "6f09dec4",
   "metadata": {},
   "outputs": [],
   "source": [
    "# Make a scatterplot to explore the relationship between original and\n",
    "# final price\n"
   ]
  },
  {
   "cell_type": "code",
   "execution_count": 18,
   "id": "23765ba1",
   "metadata": {},
   "outputs": [],
   "source": [
    "# A graph package that is built on matplotlib and asthetically better\n"
   ]
  },
  {
   "cell_type": "code",
   "execution_count": null,
   "id": "a32b9484",
   "metadata": {},
   "outputs": [],
   "source": []
  },
  {
   "cell_type": "markdown",
   "id": "6030b955",
   "metadata": {},
   "source": [
    "7. Explore the relationship between an interval variable and a categorical variable"
   ]
  },
  {
   "cell_type": "code",
   "execution_count": null,
   "id": "e9e955be",
   "metadata": {},
   "outputs": [],
   "source": []
  }
 ],
 "metadata": {
  "kernelspec": {
   "display_name": "base",
   "language": "python",
   "name": "python3"
  },
  "language_info": {
   "codemirror_mode": {
    "name": "ipython",
    "version": 3
   },
   "file_extension": ".py",
   "mimetype": "text/x-python",
   "name": "python",
   "nbconvert_exporter": "python",
   "pygments_lexer": "ipython3",
   "version": "3.12.7"
  }
 },
 "nbformat": 4,
 "nbformat_minor": 5
}

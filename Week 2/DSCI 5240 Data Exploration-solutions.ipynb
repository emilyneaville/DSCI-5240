{
 "cells": [
  {
   "cell_type": "markdown",
   "id": "edb5e6f2",
   "metadata": {},
   "source": [
    "### Week 2 Data Exploration"
   ]
  },
  {
   "cell_type": "code",
   "execution_count": 1,
   "id": "6fc2bb24",
   "metadata": {},
   "outputs": [],
   "source": [
    "# This code appears in every demonstration Notebook.\n",
    "# By default, when you run each cell, only the last output of the codes will show.\n",
    "# This code makes all outputs of a cell show.\n",
    "from IPython.core.interactiveshell import InteractiveShell\n",
    "InteractiveShell.ast_node_interactivity = \"all\""
   ]
  },
  {
   "cell_type": "markdown",
   "id": "1f8c655a",
   "metadata": {},
   "source": [
    "We will explore the user and order data from JD.com."
   ]
  },
  {
   "cell_type": "markdown",
   "id": "8b1d070f",
   "metadata": {},
   "source": [
    "1. We import the necessary packages."
   ]
  },
  {
   "cell_type": "code",
   "execution_count": 2,
   "id": "ec5fab6a",
   "metadata": {},
   "outputs": [],
   "source": [
    "import pandas as pd"
   ]
  },
  {
   "cell_type": "markdown",
   "id": "4c043205",
   "metadata": {},
   "source": [
    "2. We read in the datasets."
   ]
  },
  {
   "cell_type": "code",
   "execution_count": 3,
   "id": "ce825a29",
   "metadata": {},
   "outputs": [],
   "source": [
    "users = pd.read_csv('JD_user_data.csv')\n",
    "orders = pd.read_csv('JD_order_data.csv')\n",
    "# users and orders are now dataframes of Pandas"
   ]
  },
  {
   "cell_type": "code",
   "execution_count": 6,
   "id": "bf5b85f6",
   "metadata": {},
   "outputs": [
    {
     "data": {
      "text/plain": [
       "pandas.core.frame.DataFrame"
      ]
     },
     "execution_count": 6,
     "metadata": {},
     "output_type": "execute_result"
    }
   ],
   "source": [
    "type(users)"
   ]
  },
  {
   "cell_type": "markdown",
   "id": "0b258061",
   "metadata": {},
   "source": [
    "3. Take a look at the data"
   ]
  },
  {
   "cell_type": "code",
   "execution_count": 5,
   "id": "2229862f",
   "metadata": {
    "scrolled": true
   },
   "outputs": [
    {
     "data": {
      "text/html": [
       "<div>\n",
       "<style scoped>\n",
       "    .dataframe tbody tr th:only-of-type {\n",
       "        vertical-align: middle;\n",
       "    }\n",
       "\n",
       "    .dataframe tbody tr th {\n",
       "        vertical-align: top;\n",
       "    }\n",
       "\n",
       "    .dataframe thead th {\n",
       "        text-align: right;\n",
       "    }\n",
       "</style>\n",
       "<table border=\"1\" class=\"dataframe\">\n",
       "  <thead>\n",
       "    <tr style=\"text-align: right;\">\n",
       "      <th></th>\n",
       "      <th>user_ID</th>\n",
       "      <th>user_level</th>\n",
       "      <th>first_order_month</th>\n",
       "      <th>plus</th>\n",
       "      <th>gender</th>\n",
       "      <th>age</th>\n",
       "      <th>marital_status</th>\n",
       "      <th>education</th>\n",
       "      <th>city_level</th>\n",
       "      <th>purchase_power</th>\n",
       "    </tr>\n",
       "  </thead>\n",
       "  <tbody>\n",
       "    <tr>\n",
       "      <th>0</th>\n",
       "      <td>000089d6a6</td>\n",
       "      <td>1</td>\n",
       "      <td>2017-08</td>\n",
       "      <td>0</td>\n",
       "      <td>F</td>\n",
       "      <td>26-35</td>\n",
       "      <td>S</td>\n",
       "      <td>3</td>\n",
       "      <td>4</td>\n",
       "      <td>3</td>\n",
       "    </tr>\n",
       "    <tr>\n",
       "      <th>1</th>\n",
       "      <td>0000babd1f</td>\n",
       "      <td>1</td>\n",
       "      <td>2018-03</td>\n",
       "      <td>0</td>\n",
       "      <td>U</td>\n",
       "      <td>U</td>\n",
       "      <td>U</td>\n",
       "      <td>-1</td>\n",
       "      <td>-1</td>\n",
       "      <td>-1</td>\n",
       "    </tr>\n",
       "    <tr>\n",
       "      <th>2</th>\n",
       "      <td>0000bc018b</td>\n",
       "      <td>3</td>\n",
       "      <td>2016-06</td>\n",
       "      <td>0</td>\n",
       "      <td>F</td>\n",
       "      <td>&gt;=56</td>\n",
       "      <td>M</td>\n",
       "      <td>3</td>\n",
       "      <td>2</td>\n",
       "      <td>3</td>\n",
       "    </tr>\n",
       "    <tr>\n",
       "      <th>3</th>\n",
       "      <td>0000d0e5ab</td>\n",
       "      <td>3</td>\n",
       "      <td>2014-06</td>\n",
       "      <td>0</td>\n",
       "      <td>M</td>\n",
       "      <td>26-35</td>\n",
       "      <td>M</td>\n",
       "      <td>3</td>\n",
       "      <td>2</td>\n",
       "      <td>2</td>\n",
       "    </tr>\n",
       "    <tr>\n",
       "      <th>4</th>\n",
       "      <td>0000dce472</td>\n",
       "      <td>3</td>\n",
       "      <td>2012-08</td>\n",
       "      <td>1</td>\n",
       "      <td>U</td>\n",
       "      <td>U</td>\n",
       "      <td>U</td>\n",
       "      <td>-1</td>\n",
       "      <td>-1</td>\n",
       "      <td>-1</td>\n",
       "    </tr>\n",
       "    <tr>\n",
       "      <th>5</th>\n",
       "      <td>0000f81d1b</td>\n",
       "      <td>1</td>\n",
       "      <td>2018-02</td>\n",
       "      <td>0</td>\n",
       "      <td>F</td>\n",
       "      <td>26-35</td>\n",
       "      <td>M</td>\n",
       "      <td>2</td>\n",
       "      <td>3</td>\n",
       "      <td>2</td>\n",
       "    </tr>\n",
       "    <tr>\n",
       "      <th>6</th>\n",
       "      <td>00012bb423</td>\n",
       "      <td>4</td>\n",
       "      <td>2008-11</td>\n",
       "      <td>1</td>\n",
       "      <td>F</td>\n",
       "      <td>26-35</td>\n",
       "      <td>M</td>\n",
       "      <td>4</td>\n",
       "      <td>1</td>\n",
       "      <td>2</td>\n",
       "    </tr>\n",
       "    <tr>\n",
       "      <th>7</th>\n",
       "      <td>00015ff032</td>\n",
       "      <td>3</td>\n",
       "      <td>2015-06</td>\n",
       "      <td>1</td>\n",
       "      <td>M</td>\n",
       "      <td>26-35</td>\n",
       "      <td>M</td>\n",
       "      <td>3</td>\n",
       "      <td>4</td>\n",
       "      <td>1</td>\n",
       "    </tr>\n",
       "    <tr>\n",
       "      <th>8</th>\n",
       "      <td>0001aa7059</td>\n",
       "      <td>4</td>\n",
       "      <td>2014-06</td>\n",
       "      <td>0</td>\n",
       "      <td>F</td>\n",
       "      <td>36-45</td>\n",
       "      <td>M</td>\n",
       "      <td>3</td>\n",
       "      <td>4</td>\n",
       "      <td>2</td>\n",
       "    </tr>\n",
       "    <tr>\n",
       "      <th>9</th>\n",
       "      <td>0001bbdc89</td>\n",
       "      <td>2</td>\n",
       "      <td>2017-12</td>\n",
       "      <td>0</td>\n",
       "      <td>F</td>\n",
       "      <td>16-25</td>\n",
       "      <td>S</td>\n",
       "      <td>3</td>\n",
       "      <td>2</td>\n",
       "      <td>2</td>\n",
       "    </tr>\n",
       "  </tbody>\n",
       "</table>\n",
       "</div>"
      ],
      "text/plain": [
       "      user_ID  user_level first_order_month  plus gender    age  \\\n",
       "0  000089d6a6           1           2017-08     0      F  26-35   \n",
       "1  0000babd1f           1           2018-03     0      U      U   \n",
       "2  0000bc018b           3           2016-06     0      F   >=56   \n",
       "3  0000d0e5ab           3           2014-06     0      M  26-35   \n",
       "4  0000dce472           3           2012-08     1      U      U   \n",
       "5  0000f81d1b           1           2018-02     0      F  26-35   \n",
       "6  00012bb423           4           2008-11     1      F  26-35   \n",
       "7  00015ff032           3           2015-06     1      M  26-35   \n",
       "8  0001aa7059           4           2014-06     0      F  36-45   \n",
       "9  0001bbdc89           2           2017-12     0      F  16-25   \n",
       "\n",
       "  marital_status  education  city_level  purchase_power  \n",
       "0              S          3           4               3  \n",
       "1              U         -1          -1              -1  \n",
       "2              M          3           2               3  \n",
       "3              M          3           2               2  \n",
       "4              U         -1          -1              -1  \n",
       "5              M          2           3               2  \n",
       "6              M          4           1               2  \n",
       "7              M          3           4               1  \n",
       "8              M          3           4               2  \n",
       "9              S          3           2               2  "
      ]
     },
     "execution_count": 5,
     "metadata": {},
     "output_type": "execute_result"
    },
    {
     "data": {
      "text/html": [
       "<div>\n",
       "<style scoped>\n",
       "    .dataframe tbody tr th:only-of-type {\n",
       "        vertical-align: middle;\n",
       "    }\n",
       "\n",
       "    .dataframe tbody tr th {\n",
       "        vertical-align: top;\n",
       "    }\n",
       "\n",
       "    .dataframe thead th {\n",
       "        text-align: right;\n",
       "    }\n",
       "</style>\n",
       "<table border=\"1\" class=\"dataframe\">\n",
       "  <thead>\n",
       "    <tr style=\"text-align: right;\">\n",
       "      <th></th>\n",
       "      <th>order_ID</th>\n",
       "      <th>user_ID</th>\n",
       "      <th>sku_ID</th>\n",
       "      <th>order_date</th>\n",
       "      <th>order_time</th>\n",
       "      <th>quantity</th>\n",
       "      <th>type</th>\n",
       "      <th>promise</th>\n",
       "      <th>original_unit_price</th>\n",
       "      <th>final_unit_price</th>\n",
       "      <th>direct_discount_per_unit</th>\n",
       "      <th>quantity_discount_per_unit</th>\n",
       "      <th>bundle_discount_per_unit</th>\n",
       "      <th>coupon_discount_per_unit</th>\n",
       "      <th>gift_item</th>\n",
       "      <th>dc_ori</th>\n",
       "      <th>dc_des</th>\n",
       "    </tr>\n",
       "  </thead>\n",
       "  <tbody>\n",
       "    <tr>\n",
       "      <th>0</th>\n",
       "      <td>d0cf5cc6db</td>\n",
       "      <td>0abe9ef2ce</td>\n",
       "      <td>581d5b54c1</td>\n",
       "      <td>2018-03-01</td>\n",
       "      <td>2018-03-01 17:14:25.0</td>\n",
       "      <td>1</td>\n",
       "      <td>2</td>\n",
       "      <td>-</td>\n",
       "      <td>89.0</td>\n",
       "      <td>79.0</td>\n",
       "      <td>0.0</td>\n",
       "      <td>10.0</td>\n",
       "      <td>0.0</td>\n",
       "      <td>0.0</td>\n",
       "      <td>0</td>\n",
       "      <td>4</td>\n",
       "      <td>28</td>\n",
       "    </tr>\n",
       "    <tr>\n",
       "      <th>1</th>\n",
       "      <td>7444318d01</td>\n",
       "      <td>33a9e56257</td>\n",
       "      <td>067b673f2b</td>\n",
       "      <td>2018-03-01</td>\n",
       "      <td>2018-03-01 11:10:40.0</td>\n",
       "      <td>1</td>\n",
       "      <td>1</td>\n",
       "      <td>2</td>\n",
       "      <td>99.9</td>\n",
       "      <td>53.9</td>\n",
       "      <td>5.0</td>\n",
       "      <td>41.0</td>\n",
       "      <td>0.0</td>\n",
       "      <td>0.0</td>\n",
       "      <td>0</td>\n",
       "      <td>28</td>\n",
       "      <td>28</td>\n",
       "    </tr>\n",
       "    <tr>\n",
       "      <th>2</th>\n",
       "      <td>f973b01694</td>\n",
       "      <td>4ea3cf408f</td>\n",
       "      <td>623d0a582a</td>\n",
       "      <td>2018-03-01</td>\n",
       "      <td>2018-03-01 09:13:26.0</td>\n",
       "      <td>1</td>\n",
       "      <td>1</td>\n",
       "      <td>2</td>\n",
       "      <td>78.0</td>\n",
       "      <td>58.5</td>\n",
       "      <td>19.5</td>\n",
       "      <td>0.0</td>\n",
       "      <td>0.0</td>\n",
       "      <td>0.0</td>\n",
       "      <td>0</td>\n",
       "      <td>28</td>\n",
       "      <td>28</td>\n",
       "    </tr>\n",
       "    <tr>\n",
       "      <th>3</th>\n",
       "      <td>8c1cec8d4b</td>\n",
       "      <td>b87cb736cb</td>\n",
       "      <td>fc5289b139</td>\n",
       "      <td>2018-03-01</td>\n",
       "      <td>2018-03-01 21:29:50.0</td>\n",
       "      <td>1</td>\n",
       "      <td>1</td>\n",
       "      <td>2</td>\n",
       "      <td>61.0</td>\n",
       "      <td>35.0</td>\n",
       "      <td>0.0</td>\n",
       "      <td>26.0</td>\n",
       "      <td>0.0</td>\n",
       "      <td>0.0</td>\n",
       "      <td>0</td>\n",
       "      <td>4</td>\n",
       "      <td>28</td>\n",
       "    </tr>\n",
       "    <tr>\n",
       "      <th>4</th>\n",
       "      <td>d43a33c38a</td>\n",
       "      <td>4829223b6f</td>\n",
       "      <td>623d0a582a</td>\n",
       "      <td>2018-03-01</td>\n",
       "      <td>2018-03-01 19:13:37.0</td>\n",
       "      <td>1</td>\n",
       "      <td>1</td>\n",
       "      <td>1</td>\n",
       "      <td>78.0</td>\n",
       "      <td>53.0</td>\n",
       "      <td>19.0</td>\n",
       "      <td>0.0</td>\n",
       "      <td>0.0</td>\n",
       "      <td>6.0</td>\n",
       "      <td>0</td>\n",
       "      <td>3</td>\n",
       "      <td>16</td>\n",
       "    </tr>\n",
       "  </tbody>\n",
       "</table>\n",
       "</div>"
      ],
      "text/plain": [
       "     order_ID     user_ID      sku_ID  order_date             order_time  \\\n",
       "0  d0cf5cc6db  0abe9ef2ce  581d5b54c1  2018-03-01  2018-03-01 17:14:25.0   \n",
       "1  7444318d01  33a9e56257  067b673f2b  2018-03-01  2018-03-01 11:10:40.0   \n",
       "2  f973b01694  4ea3cf408f  623d0a582a  2018-03-01  2018-03-01 09:13:26.0   \n",
       "3  8c1cec8d4b  b87cb736cb  fc5289b139  2018-03-01  2018-03-01 21:29:50.0   \n",
       "4  d43a33c38a  4829223b6f  623d0a582a  2018-03-01  2018-03-01 19:13:37.0   \n",
       "\n",
       "   quantity  type promise  original_unit_price  final_unit_price  \\\n",
       "0         1     2       -                 89.0              79.0   \n",
       "1         1     1       2                 99.9              53.9   \n",
       "2         1     1       2                 78.0              58.5   \n",
       "3         1     1       2                 61.0              35.0   \n",
       "4         1     1       1                 78.0              53.0   \n",
       "\n",
       "   direct_discount_per_unit  quantity_discount_per_unit  \\\n",
       "0                       0.0                        10.0   \n",
       "1                       5.0                        41.0   \n",
       "2                      19.5                         0.0   \n",
       "3                       0.0                        26.0   \n",
       "4                      19.0                         0.0   \n",
       "\n",
       "   bundle_discount_per_unit  coupon_discount_per_unit  gift_item  dc_ori  \\\n",
       "0                       0.0                       0.0          0       4   \n",
       "1                       0.0                       0.0          0      28   \n",
       "2                       0.0                       0.0          0      28   \n",
       "3                       0.0                       0.0          0       4   \n",
       "4                       0.0                       6.0          0       3   \n",
       "\n",
       "   dc_des  \n",
       "0      28  \n",
       "1      28  \n",
       "2      28  \n",
       "3      28  \n",
       "4      16  "
      ]
     },
     "execution_count": 5,
     "metadata": {},
     "output_type": "execute_result"
    }
   ],
   "source": [
    "users.head(10)\n",
    "orders.head()\n",
    "# The head() displays a sample of the dataset\n",
    "# The number argument specifies the number of rows to show"
   ]
  },
  {
   "cell_type": "markdown",
   "id": "c2b91280",
   "metadata": {},
   "source": [
    "4. Explore a single categorical variable"
   ]
  },
  {
   "cell_type": "code",
   "execution_count": 7,
   "id": "4c500677",
   "metadata": {},
   "outputs": [
    {
     "data": {
      "text/plain": [
       "Index(['user_ID', 'user_level', 'first_order_month', 'plus', 'gender', 'age',\n",
       "       'marital_status', 'education', 'city_level', 'purchase_power'],\n",
       "      dtype='object')"
      ]
     },
     "execution_count": 7,
     "metadata": {},
     "output_type": "execute_result"
    }
   ],
   "source": [
    "users.columns\n",
    "# Displays the variables of the dataframe"
   ]
  },
  {
   "cell_type": "code",
   "execution_count": 4,
   "id": "d02ff2c5",
   "metadata": {},
   "outputs": [
    {
     "data": {
      "text/plain": [
       "pandas.core.series.Series"
      ]
     },
     "execution_count": 4,
     "metadata": {},
     "output_type": "execute_result"
    }
   ],
   "source": [
    "type(users['gender'])"
   ]
  },
  {
   "cell_type": "code",
   "execution_count": 5,
   "id": "f85d89c0",
   "metadata": {},
   "outputs": [
    {
     "data": {
      "text/plain": [
       "F    292897\n",
       "M    107084\n",
       "U     57317\n",
       "Name: gender, dtype: int64"
      ]
     },
     "execution_count": 5,
     "metadata": {},
     "output_type": "execute_result"
    }
   ],
   "source": [
    "# Let's explore the gender variable in users\n",
    "users['gender'].value_counts()\n",
    "# value_counts() gives the frequency distribution"
   ]
  },
  {
   "cell_type": "code",
   "execution_count": 11,
   "id": "964ce0e4",
   "metadata": {
    "scrolled": true
   },
   "outputs": [
    {
     "data": {
      "text/plain": [
       "<AxesSubplot:>"
      ]
     },
     "execution_count": 11,
     "metadata": {},
     "output_type": "execute_result"
    },
    {
     "data": {
      "image/png": "[encoded data removed]",
      "text/plain": [
       "<Figure size 432x288 with 1 Axes>"
      ]
     },
     "metadata": {
      "needs_background": "light"
     },
     "output_type": "display_data"
    }
   ],
   "source": [
    "# Make a bar chart for the frequency distribution\n",
    "users['gender'].value_counts().plot(kind = 'bar')"
   ]
  },
  {
   "cell_type": "code",
   "execution_count": 7,
   "id": "c603bac1",
   "metadata": {},
   "outputs": [
    {
     "data": {
      "text/plain": [
       "<Figure size 576x360 with 0 Axes>"
      ]
     },
     "execution_count": 7,
     "metadata": {},
     "output_type": "execute_result"
    },
    {
     "data": {
      "text/plain": [
       "Text(0.5, 1.0, 'Frequency Counts by Gender')"
      ]
     },
     "execution_count": 7,
     "metadata": {},
     "output_type": "execute_result"
    },
    {
     "data": {
      "text/plain": [
       "Text(0.5, 0, 'Gender')"
      ]
     },
     "execution_count": 7,
     "metadata": {},
     "output_type": "execute_result"
    },
    {
     "data": {
      "text/plain": [
       "Text(0, 0.5, 'Percentage (%)')"
      ]
     },
     "execution_count": 7,
     "metadata": {},
     "output_type": "execute_result"
    },
    {
     "data": {
      "text/plain": [
       "(0.0, 100.0)"
      ]
     },
     "execution_count": 7,
     "metadata": {},
     "output_type": "execute_result"
    },
    {
     "data": {
      "text/plain": [
       "Text(0.0, 13.53384007802352, '12.5%')"
      ]
     },
     "execution_count": 7,
     "metadata": {},
     "output_type": "execute_result"
    },
    {
     "data": {
      "text/plain": [
       "Text(1.0, 24.416677964915657, '23.4%')"
      ]
     },
     "execution_count": 7,
     "metadata": {},
     "output_type": "execute_result"
    },
    {
     "data": {
      "text/plain": [
       "Text(2.0, 65.04948195706083, '64.0%')"
      ]
     },
     "execution_count": 7,
     "metadata": {},
     "output_type": "execute_result"
    },
    {
     "data": {
      "image/png": "[encoded data removed]",
      "text/plain": [
       "<Figure size 576x360 with 1 Axes>"
      ]
     },
     "metadata": {
      "needs_background": "light"
     },
     "output_type": "display_data"
    }
   ],
   "source": [
    "import matplotlib.pyplot as plt\n",
    "# Make a bar chart for the frequency distribution\n",
    "# Get the value counts\n",
    "gender_counts = users['gender'].value_counts()\n",
    "\n",
    "# Step 2: Calculate percentages\n",
    "total = gender_counts.sum()\n",
    "percentages = (gender_counts / total * 100).sort_values()  # Sort by percentage values\n",
    "\n",
    "# Step 3: Create a bar chart\n",
    "plt.figure(figsize=(8, 5))\n",
    "bars = plt.bar(percentages.index, percentages.values, color=['blue', 'pink', 'green'])\n",
    "\n",
    "# Add labels and title\n",
    "plt.title('Frequency Counts by Gender', fontsize=16)\n",
    "plt.xlabel('Gender', fontsize=12)\n",
    "plt.ylabel('Percentage (%)', fontsize=12)\n",
    "plt.ylim(0, 100)  # Ensure the y-axis ranges from 0 to 100\n",
    "\n",
    "# Add percentage labels above the bars\n",
    "for bar, percentage in zip(bars, percentages.values):\n",
    "    plt.text(bar.get_x() + bar.get_width() / 2, bar.get_height() + 1, f'{percentage:.1f}%', ha='center', fontsize=10)\n",
    "\n",
    "# Display the chart\n",
    "plt.tight_layout()\n",
    "plt.show()"
   ]
  },
  {
   "cell_type": "code",
   "execution_count": 14,
   "id": "37f0fdd0",
   "metadata": {
    "scrolled": true
   },
   "outputs": [
    {
     "data": {
      "text/plain": [
       "26-35    183239\n",
       "16-25    103306\n",
       "36-45     81076\n",
       "U         56457\n",
       "46-55     18679\n",
       ">=56      14517\n",
       "<=15         24\n",
       "Name: age, dtype: int64"
      ]
     },
     "execution_count": 14,
     "metadata": {},
     "output_type": "execute_result"
    },
    {
     "data": {
      "text/plain": [
       "<AxesSubplot:>"
      ]
     },
     "execution_count": 14,
     "metadata": {},
     "output_type": "execute_result"
    },
    {
     "data": {
      "image/png": "[encoded data removed]",
      "text/plain": [
       "<Figure size 432x288 with 1 Axes>"
      ]
     },
     "metadata": {
      "needs_background": "light"
     },
     "output_type": "display_data"
    }
   ],
   "source": [
    "# Exercise: explore variable 'age'\n",
    "users['age'].value_counts()\n",
    "users['age'].value_counts().plot(kind = 'bar')"
   ]
  },
  {
   "cell_type": "code",
   "execution_count": 17,
   "id": "e2eb9ade",
   "metadata": {},
   "outputs": [
    {
     "data": {
      "text/plain": [
       "pandas.core.series.Series"
      ]
     },
     "execution_count": 17,
     "metadata": {},
     "output_type": "execute_result"
    }
   ],
   "source": [
    "ageDis = users['age'].value_counts(sort = False)\n",
    "type(ageDis)"
   ]
  },
  {
   "cell_type": "code",
   "execution_count": 18,
   "id": "31ce9137",
   "metadata": {},
   "outputs": [
    {
     "data": {
      "text/plain": [
       "Index(['46-55', '<=15', '36-45', '>=56', '16-25', '26-35', 'U'], dtype='object')"
      ]
     },
     "execution_count": 18,
     "metadata": {},
     "output_type": "execute_result"
    }
   ],
   "source": [
    "ageDis.index\n",
    "# index of a Pandas Series is the category names"
   ]
  },
  {
   "cell_type": "code",
   "execution_count": 18,
   "id": "ee2480f0",
   "metadata": {},
   "outputs": [
    {
     "data": {
      "text/plain": [
       "array([183239, 103306,  81076,  56457,  18679,  14517,     24],\n",
       "      dtype=int64)"
      ]
     },
     "execution_count": 18,
     "metadata": {},
     "output_type": "execute_result"
    }
   ],
   "source": [
    "ageDis.values\n",
    "# values are the corresponding values"
   ]
  },
  {
   "cell_type": "code",
   "execution_count": 11,
   "id": "1ee9d865",
   "metadata": {},
   "outputs": [
    {
     "data": {
      "text/plain": [
       "<BarContainer object of 7 artists>"
      ]
     },
     "execution_count": 11,
     "metadata": {},
     "output_type": "execute_result"
    },
    {
     "data": {
      "text/plain": [
       "Text(0.5, 0, 'Age')"
      ]
     },
     "execution_count": 11,
     "metadata": {},
     "output_type": "execute_result"
    },
    {
     "data": {
      "text/plain": [
       "Text(0, 0.5, 'Values')"
      ]
     },
     "execution_count": 11,
     "metadata": {},
     "output_type": "execute_result"
    },
    {
     "data": {
      "text/plain": [
       "Text(0.5, 1.0, 'Age Graph')"
      ]
     },
     "execution_count": 11,
     "metadata": {},
     "output_type": "execute_result"
    },
    {
     "data": {
      "image/png": "[encoded data removed]",
      "text/plain": [
       "<Figure size 432x288 with 1 Axes>"
      ]
     },
     "metadata": {
      "needs_background": "light"
     },
     "output_type": "display_data"
    }
   ],
   "source": [
    "# Import the graph package matplotlib\n",
    "import matplotlib.pyplot as plt\n",
    "# Define a color palette\n",
    "green_palette = ['limegreen', 'forestgreen', 'green', 'darkgreen']\n",
    "\n",
    "# the graph\n",
    "plt.bar(ageDis.index, ageDis.values, color=green_palette)\n",
    "\n",
    "\n",
    "# Set labels and title\n",
    "plt.xlabel('Age')\n",
    "plt.ylabel('Values')\n",
    "plt.title('Age Graph')\n",
    "\n",
    "# Show the plot\n",
    "plt.show()"
   ]
  },
  {
   "cell_type": "markdown",
   "id": "832e29e4",
   "metadata": {},
   "source": [
    "5. Explore a single inteval variable"
   ]
  },
  {
   "cell_type": "code",
   "execution_count": 22,
   "id": "cbea3761",
   "metadata": {},
   "outputs": [
    {
     "data": {
      "text/plain": [
       "Index(['order_ID', 'user_ID', 'sku_ID', 'order_date', 'order_time', 'quantity',\n",
       "       'type', 'promise', 'original_unit_price', 'final_unit_price',\n",
       "       'direct_discount_per_unit', 'quantity_discount_per_unit',\n",
       "       'bundle_discount_per_unit', 'coupon_discount_per_unit', 'gift_item',\n",
       "       'dc_ori', 'dc_des'],\n",
       "      dtype='object')"
      ]
     },
     "execution_count": 22,
     "metadata": {},
     "output_type": "execute_result"
    }
   ],
   "source": [
    "orders.columns"
   ]
  },
  {
   "cell_type": "code",
   "execution_count": 23,
   "id": "905f9820",
   "metadata": {},
   "outputs": [
    {
     "data": {
      "text/plain": [
       "count    549989.000000\n",
       "mean        102.813542\n",
       "std          95.035563\n",
       "min           0.000000\n",
       "25%          59.000000\n",
       "50%          79.000000\n",
       "75%         139.000000\n",
       "max       12158.000000\n",
       "Name: original_unit_price, dtype: float64"
      ]
     },
     "execution_count": 23,
     "metadata": {},
     "output_type": "execute_result"
    }
   ],
   "source": [
    "orders['original_unit_price'].describe()"
   ]
  },
  {
   "cell_type": "code",
   "execution_count": 24,
   "id": "b6860930",
   "metadata": {},
   "outputs": [],
   "source": [
    "import numpy as np\n",
    "# import numpy for math functions"
   ]
  },
  {
   "cell_type": "code",
   "execution_count": 27,
   "id": "61722cbd",
   "metadata": {},
   "outputs": [
    {
     "data": {
      "text/plain": [
       "9031.741770288845"
      ]
     },
     "execution_count": 27,
     "metadata": {},
     "output_type": "execute_result"
    }
   ],
   "source": [
    "np.var(orders['original_unit_price'])"
   ]
  },
  {
   "cell_type": "code",
   "execution_count": null,
   "id": "cf2293f1",
   "metadata": {},
   "outputs": [],
   "source": [
    "# Find quantile or percentile"
   ]
  },
  {
   "cell_type": "code",
   "execution_count": 9,
   "id": "0aa1e09f",
   "metadata": {},
   "outputs": [
    {
     "data": {
      "text/html": [
       "<div>\n",
       "<style scoped>\n",
       "    .dataframe tbody tr th:only-of-type {\n",
       "        vertical-align: middle;\n",
       "    }\n",
       "\n",
       "    .dataframe tbody tr th {\n",
       "        vertical-align: top;\n",
       "    }\n",
       "\n",
       "    .dataframe thead th {\n",
       "        text-align: right;\n",
       "    }\n",
       "</style>\n",
       "<table border=\"1\" class=\"dataframe\">\n",
       "  <thead>\n",
       "    <tr style=\"text-align: right;\">\n",
       "      <th></th>\n",
       "      <th>order_ID</th>\n",
       "      <th>user_ID</th>\n",
       "      <th>sku_ID</th>\n",
       "      <th>order_date</th>\n",
       "      <th>order_time</th>\n",
       "      <th>quantity</th>\n",
       "      <th>type</th>\n",
       "      <th>promise</th>\n",
       "      <th>original_unit_price</th>\n",
       "      <th>final_unit_price</th>\n",
       "      <th>direct_discount_per_unit</th>\n",
       "      <th>quantity_discount_per_unit</th>\n",
       "      <th>bundle_discount_per_unit</th>\n",
       "      <th>coupon_discount_per_unit</th>\n",
       "      <th>gift_item</th>\n",
       "      <th>dc_ori</th>\n",
       "      <th>dc_des</th>\n",
       "    </tr>\n",
       "  </thead>\n",
       "  <tbody>\n",
       "    <tr>\n",
       "      <th>52720</th>\n",
       "      <td>a63239c796</td>\n",
       "      <td>b695af3c92</td>\n",
       "      <td>1904d943c0</td>\n",
       "      <td>2018-03-03</td>\n",
       "      <td>2018-03-03 14:56:01.0</td>\n",
       "      <td>1</td>\n",
       "      <td>2</td>\n",
       "      <td>-</td>\n",
       "      <td>12158.0</td>\n",
       "      <td>12158.0</td>\n",
       "      <td>0.0</td>\n",
       "      <td>0.0</td>\n",
       "      <td>0.0</td>\n",
       "      <td>0.0</td>\n",
       "      <td>0</td>\n",
       "      <td>9</td>\n",
       "      <td>32</td>\n",
       "    </tr>\n",
       "  </tbody>\n",
       "</table>\n",
       "</div>"
      ],
      "text/plain": [
       "         order_ID     user_ID      sku_ID  order_date             order_time  \\\n",
       "52720  a63239c796  b695af3c92  1904d943c0  2018-03-03  2018-03-03 14:56:01.0   \n",
       "\n",
       "       quantity  type promise  original_unit_price  final_unit_price  \\\n",
       "52720         1     2       -              12158.0           12158.0   \n",
       "\n",
       "       direct_discount_per_unit  quantity_discount_per_unit  \\\n",
       "52720                       0.0                         0.0   \n",
       "\n",
       "       bundle_discount_per_unit  coupon_discount_per_unit  gift_item  dc_ori  \\\n",
       "52720                       0.0                       0.0          0       9   \n",
       "\n",
       "       dc_des  \n",
       "52720      32  "
      ]
     },
     "execution_count": 9,
     "metadata": {},
     "output_type": "execute_result"
    },
    {
     "data": {
      "text/html": [
       "<div>\n",
       "<style scoped>\n",
       "    .dataframe tbody tr th:only-of-type {\n",
       "        vertical-align: middle;\n",
       "    }\n",
       "\n",
       "    .dataframe tbody tr th {\n",
       "        vertical-align: top;\n",
       "    }\n",
       "\n",
       "    .dataframe thead th {\n",
       "        text-align: right;\n",
       "    }\n",
       "</style>\n",
       "<table border=\"1\" class=\"dataframe\">\n",
       "  <thead>\n",
       "    <tr style=\"text-align: right;\">\n",
       "      <th></th>\n",
       "      <th>order_ID</th>\n",
       "      <th>user_ID</th>\n",
       "      <th>sku_ID</th>\n",
       "      <th>order_date</th>\n",
       "      <th>order_time</th>\n",
       "      <th>quantity</th>\n",
       "      <th>type</th>\n",
       "      <th>promise</th>\n",
       "      <th>original_unit_price</th>\n",
       "      <th>final_unit_price</th>\n",
       "      <th>direct_discount_per_unit</th>\n",
       "      <th>quantity_discount_per_unit</th>\n",
       "      <th>bundle_discount_per_unit</th>\n",
       "      <th>coupon_discount_per_unit</th>\n",
       "      <th>gift_item</th>\n",
       "      <th>dc_ori</th>\n",
       "      <th>dc_des</th>\n",
       "    </tr>\n",
       "  </thead>\n",
       "  <tbody>\n",
       "    <tr>\n",
       "      <th>22</th>\n",
       "      <td>d63faad1e8</td>\n",
       "      <td>1aa3eb1f80</td>\n",
       "      <td>6420ea9ac2</td>\n",
       "      <td>2018-03-01</td>\n",
       "      <td>2018-03-01 18:55:36.0</td>\n",
       "      <td>1</td>\n",
       "      <td>1</td>\n",
       "      <td>1</td>\n",
       "      <td>579.0</td>\n",
       "      <td>391.0</td>\n",
       "      <td>30.0</td>\n",
       "      <td>126.0</td>\n",
       "      <td>0.0</td>\n",
       "      <td>32.0</td>\n",
       "      <td>0</td>\n",
       "      <td>3</td>\n",
       "      <td>16</td>\n",
       "    </tr>\n",
       "    <tr>\n",
       "      <th>721</th>\n",
       "      <td>d6ce7b3b92</td>\n",
       "      <td>7a09f91ae2</td>\n",
       "      <td>6420ea9ac2</td>\n",
       "      <td>2018-03-01</td>\n",
       "      <td>2018-03-01 09:25:23.0</td>\n",
       "      <td>1</td>\n",
       "      <td>1</td>\n",
       "      <td>1</td>\n",
       "      <td>579.0</td>\n",
       "      <td>415.0</td>\n",
       "      <td>30.0</td>\n",
       "      <td>134.0</td>\n",
       "      <td>0.0</td>\n",
       "      <td>0.0</td>\n",
       "      <td>0</td>\n",
       "      <td>20</td>\n",
       "      <td>20</td>\n",
       "    </tr>\n",
       "    <tr>\n",
       "      <th>1175</th>\n",
       "      <td>749e71e066</td>\n",
       "      <td>3dbc52c012</td>\n",
       "      <td>6420ea9ac2</td>\n",
       "      <td>2018-03-01</td>\n",
       "      <td>2018-03-01 09:41:54.0</td>\n",
       "      <td>1</td>\n",
       "      <td>1</td>\n",
       "      <td>2</td>\n",
       "      <td>579.0</td>\n",
       "      <td>375.0</td>\n",
       "      <td>0.0</td>\n",
       "      <td>163.0</td>\n",
       "      <td>0.0</td>\n",
       "      <td>41.0</td>\n",
       "      <td>0</td>\n",
       "      <td>9</td>\n",
       "      <td>32</td>\n",
       "    </tr>\n",
       "    <tr>\n",
       "      <th>1205</th>\n",
       "      <td>9d463ca358</td>\n",
       "      <td>3c5083f6a9</td>\n",
       "      <td>6420ea9ac2</td>\n",
       "      <td>2018-03-01</td>\n",
       "      <td>2018-03-01 01:10:15.0</td>\n",
       "      <td>1</td>\n",
       "      <td>1</td>\n",
       "      <td>2</td>\n",
       "      <td>579.0</td>\n",
       "      <td>438.0</td>\n",
       "      <td>0.0</td>\n",
       "      <td>141.0</td>\n",
       "      <td>0.0</td>\n",
       "      <td>0.0</td>\n",
       "      <td>0</td>\n",
       "      <td>9</td>\n",
       "      <td>32</td>\n",
       "    </tr>\n",
       "    <tr>\n",
       "      <th>1411</th>\n",
       "      <td>5d47c2595a</td>\n",
       "      <td>f5b128fe3f</td>\n",
       "      <td>6420ea9ac2</td>\n",
       "      <td>2018-03-01</td>\n",
       "      <td>2018-03-01 06:15:07.0</td>\n",
       "      <td>1</td>\n",
       "      <td>1</td>\n",
       "      <td>3</td>\n",
       "      <td>579.0</td>\n",
       "      <td>392.0</td>\n",
       "      <td>30.0</td>\n",
       "      <td>129.0</td>\n",
       "      <td>0.0</td>\n",
       "      <td>28.0</td>\n",
       "      <td>0</td>\n",
       "      <td>9</td>\n",
       "      <td>25</td>\n",
       "    </tr>\n",
       "    <tr>\n",
       "      <th>...</th>\n",
       "      <td>...</td>\n",
       "      <td>...</td>\n",
       "      <td>...</td>\n",
       "      <td>...</td>\n",
       "      <td>...</td>\n",
       "      <td>...</td>\n",
       "      <td>...</td>\n",
       "      <td>...</td>\n",
       "      <td>...</td>\n",
       "      <td>...</td>\n",
       "      <td>...</td>\n",
       "      <td>...</td>\n",
       "      <td>...</td>\n",
       "      <td>...</td>\n",
       "      <td>...</td>\n",
       "      <td>...</td>\n",
       "      <td>...</td>\n",
       "    </tr>\n",
       "    <tr>\n",
       "      <th>544518</th>\n",
       "      <td>3847186c2b</td>\n",
       "      <td>778fa608ba</td>\n",
       "      <td>6a0f1004bb</td>\n",
       "      <td>2018-03-31</td>\n",
       "      <td>2018-03-31 12:38:20.0</td>\n",
       "      <td>1</td>\n",
       "      <td>1</td>\n",
       "      <td>2</td>\n",
       "      <td>681.0</td>\n",
       "      <td>680.0</td>\n",
       "      <td>1.0</td>\n",
       "      <td>0.0</td>\n",
       "      <td>0.0</td>\n",
       "      <td>0.0</td>\n",
       "      <td>0</td>\n",
       "      <td>4</td>\n",
       "      <td>28</td>\n",
       "    </tr>\n",
       "    <tr>\n",
       "      <th>545752</th>\n",
       "      <td>075fec40c2</td>\n",
       "      <td>08246ccc7c</td>\n",
       "      <td>e49b988234</td>\n",
       "      <td>2018-03-31</td>\n",
       "      <td>2018-03-31 19:34:41.0</td>\n",
       "      <td>1</td>\n",
       "      <td>2</td>\n",
       "      <td>-</td>\n",
       "      <td>545.0</td>\n",
       "      <td>490.0</td>\n",
       "      <td>30.0</td>\n",
       "      <td>5.0</td>\n",
       "      <td>0.0</td>\n",
       "      <td>20.0</td>\n",
       "      <td>0</td>\n",
       "      <td>9</td>\n",
       "      <td>9</td>\n",
       "    </tr>\n",
       "    <tr>\n",
       "      <th>546817</th>\n",
       "      <td>b1895e6295</td>\n",
       "      <td>569c27a14a</td>\n",
       "      <td>6a0f1004bb</td>\n",
       "      <td>2018-03-31</td>\n",
       "      <td>2018-03-31 12:24:01.0</td>\n",
       "      <td>1</td>\n",
       "      <td>1</td>\n",
       "      <td>2</td>\n",
       "      <td>681.0</td>\n",
       "      <td>680.0</td>\n",
       "      <td>1.0</td>\n",
       "      <td>0.0</td>\n",
       "      <td>0.0</td>\n",
       "      <td>0.0</td>\n",
       "      <td>0</td>\n",
       "      <td>4</td>\n",
       "      <td>28</td>\n",
       "    </tr>\n",
       "    <tr>\n",
       "      <th>549011</th>\n",
       "      <td>5a585a244e</td>\n",
       "      <td>fcf8bef47d</td>\n",
       "      <td>699a9f2cad</td>\n",
       "      <td>2018-03-31</td>\n",
       "      <td>2018-03-31 08:47:19.0</td>\n",
       "      <td>1</td>\n",
       "      <td>2</td>\n",
       "      <td>-</td>\n",
       "      <td>868.0</td>\n",
       "      <td>868.0</td>\n",
       "      <td>0.0</td>\n",
       "      <td>0.0</td>\n",
       "      <td>0.0</td>\n",
       "      <td>0.0</td>\n",
       "      <td>0</td>\n",
       "      <td>10</td>\n",
       "      <td>11</td>\n",
       "    </tr>\n",
       "    <tr>\n",
       "      <th>549319</th>\n",
       "      <td>5ef53c318d</td>\n",
       "      <td>bceaa77f10</td>\n",
       "      <td>586a05c7df</td>\n",
       "      <td>2018-03-31</td>\n",
       "      <td>2018-03-31 13:14:38.0</td>\n",
       "      <td>1</td>\n",
       "      <td>2</td>\n",
       "      <td>4</td>\n",
       "      <td>520.0</td>\n",
       "      <td>355.0</td>\n",
       "      <td>162.0</td>\n",
       "      <td>0.0</td>\n",
       "      <td>0.0</td>\n",
       "      <td>3.0</td>\n",
       "      <td>0</td>\n",
       "      <td>10</td>\n",
       "      <td>10</td>\n",
       "    </tr>\n",
       "  </tbody>\n",
       "</table>\n",
       "<p>714 rows × 17 columns</p>\n",
       "</div>"
      ],
      "text/plain": [
       "          order_ID     user_ID      sku_ID  order_date             order_time  \\\n",
       "22      d63faad1e8  1aa3eb1f80  6420ea9ac2  2018-03-01  2018-03-01 18:55:36.0   \n",
       "721     d6ce7b3b92  7a09f91ae2  6420ea9ac2  2018-03-01  2018-03-01 09:25:23.0   \n",
       "1175    749e71e066  3dbc52c012  6420ea9ac2  2018-03-01  2018-03-01 09:41:54.0   \n",
       "1205    9d463ca358  3c5083f6a9  6420ea9ac2  2018-03-01  2018-03-01 01:10:15.0   \n",
       "1411    5d47c2595a  f5b128fe3f  6420ea9ac2  2018-03-01  2018-03-01 06:15:07.0   \n",
       "...            ...         ...         ...         ...                    ...   \n",
       "544518  3847186c2b  778fa608ba  6a0f1004bb  2018-03-31  2018-03-31 12:38:20.0   \n",
       "545752  075fec40c2  08246ccc7c  e49b988234  2018-03-31  2018-03-31 19:34:41.0   \n",
       "546817  b1895e6295  569c27a14a  6a0f1004bb  2018-03-31  2018-03-31 12:24:01.0   \n",
       "549011  5a585a244e  fcf8bef47d  699a9f2cad  2018-03-31  2018-03-31 08:47:19.0   \n",
       "549319  5ef53c318d  bceaa77f10  586a05c7df  2018-03-31  2018-03-31 13:14:38.0   \n",
       "\n",
       "        quantity  type promise  original_unit_price  final_unit_price  \\\n",
       "22             1     1       1                579.0             391.0   \n",
       "721            1     1       1                579.0             415.0   \n",
       "1175           1     1       2                579.0             375.0   \n",
       "1205           1     1       2                579.0             438.0   \n",
       "1411           1     1       3                579.0             392.0   \n",
       "...          ...   ...     ...                  ...               ...   \n",
       "544518         1     1       2                681.0             680.0   \n",
       "545752         1     2       -                545.0             490.0   \n",
       "546817         1     1       2                681.0             680.0   \n",
       "549011         1     2       -                868.0             868.0   \n",
       "549319         1     2       4                520.0             355.0   \n",
       "\n",
       "        direct_discount_per_unit  quantity_discount_per_unit  \\\n",
       "22                          30.0                       126.0   \n",
       "721                         30.0                       134.0   \n",
       "1175                         0.0                       163.0   \n",
       "1205                         0.0                       141.0   \n",
       "1411                        30.0                       129.0   \n",
       "...                          ...                         ...   \n",
       "544518                       1.0                         0.0   \n",
       "545752                      30.0                         5.0   \n",
       "546817                       1.0                         0.0   \n",
       "549011                       0.0                         0.0   \n",
       "549319                     162.0                         0.0   \n",
       "\n",
       "        bundle_discount_per_unit  coupon_discount_per_unit  gift_item  dc_ori  \\\n",
       "22                           0.0                      32.0          0       3   \n",
       "721                          0.0                       0.0          0      20   \n",
       "1175                         0.0                      41.0          0       9   \n",
       "1205                         0.0                       0.0          0       9   \n",
       "1411                         0.0                      28.0          0       9   \n",
       "...                          ...                       ...        ...     ...   \n",
       "544518                       0.0                       0.0          0       4   \n",
       "545752                       0.0                      20.0          0       9   \n",
       "546817                       0.0                       0.0          0       4   \n",
       "549011                       0.0                       0.0          0      10   \n",
       "549319                       0.0                       3.0          0      10   \n",
       "\n",
       "        dc_des  \n",
       "22          16  \n",
       "721         20  \n",
       "1175        32  \n",
       "1205        32  \n",
       "1411        25  \n",
       "...        ...  \n",
       "544518      28  \n",
       "545752       9  \n",
       "546817      28  \n",
       "549011      11  \n",
       "549319      10  \n",
       "\n",
       "[714 rows x 17 columns]"
      ]
     },
     "execution_count": 9,
     "metadata": {},
     "output_type": "execute_result"
    }
   ],
   "source": [
    "# Find the records with the maximum price\n",
    "# The max price is an outlier\n",
    "orders[orders['original_unit_price'] == 12158]\n",
    "orders[orders['original_unit_price'] > 500]\n",
    "# We use the comparison to slice the original dataset"
   ]
  },
  {
   "cell_type": "code",
   "execution_count": 30,
   "id": "8f2d4cb2",
   "metadata": {
    "scrolled": true
   },
   "outputs": [
    {
     "data": {
      "text/plain": [
       "(array([5.49971e+05, 5.00000e+00, 2.00000e+00, 1.00000e+00, 2.00000e+00,\n",
       "        2.00000e+00, 2.00000e+00, 0.00000e+00, 1.00000e+00, 3.00000e+00]),\n",
       " array([    0. ,  1215.8,  2431.6,  3647.4,  4863.2,  6079. ,  7294.8,\n",
       "         8510.6,  9726.4, 10942.2, 12158. ]),\n",
       " <BarContainer object of 10 artists>)"
      ]
     },
     "execution_count": 30,
     "metadata": {},
     "output_type": "execute_result"
    },
    {
     "data": {
      "image/png": "[encoded data removed]",
      "text/plain": [
       "<Figure size 432x288 with 1 Axes>"
      ]
     },
     "metadata": {
      "needs_background": "light"
     },
     "output_type": "display_data"
    }
   ],
   "source": [
    "# A histogram to explore the distribution of the interval variable\n",
    "# original price\n",
    "plt.hist(orders['original_unit_price'])\n",
    "# The results are strongly affected by the maximum value."
   ]
  },
  {
   "cell_type": "code",
   "execution_count": 31,
   "id": "869d1084",
   "metadata": {},
   "outputs": [],
   "source": [
    "# delete the maximum record\n",
    "orders = orders[orders['original_unit_price'] != 12158]"
   ]
  },
  {
   "cell_type": "code",
   "execution_count": 32,
   "id": "394ee09f",
   "metadata": {
    "scrolled": true
   },
   "outputs": [
    {
     "data": {
      "text/plain": [
       "(array([5.49965e+05, 1.10000e+01, 2.00000e+00, 0.00000e+00, 1.00000e+00,\n",
       "        2.00000e+00, 3.00000e+00, 1.00000e+00, 0.00000e+00, 3.00000e+00]),\n",
       " array([    0. ,  1104.6,  2209.2,  3313.8,  4418.4,  5523. ,  6627.6,\n",
       "         7732.2,  8836.8,  9941.4, 11046. ]),\n",
       " <BarContainer object of 10 artists>)"
      ]
     },
     "execution_count": 32,
     "metadata": {},
     "output_type": "execute_result"
    },
    {
     "data": {
      "image/png": "[encoded data removed]",
      "text/plain": [
       "<Figure size 432x288 with 1 Axes>"
      ]
     },
     "metadata": {
      "needs_background": "light"
     },
     "output_type": "display_data"
    }
   ],
   "source": [
    "# The histogram again\n",
    "plt.hist(orders['original_unit_price'])"
   ]
  },
  {
   "cell_type": "code",
   "execution_count": 32,
   "id": "2150a85b",
   "metadata": {},
   "outputs": [
    {
     "data": {
      "text/plain": [
       "738.0"
      ]
     },
     "execution_count": 32,
     "metadata": {},
     "output_type": "execute_result"
    }
   ],
   "source": [
    "orders['original_unit_price'].quantile(0.9999)"
   ]
  },
  {
   "cell_type": "code",
   "execution_count": 26,
   "id": "fc1137da",
   "metadata": {},
   "outputs": [
    {
     "data": {
      "text/plain": [
       "102.81354199497737"
      ]
     },
     "execution_count": 26,
     "metadata": {},
     "output_type": "execute_result"
    }
   ],
   "source": [
    "orders['original_unit_price'].mean()"
   ]
  },
  {
   "cell_type": "code",
   "execution_count": 27,
   "id": "483fefbb",
   "metadata": {},
   "outputs": [
    {
     "data": {
      "text/plain": [
       "95.03556277518332"
      ]
     },
     "execution_count": 27,
     "metadata": {},
     "output_type": "execute_result"
    }
   ],
   "source": [
    "orders['original_unit_price'].std()"
   ]
  },
  {
   "cell_type": "code",
   "execution_count": 28,
   "id": "90105883",
   "metadata": {},
   "outputs": [],
   "source": [
    "up = orders['original_unit_price'].mean() + 3 * orders['original_unit_price'].std()\n",
    "down = orders['original_unit_price'].mean() - 3 * orders['original_unit_price'].std()"
   ]
  },
  {
   "cell_type": "code",
   "execution_count": 29,
   "id": "c4c63601",
   "metadata": {},
   "outputs": [
    {
     "name": "stdout",
     "output_type": "stream",
     "text": [
      "387.9202303205273 -182.2931463305726\n"
     ]
    }
   ],
   "source": [
    "print(up, down)"
   ]
  },
  {
   "cell_type": "code",
   "execution_count": 33,
   "id": "645b3ab0",
   "metadata": {},
   "outputs": [],
   "source": [
    "normal_price = orders[orders['original_unit_price'] < 388]"
   ]
  },
  {
   "cell_type": "code",
   "execution_count": 34,
   "id": "999b09a8",
   "metadata": {},
   "outputs": [
    {
     "data": {
      "text/plain": [
       "(array([107222., 119175., 143434.,  69727.,  35921.,  16537.,  16975.,\n",
       "         31718.,   5087.,   1087.]),\n",
       " array([  0. ,  38.5,  77. , 115.5, 154. , 192.5, 231. , 269.5, 308. ,\n",
       "        346.5, 385. ]),\n",
       " <BarContainer object of 10 artists>)"
      ]
     },
     "execution_count": 34,
     "metadata": {},
     "output_type": "execute_result"
    },
    {
     "data": {
      "image/png": "[encoded data removed]",
      "text/plain": [
       "<Figure size 432x288 with 1 Axes>"
      ]
     },
     "metadata": {
      "needs_background": "light"
     },
     "output_type": "display_data"
    }
   ],
   "source": [
    "plt.hist(normal_price['original_unit_price'])"
   ]
  },
  {
   "cell_type": "code",
   "execution_count": 35,
   "id": "4f080e30",
   "metadata": {},
   "outputs": [],
   "source": [
    "import numpy as np"
   ]
  },
  {
   "cell_type": "code",
   "execution_count": null,
   "id": "490edab8",
   "metadata": {},
   "outputs": [],
   "source": [
    "normal_price['log_original_price'] = np.log(normal_price['original_unit_price'] + 1)"
   ]
  },
  {
   "cell_type": "code",
   "execution_count": 38,
   "id": "8751ff20",
   "metadata": {
    "scrolled": true
   },
   "outputs": [
    {
     "data": {
      "text/plain": [
       "(array([9.46030e+04, 1.40000e+01, 5.00000e+00, 1.52000e+02, 3.01700e+03,\n",
       "        6.70200e+03, 6.54790e+04, 1.99949e+05, 1.18832e+05, 5.81300e+04]),\n",
       " array([0.        , 0.59558374, 1.19116747, 1.78675121, 2.38233495,\n",
       "        2.97791868, 3.57350242, 4.16908616, 4.7646699 , 5.36025363,\n",
       "        5.95583737]),\n",
       " <BarContainer object of 10 artists>)"
      ]
     },
     "execution_count": 38,
     "metadata": {},
     "output_type": "execute_result"
    },
    {
     "data": {
      "image/png": "[encoded data removed]",
      "text/plain": [
       "<Figure size 432x288 with 1 Axes>"
      ]
     },
     "metadata": {
      "needs_background": "light"
     },
     "output_type": "display_data"
    }
   ],
   "source": [
    "plt.hist(normal_price['log_original_price'])"
   ]
  },
  {
   "cell_type": "markdown",
   "id": "ab7d907e",
   "metadata": {},
   "source": [
    "5. Create a scatterplot"
   ]
  },
  {
   "cell_type": "code",
   "execution_count": 45,
   "id": "47fa3962",
   "metadata": {},
   "outputs": [
    {
     "data": {
      "text/plain": [
       "<Figure size 576x432 with 0 Axes>"
      ]
     },
     "execution_count": 45,
     "metadata": {},
     "output_type": "execute_result"
    },
    {
     "data": {
      "text/plain": [
       "<matplotlib.collections.PathCollection at 0x16c48fa9580>"
      ]
     },
     "execution_count": 45,
     "metadata": {},
     "output_type": "execute_result"
    },
    {
     "data": {
      "text/plain": [
       "<AxesSubplot:xlabel='original_unit_price', ylabel='final_unit_price'>"
      ]
     },
     "execution_count": 45,
     "metadata": {},
     "output_type": "execute_result"
    },
    {
     "data": {
      "image/png": "[encoded data removed]",
      "text/plain": [
       "<Figure size 576x432 with 1 Axes>"
      ]
     },
     "metadata": {
      "needs_background": "light"
     },
     "output_type": "display_data"
    }
   ],
   "source": [
    "plt.figure(figsize=(8, 6))\n",
    "plt.scatter(normal_price['original_unit_price'], normal_price['final_unit_price'],)\n",
    "sns.regplot(x='original_unit_price', y='final_unit_price', data=normal_price, ci=None, line_kws={'color': 'red'})\n",
    "import seaborn as sns"
   ]
  },
  {
   "cell_type": "markdown",
   "id": "96cd087f",
   "metadata": {},
   "source": [
    "6. Create boxplots across categories"
   ]
  },
  {
   "cell_type": "code",
   "execution_count": 47,
   "id": "b43c1d1d",
   "metadata": {},
   "outputs": [
    {
     "data": {
      "text/plain": [
       "<AxesSubplot:title={'center':'original_unit_price'}, xlabel='type'>"
      ]
     },
     "execution_count": 47,
     "metadata": {},
     "output_type": "execute_result"
    },
    {
     "data": {
      "image/png": "[encoded data removed]",
      "text/plain": [
       "<Figure size 432x288 with 1 Axes>"
      ]
     },
     "metadata": {
      "needs_background": "light"
     },
     "output_type": "display_data"
    }
   ],
   "source": [
    "normal_price.boxplot(column='original_unit_price', by='type', grid=False)"
   ]
  },
  {
   "cell_type": "code",
   "execution_count": 49,
   "id": "15b705d0",
   "metadata": {},
   "outputs": [
    {
     "data": {
      "text/plain": [
       "<AxesSubplot:xlabel='type', ylabel='original_unit_price'>"
      ]
     },
     "execution_count": 49,
     "metadata": {},
     "output_type": "execute_result"
    },
    {
     "data": {
      "image/png": "[encoded data removed]",
      "text/plain": [
       "<Figure size 432x288 with 1 Axes>"
      ]
     },
     "metadata": {
      "needs_background": "light"
     },
     "output_type": "display_data"
    }
   ],
   "source": [
    "sns.boxplot(x = 'type', y = 'original_unit_price', data = normal_price)"
   ]
  },
  {
   "cell_type": "code",
   "execution_count": 50,
   "id": "03286551",
   "metadata": {},
   "outputs": [
    {
     "data": {
      "text/plain": [
       "<AxesSubplot:xlabel='type', ylabel='original_unit_price'>"
      ]
     },
     "execution_count": 50,
     "metadata": {},
     "output_type": "execute_result"
    },
    {
     "data": {
      "image/png": "[encoded data removed]",
      "text/plain": [
       "<Figure size 432x288 with 1 Axes>"
      ]
     },
     "metadata": {
      "needs_background": "light"
     },
     "output_type": "display_data"
    }
   ],
   "source": [
    "sns.violinplot(x = 'type', y = 'original_unit_price', data = normal_price)"
   ]
  },
  {
   "cell_type": "code",
   "execution_count": 51,
   "id": "6f078171",
   "metadata": {},
   "outputs": [
    {
     "data": {
      "text/plain": [
       "array([2, 1], dtype=int64)"
      ]
     },
     "execution_count": 51,
     "metadata": {},
     "output_type": "execute_result"
    }
   ],
   "source": [
    "normal_price['type'].unique()"
   ]
  }
 ],
 "metadata": {
  "kernelspec": {
   "display_name": "Python 3",
   "language": "python",
   "name": "python3"
  },
  "language_info": {
   "codemirror_mode": {
    "name": "ipython",
    "version": 3
   },
   "file_extension": ".py",
   "mimetype": "text/x-python",
   "name": "python",
   "nbconvert_exporter": "python",
   "pygments_lexer": "ipython3",
   "version": "3.8.8"
  }
 },
 "nbformat": 4,
 "nbformat_minor": 5
}

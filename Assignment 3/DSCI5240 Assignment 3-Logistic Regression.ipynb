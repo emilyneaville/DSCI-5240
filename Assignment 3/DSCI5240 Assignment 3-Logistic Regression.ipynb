{
 "cells": [
  {
   "cell_type": "markdown",
   "id": "7108d478",
   "metadata": {},
   "source": [
    "### Assignment 3 - Logistic Regression"
   ]
  },
  {
   "cell_type": "code",
   "execution_count": 1,
   "id": "bdf76d52",
   "metadata": {},
   "outputs": [],
   "source": [
    "# This code appears in every demonstration Notebook.\n",
    "# By default, when you run each cell, only the last output of the codes will show.\n",
    "# This code makes all outputs of a cell show.\n",
    "from IPython.core.interactiveshell import InteractiveShell\n",
    "InteractiveShell.ast_node_interactivity = \"all\""
   ]
  },
  {
   "cell_type": "markdown",
   "id": "e5e823a5",
   "metadata": {},
   "source": [
    "In this assignment, we will build logistic regression models to detect accounting fraud using financial statement features. <br>\n",
    "The data was collected by Bao et al. (2020) based on the detected material accounting misstatements disclosed in the SEC’s Accounting and Auditing Enforcement Releases (AAERs). <br>\n",
    "The dataset covers all publicly listed U.S. firms over the period 1990– 2014. The variable name of the fraud label is \"misstate\" (1 denotes fraud, and 0 denotes non-fraud). <br>\n",
    "We will use both raw financial data from the financial statements and the financial ratios that are used to evaluate the financial performance of a company for detection.<br>\n",
    "\n",
    "You may find the description of variables in the Word document."
   ]
  },
  {
   "cell_type": "markdown",
   "id": "277bdd60",
   "metadata": {},
   "source": [
    "The description of the 28 raw accounting variables:\\\n",
    "act -- Current Assets, Total\\\n",
    "ap -- Account Payable, Trade\\\n",
    "at -- Assets, Total\\\n",
    "ceq - -Common/Ordinary Equity, Total\\\n",
    "che -- Cash and Short-Term Investments\\\n",
    "cogs -- Cost of Goods Sold\\\n",
    "csho -- Common Shares Outstanding\\\n",
    "dlc -- Debt in Current Liabilities, Total\\\n",
    "dltis -- Long-Term Debt Issuance\\\n",
    "dltt -- Long-Term Debt, Total\\\n",
    "dp -- Depreciation and Amortization\\\n",
    "ib -- Income Before Extraordinary Items\\\n",
    "invt -- Inventories, Total\\\n",
    "ivao -- Investment and Advances, Other\\\n",
    "ivst -- Short-Term Investments, Total\\\n",
    "lct -- Current Liabilities, Total\\\n",
    "lt -- Liabilities, Total\\\n",
    "ni -- Net Income (Loss)\\\n",
    "ppegt -- Property, Plant and Equipment, Total\\\n",
    "pstk -- Preferred/Preference Stock (Capital), Total\\\n",
    "re -- Retained Earnings\\\n",
    "rect -- Receivables, Total\\\n",
    "sale -- Sales/Turnover (Net)\\\n",
    "sstk -- Sale of Common and Preferred Stock\\\n",
    "txp -- Income Taxes Payable\\\n",
    "txt -- Income Taxes, Total\\\n",
    "xint -- Interest and Related Expense, Total\\\n",
    "prcc_f -- Price Close, Annual, Fiscal\n",
    "\n",
    "The description of the 14 financial ratio variables:\\\n",
    "dch_wc -- WC accruals\\\n",
    "ch_rsst -- RSST accruals\\\n",
    "dch_rec -- Change in receivables\\\n",
    "dch_inv -- Change in inventory\\\n",
    "soft_assset -- % Soft assets\\\n",
    "dpi -- Depreciation index\\\n",
    "ch_cs -- Change in cash sales\\\n",
    "ch_cm -- Change in cash margin\\\n",
    "ch_roa -- Change in return on assets\\\n",
    "ch_fcf -- Change in free cash flows\\\n",
    "reoa -- Retained earnings over total assets\\\n",
    "EBIT -- Earnings before interest and taxes over total assets\\\n",
    "issue -- Actual issuance\\\n",
    "bm -- Book-to-market"
   ]
  },
  {
   "cell_type": "markdown",
   "id": "ac71c155",
   "metadata": {},
   "source": [
    "1. Import the libraries"
   ]
  },
  {
   "cell_type": "code",
   "execution_count": 2,
   "id": "1a6afeaa",
   "metadata": {},
   "outputs": [],
   "source": [
    "import pandas as pd\n",
    "import numpy as np\n",
    "import statsmodels.api as sm\n",
    "import sklearn.linear_model as lm\n",
    "import matplotlib.pyplot as plt\n",
    "import seaborn as sns"
   ]
  },
  {
   "cell_type": "markdown",
   "id": "9c370c37",
   "metadata": {},
   "source": [
    "2. Read in the dataset and display basic information about the dataset."
   ]
  },
  {
   "cell_type": "code",
   "execution_count": 3,
   "id": "2b453ba3",
   "metadata": {
    "scrolled": true
   },
   "outputs": [],
   "source": [
    "# Loading in the dataset\n",
    "accounting_df = pd.read_csv('Datasets/AccountingFraud.csv')"
   ]
  },
  {
   "cell_type": "code",
   "execution_count": 4,
   "id": "65f88a34",
   "metadata": {},
   "outputs": [
    {
     "name": "stdout",
     "output_type": "stream",
     "text": [
      "(146045, 44)\n"
     ]
    },
    {
     "data": {
      "application/vnd.microsoft.datawrangler.viewer.v0+json": {
       "columns": [
        {
         "name": "index",
         "rawType": "int64",
         "type": "integer"
        },
        {
         "name": "fyear",
         "rawType": "int64",
         "type": "integer"
        },
        {
         "name": "misstate",
         "rawType": "int64",
         "type": "integer"
        },
        {
         "name": "act",
         "rawType": "float64",
         "type": "float"
        },
        {
         "name": "ap",
         "rawType": "float64",
         "type": "float"
        },
        {
         "name": "at",
         "rawType": "float64",
         "type": "float"
        },
        {
         "name": "ceq",
         "rawType": "float64",
         "type": "float"
        },
        {
         "name": "che",
         "rawType": "float64",
         "type": "float"
        },
        {
         "name": "cogs",
         "rawType": "float64",
         "type": "float"
        },
        {
         "name": "csho",
         "rawType": "float64",
         "type": "float"
        },
        {
         "name": "dlc",
         "rawType": "float64",
         "type": "float"
        },
        {
         "name": "dltis",
         "rawType": "float64",
         "type": "float"
        },
        {
         "name": "dltt",
         "rawType": "float64",
         "type": "float"
        },
        {
         "name": "dp",
         "rawType": "float64",
         "type": "float"
        },
        {
         "name": "ib",
         "rawType": "float64",
         "type": "float"
        },
        {
         "name": "invt",
         "rawType": "float64",
         "type": "float"
        },
        {
         "name": "ivao",
         "rawType": "float64",
         "type": "float"
        },
        {
         "name": "ivst",
         "rawType": "float64",
         "type": "float"
        },
        {
         "name": "lct",
         "rawType": "float64",
         "type": "float"
        },
        {
         "name": "lt",
         "rawType": "float64",
         "type": "float"
        },
        {
         "name": "ni",
         "rawType": "float64",
         "type": "float"
        },
        {
         "name": "ppegt",
         "rawType": "float64",
         "type": "float"
        },
        {
         "name": "pstk",
         "rawType": "float64",
         "type": "float"
        },
        {
         "name": "re",
         "rawType": "float64",
         "type": "float"
        },
        {
         "name": "rect",
         "rawType": "float64",
         "type": "float"
        },
        {
         "name": "sale",
         "rawType": "float64",
         "type": "float"
        },
        {
         "name": "sstk",
         "rawType": "float64",
         "type": "float"
        },
        {
         "name": "txp",
         "rawType": "float64",
         "type": "float"
        },
        {
         "name": "txt",
         "rawType": "float64",
         "type": "float"
        },
        {
         "name": "xint",
         "rawType": "float64",
         "type": "float"
        },
        {
         "name": "prcc_f",
         "rawType": "float64",
         "type": "float"
        },
        {
         "name": "dch_wc",
         "rawType": "float64",
         "type": "float"
        },
        {
         "name": "ch_rsst",
         "rawType": "float64",
         "type": "float"
        },
        {
         "name": "dch_rec",
         "rawType": "float64",
         "type": "float"
        },
        {
         "name": "dch_inv",
         "rawType": "float64",
         "type": "float"
        },
        {
         "name": "soft_assets",
         "rawType": "float64",
         "type": "float"
        },
        {
         "name": "ch_cs",
         "rawType": "float64",
         "type": "float"
        },
        {
         "name": "ch_cm",
         "rawType": "float64",
         "type": "float"
        },
        {
         "name": "ch_roa",
         "rawType": "float64",
         "type": "float"
        },
        {
         "name": "issue",
         "rawType": "int64",
         "type": "integer"
        },
        {
         "name": "bm",
         "rawType": "float64",
         "type": "float"
        },
        {
         "name": "dpi",
         "rawType": "float64",
         "type": "float"
        },
        {
         "name": "reoa",
         "rawType": "float64",
         "type": "float"
        },
        {
         "name": "EBIT",
         "rawType": "float64",
         "type": "float"
        },
        {
         "name": "ch_fcf",
         "rawType": "float64",
         "type": "float"
        }
       ],
       "conversionMethod": "pd.DataFrame",
       "ref": "225a93df-7dd9-48fc-8e84-dc594c7a6666",
       "rows": [
        [
         "0",
         "1990",
         "0",
         "10.047",
         "3.736",
         "32.335",
         "6.262",
         "0.002",
         "30.633",
         "2.526",
         "3.283",
         "32.853",
         "17.691",
         "1.971",
         "1.431",
         "2.355",
         "0.0",
         "0.0",
         "8.382",
         "26.073",
         "2.135",
         "31.767",
         "0.0",
         "5.42",
         "6.895",
         "40.522",
         "0.0",
         "0.0",
         "0.769",
         "2.333",
         "6.0",
         "0.069594687",
         "0.046042722",
         "0.041934821",
         "0.033034369",
         "0.312447812",
         "0.09508151",
         "0.082631422",
         "-0.019760947",
         "1",
         "0.413169833",
         "0.87355485",
         "0.167620226",
         "0.161960724",
         "-0.042140216"
        ],
        [
         "1",
         "1990",
         "0",
         "1.247",
         "0.803",
         "7.784",
         "0.667",
         "0.171",
         "1.125",
         "3.556",
         "0.021",
         "2.017",
         "5.871",
         "0.7",
         "-1.869",
         "0.663",
         "0.132",
         "0.0",
         "1.246",
         "7.117",
         "-1.869",
         "7.328",
         "0.0",
         "-3.339",
         "0.29",
         "3.635",
         "0.006",
         "0.0",
         "0.0",
         "0.64",
         "1.188",
         "-0.065603645",
         "-0.240937195",
         "-0.006247966",
         "-0.026684022",
         "0.315904419",
         "0.188831504",
         "-0.211389481",
         "-0.117832439",
         "1",
         "0.157887461",
         "0.74513922",
         "-0.428956835",
         "-0.157887975",
         "0.10022779"
        ],
        [
         "2",
         "1990",
         "0",
         "55.04",
         "3.601",
         "118.12",
         "44.393",
         "3.132",
         "107.343",
         "3.882",
         "6.446",
         "6.5",
         "37.603",
         "6.271",
         "1.722",
         "4.292",
         "12.989",
         "2.913",
         "32.615",
         "73.727",
         "2.574",
         "78.331",
         "0.0",
         "46.63",
         "47.366",
         "144.258",
         "0.0",
         "0.0",
         "0.986",
         "3.962",
         "5.125",
         "0.092822472",
         "0.02014263",
         "0.002156408",
         "0.002745988",
         "0.605342025",
         "0.097550936",
         "-0.105779791",
         "0.091205983",
         "1",
         "2.231336626",
         "1.01513135",
         "0.394768033",
         "0.063681002",
         "0.066347917"
        ],
        [
         "3",
         "1990",
         "0",
         "24.684",
         "3.948",
         "34.591",
         "7.751",
         "0.411",
         "31.214",
         "4.755",
         "8.791",
         "0.587",
         "8.906",
         "1.325",
         "0.422",
         "15.463",
         "0.0",
         "0.0",
         "16.208",
         "25.545",
         "0.422",
         "11.145",
         "1.295",
         "3.28",
         "8.522",
         "48.292",
         "0.0",
         "0.448",
         "0.365",
         "2.269",
         "1.562",
         "0.014059652",
         "0.035120201",
         "0.035583071",
         "0.008331646",
         "0.793067561",
         "-0.005725392",
         "-0.24970367",
         "0.017545067",
         "1",
         "1.043581509",
         "1.02626103",
         "0.094822353",
         "0.08834668",
         "-0.017357595"
        ],
        [
         "4",
         "1990",
         "0",
         "17.325",
         "3.52",
         "27.542",
         "-12.142",
         "1.017",
         "32.662",
         "6.735",
         "32.206",
         "0.0",
         "0.266",
         "2.711",
         "-23.577",
         "8.971",
         "0.0",
         "0.0",
         "39.418",
         "39.684",
         "-22.812",
         "5.782",
         "0.0",
         "-25.955",
         "6.354",
         "33.543",
         "0.0",
         "0.0",
         "0.0",
         "3.51",
         "1.125",
         "-0.540503062",
         "-0.575324525",
         "-0.10215323",
         "-0.222021888",
         "0.869181614",
         "-0.231536476",
         "-1.674893256",
         "-0.466666554",
         "0",
         "-1.60250763",
         "0.598443224",
         "-0.942378912",
         "-0.700820565",
         "0.13034937"
        ]
       ],
       "shape": {
        "columns": 44,
        "rows": 5
       }
      },
      "text/html": [
       "<div>\n",
       "<style scoped>\n",
       "    .dataframe tbody tr th:only-of-type {\n",
       "        vertical-align: middle;\n",
       "    }\n",
       "\n",
       "    .dataframe tbody tr th {\n",
       "        vertical-align: top;\n",
       "    }\n",
       "\n",
       "    .dataframe thead th {\n",
       "        text-align: right;\n",
       "    }\n",
       "</style>\n",
       "<table border=\"1\" class=\"dataframe\">\n",
       "  <thead>\n",
       "    <tr style=\"text-align: right;\">\n",
       "      <th></th>\n",
       "      <th>fyear</th>\n",
       "      <th>misstate</th>\n",
       "      <th>act</th>\n",
       "      <th>ap</th>\n",
       "      <th>at</th>\n",
       "      <th>ceq</th>\n",
       "      <th>che</th>\n",
       "      <th>cogs</th>\n",
       "      <th>csho</th>\n",
       "      <th>dlc</th>\n",
       "      <th>...</th>\n",
       "      <th>soft_assets</th>\n",
       "      <th>ch_cs</th>\n",
       "      <th>ch_cm</th>\n",
       "      <th>ch_roa</th>\n",
       "      <th>issue</th>\n",
       "      <th>bm</th>\n",
       "      <th>dpi</th>\n",
       "      <th>reoa</th>\n",
       "      <th>EBIT</th>\n",
       "      <th>ch_fcf</th>\n",
       "    </tr>\n",
       "  </thead>\n",
       "  <tbody>\n",
       "    <tr>\n",
       "      <th>0</th>\n",
       "      <td>1990</td>\n",
       "      <td>0</td>\n",
       "      <td>10.047</td>\n",
       "      <td>3.736</td>\n",
       "      <td>32.335</td>\n",
       "      <td>6.262</td>\n",
       "      <td>0.002</td>\n",
       "      <td>30.633</td>\n",
       "      <td>2.526</td>\n",
       "      <td>3.283</td>\n",
       "      <td>...</td>\n",
       "      <td>0.312448</td>\n",
       "      <td>0.095082</td>\n",
       "      <td>0.082631</td>\n",
       "      <td>-0.019761</td>\n",
       "      <td>1</td>\n",
       "      <td>0.413170</td>\n",
       "      <td>0.873555</td>\n",
       "      <td>0.167620</td>\n",
       "      <td>0.161961</td>\n",
       "      <td>-0.042140</td>\n",
       "    </tr>\n",
       "    <tr>\n",
       "      <th>1</th>\n",
       "      <td>1990</td>\n",
       "      <td>0</td>\n",
       "      <td>1.247</td>\n",
       "      <td>0.803</td>\n",
       "      <td>7.784</td>\n",
       "      <td>0.667</td>\n",
       "      <td>0.171</td>\n",
       "      <td>1.125</td>\n",
       "      <td>3.556</td>\n",
       "      <td>0.021</td>\n",
       "      <td>...</td>\n",
       "      <td>0.315904</td>\n",
       "      <td>0.188832</td>\n",
       "      <td>-0.211389</td>\n",
       "      <td>-0.117832</td>\n",
       "      <td>1</td>\n",
       "      <td>0.157887</td>\n",
       "      <td>0.745139</td>\n",
       "      <td>-0.428957</td>\n",
       "      <td>-0.157888</td>\n",
       "      <td>0.100228</td>\n",
       "    </tr>\n",
       "    <tr>\n",
       "      <th>2</th>\n",
       "      <td>1990</td>\n",
       "      <td>0</td>\n",
       "      <td>55.040</td>\n",
       "      <td>3.601</td>\n",
       "      <td>118.120</td>\n",
       "      <td>44.393</td>\n",
       "      <td>3.132</td>\n",
       "      <td>107.343</td>\n",
       "      <td>3.882</td>\n",
       "      <td>6.446</td>\n",
       "      <td>...</td>\n",
       "      <td>0.605342</td>\n",
       "      <td>0.097551</td>\n",
       "      <td>-0.105780</td>\n",
       "      <td>0.091206</td>\n",
       "      <td>1</td>\n",
       "      <td>2.231337</td>\n",
       "      <td>1.015131</td>\n",
       "      <td>0.394768</td>\n",
       "      <td>0.063681</td>\n",
       "      <td>0.066348</td>\n",
       "    </tr>\n",
       "    <tr>\n",
       "      <th>3</th>\n",
       "      <td>1990</td>\n",
       "      <td>0</td>\n",
       "      <td>24.684</td>\n",
       "      <td>3.948</td>\n",
       "      <td>34.591</td>\n",
       "      <td>7.751</td>\n",
       "      <td>0.411</td>\n",
       "      <td>31.214</td>\n",
       "      <td>4.755</td>\n",
       "      <td>8.791</td>\n",
       "      <td>...</td>\n",
       "      <td>0.793068</td>\n",
       "      <td>-0.005725</td>\n",
       "      <td>-0.249704</td>\n",
       "      <td>0.017545</td>\n",
       "      <td>1</td>\n",
       "      <td>1.043582</td>\n",
       "      <td>1.026261</td>\n",
       "      <td>0.094822</td>\n",
       "      <td>0.088347</td>\n",
       "      <td>-0.017358</td>\n",
       "    </tr>\n",
       "    <tr>\n",
       "      <th>4</th>\n",
       "      <td>1990</td>\n",
       "      <td>0</td>\n",
       "      <td>17.325</td>\n",
       "      <td>3.520</td>\n",
       "      <td>27.542</td>\n",
       "      <td>-12.142</td>\n",
       "      <td>1.017</td>\n",
       "      <td>32.662</td>\n",
       "      <td>6.735</td>\n",
       "      <td>32.206</td>\n",
       "      <td>...</td>\n",
       "      <td>0.869182</td>\n",
       "      <td>-0.231536</td>\n",
       "      <td>-1.674893</td>\n",
       "      <td>-0.466667</td>\n",
       "      <td>0</td>\n",
       "      <td>-1.602508</td>\n",
       "      <td>0.598443</td>\n",
       "      <td>-0.942379</td>\n",
       "      <td>-0.700821</td>\n",
       "      <td>0.130349</td>\n",
       "    </tr>\n",
       "  </tbody>\n",
       "</table>\n",
       "<p>5 rows × 44 columns</p>\n",
       "</div>"
      ],
      "text/plain": [
       "   fyear  misstate     act     ap       at     ceq    che     cogs   csho  \\\n",
       "0   1990         0  10.047  3.736   32.335   6.262  0.002   30.633  2.526   \n",
       "1   1990         0   1.247  0.803    7.784   0.667  0.171    1.125  3.556   \n",
       "2   1990         0  55.040  3.601  118.120  44.393  3.132  107.343  3.882   \n",
       "3   1990         0  24.684  3.948   34.591   7.751  0.411   31.214  4.755   \n",
       "4   1990         0  17.325  3.520   27.542 -12.142  1.017   32.662  6.735   \n",
       "\n",
       "      dlc  ...  soft_assets     ch_cs     ch_cm    ch_roa  issue        bm  \\\n",
       "0   3.283  ...     0.312448  0.095082  0.082631 -0.019761      1  0.413170   \n",
       "1   0.021  ...     0.315904  0.188832 -0.211389 -0.117832      1  0.157887   \n",
       "2   6.446  ...     0.605342  0.097551 -0.105780  0.091206      1  2.231337   \n",
       "3   8.791  ...     0.793068 -0.005725 -0.249704  0.017545      1  1.043582   \n",
       "4  32.206  ...     0.869182 -0.231536 -1.674893 -0.466667      0 -1.602508   \n",
       "\n",
       "        dpi      reoa      EBIT    ch_fcf  \n",
       "0  0.873555  0.167620  0.161961 -0.042140  \n",
       "1  0.745139 -0.428957 -0.157888  0.100228  \n",
       "2  1.015131  0.394768  0.063681  0.066348  \n",
       "3  1.026261  0.094822  0.088347 -0.017358  \n",
       "4  0.598443 -0.942379 -0.700821  0.130349  \n",
       "\n",
       "[5 rows x 44 columns]"
      ]
     },
     "execution_count": 4,
     "metadata": {},
     "output_type": "execute_result"
    }
   ],
   "source": [
    "# Preview dataset and row/column count\n",
    "print(accounting_df.shape)\n",
    "accounting_df.head()"
   ]
  },
  {
   "cell_type": "code",
   "execution_count": 5,
   "id": "c6654e8d",
   "metadata": {},
   "outputs": [
    {
     "name": "stdout",
     "output_type": "stream",
     "text": [
      "<class 'pandas.core.frame.DataFrame'>\n",
      "RangeIndex: 146045 entries, 0 to 146044\n",
      "Data columns (total 44 columns):\n",
      " #   Column       Non-Null Count   Dtype  \n",
      "---  ------       --------------   -----  \n",
      " 0   fyear        146045 non-null  int64  \n",
      " 1   misstate     146045 non-null  int64  \n",
      " 2   act          146045 non-null  float64\n",
      " 3   ap           146045 non-null  float64\n",
      " 4   at           146045 non-null  float64\n",
      " 5   ceq          146045 non-null  float64\n",
      " 6   che          146045 non-null  float64\n",
      " 7   cogs         146045 non-null  float64\n",
      " 8   csho         146045 non-null  float64\n",
      " 9   dlc          146045 non-null  float64\n",
      " 10  dltis        146045 non-null  float64\n",
      " 11  dltt         146045 non-null  float64\n",
      " 12  dp           146045 non-null  float64\n",
      " 13  ib           146045 non-null  float64\n",
      " 14  invt         146045 non-null  float64\n",
      " 15  ivao         146045 non-null  float64\n",
      " 16  ivst         146045 non-null  float64\n",
      " 17  lct          146045 non-null  float64\n",
      " 18  lt           146045 non-null  float64\n",
      " 19  ni           146045 non-null  float64\n",
      " 20  ppegt        146045 non-null  float64\n",
      " 21  pstk         146045 non-null  float64\n",
      " 22  re           146045 non-null  float64\n",
      " 23  rect         146045 non-null  float64\n",
      " 24  sale         146045 non-null  float64\n",
      " 25  sstk         146045 non-null  float64\n",
      " 26  txp          146045 non-null  float64\n",
      " 27  txt          146045 non-null  float64\n",
      " 28  xint         146045 non-null  float64\n",
      " 29  prcc_f       146045 non-null  float64\n",
      " 30  dch_wc       141286 non-null  float64\n",
      " 31  ch_rsst      141194 non-null  float64\n",
      " 32  dch_rec      141302 non-null  float64\n",
      " 33  dch_inv      141430 non-null  float64\n",
      " 34  soft_assets  145453 non-null  float64\n",
      " 35  ch_cs        130127 non-null  float64\n",
      " 36  ch_cm        128938 non-null  float64\n",
      " 37  ch_roa       133367 non-null  float64\n",
      " 38  issue        146045 non-null  int64  \n",
      " 39  bm           146027 non-null  float64\n",
      " 40  dpi          136817 non-null  float64\n",
      " 41  reoa         145454 non-null  float64\n",
      " 42  EBIT         145454 non-null  float64\n",
      " 43  ch_fcf       140638 non-null  float64\n",
      "dtypes: float64(41), int64(3)\n",
      "memory usage: 49.0 MB\n"
     ]
    }
   ],
   "source": [
    "# Dtypes and row counts\n",
    "accounting_df.info()"
   ]
  },
  {
   "cell_type": "code",
   "execution_count": 6,
   "id": "c6c39cb3",
   "metadata": {},
   "outputs": [
    {
     "data": {
      "text/plain": [
       "fyear              0\n",
       "misstate           0\n",
       "act                0\n",
       "ap                 0\n",
       "at                 0\n",
       "ceq                0\n",
       "che                0\n",
       "cogs               0\n",
       "csho               0\n",
       "dlc                0\n",
       "dltis              0\n",
       "dltt               0\n",
       "dp                 0\n",
       "ib                 0\n",
       "invt               0\n",
       "ivao               0\n",
       "ivst               0\n",
       "lct                0\n",
       "lt                 0\n",
       "ni                 0\n",
       "ppegt              0\n",
       "pstk               0\n",
       "re                 0\n",
       "rect               0\n",
       "sale               0\n",
       "sstk               0\n",
       "txp                0\n",
       "txt                0\n",
       "xint               0\n",
       "prcc_f             0\n",
       "dch_wc          4759\n",
       "ch_rsst         4851\n",
       "dch_rec         4743\n",
       "dch_inv         4615\n",
       "soft_assets      592\n",
       "ch_cs          15918\n",
       "ch_cm          17107\n",
       "ch_roa         12678\n",
       "issue              0\n",
       "bm                18\n",
       "dpi             9228\n",
       "reoa             591\n",
       "EBIT             591\n",
       "ch_fcf          5407\n",
       "dtype: int64"
      ]
     },
     "execution_count": 6,
     "metadata": {},
     "output_type": "execute_result"
    }
   ],
   "source": [
    "# Explore nulls\n",
    "accounting_df.isnull().sum()"
   ]
  },
  {
   "cell_type": "markdown",
   "id": "32edf87a",
   "metadata": {},
   "source": [
    "Looks like only some financial ratios are missing values. This could be because financial ratios are not explicitly required to be reported in a financial report/audit, leading to them not being included for some rows. However, all 28 accounting variables are all non-null and numeric."
   ]
  },
  {
   "cell_type": "markdown",
   "id": "fc7194fe",
   "metadata": {},
   "source": [
    "3. Explore the variable 'misstate' with a graph. What do you observe?"
   ]
  },
  {
   "cell_type": "code",
   "execution_count": null,
   "id": "4b8ccf6e",
   "metadata": {},
   "outputs": [
    {
     "name": "stdout",
     "output_type": "stream",
     "text": [
      "misstate\n",
      "0    145081\n",
      "1       964\n",
      "Name: count, dtype: int64\n",
      "Total fraud percentage: 0.66%\n"
     ]
    },
    {
     "data": {
      "image/png": "[encoded data removed]",
      "text/plain": [
       "<Figure size 640x480 with 1 Axes>"
      ]
     },
     "metadata": {},
     "output_type": "display_data"
    }
   ],
   "source": [
    "# Exploring frequency of fraud\n",
    "print(accounting_df['misstate'].value_counts())\n",
    "percent_fraud = accounting_df['misstate'].value_counts()[1]/len(accounting_df['misstate'])\n",
    "print(f'Total fraud percentage: {percent_fraud:.2%}')\n",
    "\n",
    "accounting_df['misstate'].value_counts().plot(kind= 'bar', color = ['blue', 'orange'])\n",
    "plt.title(label = 'Number of fraud observations', size = 15)\n",
    "plt.ylabel('Count')\n",
    "plt.xticks([0, 1], ['Not Fraud', 'Fraud'], rotation = 0);"
   ]
  },
  {
   "cell_type": "code",
   "execution_count": 8,
   "id": "157227f8",
   "metadata": {
    "scrolled": true
   },
   "outputs": [
    {
     "data": {
      "text/plain": [
       "<Axes: xlabel='at', ylabel='dltt'>"
      ]
     },
     "execution_count": 8,
     "metadata": {},
     "output_type": "execute_result"
    },
    {
     "data": {
      "image/png": "[encoded data removed]",
      "text/plain": [
       "<Figure size 640x480 with 1 Axes>"
      ]
     },
     "metadata": {},
     "output_type": "display_data"
    }
   ],
   "source": [
    "# Comparing against total assets and long term debt to see if companies in debt are more likely to be fraudulent\n",
    "import seaborn as sns\n",
    "sns.scatterplot(data = accounting_df, x = accounting_df['at'], y = accounting_df['dltt'],\n",
    "                style = accounting_df['misstate'], hue = accounting_df['misstate'])"
   ]
  },
  {
   "cell_type": "markdown",
   "id": "6c9de787",
   "metadata": {},
   "source": [
    "There is no"
   ]
  },
  {
   "cell_type": "code",
   "execution_count": 9,
   "id": "5804e238",
   "metadata": {},
   "outputs": [
    {
     "data": {
      "text/plain": [
       "<Axes: xlabel='fyear', ylabel='misstate'>"
      ]
     },
     "execution_count": 9,
     "metadata": {},
     "output_type": "execute_result"
    },
    {
     "data": {
      "text/plain": [
       "Text(0.5, 1.0, 'Total Fraud Observations per year')"
      ]
     },
     "execution_count": 9,
     "metadata": {},
     "output_type": "execute_result"
    },
    {
     "data": {
      "image/png": "[encoded data removed]",
      "text/plain": [
       "<Figure size 640x480 with 1 Axes>"
      ]
     },
     "metadata": {},
     "output_type": "display_data"
    }
   ],
   "source": [
    "# Sum of fraud cases by year\n",
    "fraud_by_year = accounting_df.groupby('fyear')['misstate'].sum().reset_index()\n",
    "\n",
    "sns.set_theme(style ='whitegrid')\n",
    "sns.lineplot(x = fraud_by_year['fyear'], y = fraud_by_year['misstate'])\n",
    "plt.title('Total Fraud Observations per year', size = 15)"
   ]
  },
  {
   "cell_type": "markdown",
   "id": "6d9f18e4",
   "metadata": {},
   "source": [
    "Save the output of the code above and make a line graph based on it. What do you observe?"
   ]
  },
  {
   "cell_type": "markdown",
   "id": "e2481bda",
   "metadata": {},
   "source": [
    "5. The percentage of fraud cases is really small. To have better prediction power, we intend to oversample the fraud cases to 10% of the sample. Please run the code below. Pay attention to how I name the datasets. Change them to adapt to your cases. <br>\n",
    "You may notice that after oversampling, the number of fraud cases increased."
   ]
  },
  {
   "cell_type": "code",
   "execution_count": 10,
   "id": "a71f1995",
   "metadata": {
    "scrolled": true
   },
   "outputs": [
    {
     "name": "stdout",
     "output_type": "stream",
     "text": [
      "Original class distribution: misstate\n",
      "0    145081\n",
      "1       964\n",
      "Name: count, dtype: int64\n",
      "New class distribution: misstate\n",
      "0    145081\n",
      "1     16121\n",
      "Name: count, dtype: int64\n"
     ]
    }
   ],
   "source": [
    "# Separate into minority and majority\n",
    "minority_class = accounting_df[accounting_df['misstate'] == 1]\n",
    "majority_class = accounting_df[accounting_df['misstate'] == 0]\n",
    "\n",
    "# Count minority and majority samples\n",
    "minority_count = len(minority_class)\n",
    "majority_count = len(majority_class)\n",
    "print(\"Original class distribution:\", accounting_df['misstate'].value_counts())\n",
    "\n",
    "###############################\n",
    "# Desired ratio = 10% / 90%   #\n",
    "###############################\n",
    "# For a 10/90 ratio, 1:9 (minority : majority)\n",
    "# If we have 'N' majority samples, we want M' = N/9 minority samples.\n",
    "\n",
    "RATIO = 9  # 1 minority : 9 majority\n",
    "majority_N = majority_count\n",
    "\n",
    "# Calculate how many minority samples we need to achieve 10/90 ratio\n",
    "minority_needed = int(np.ceil(majority_N / RATIO))\n",
    "\n",
    "# If we already have enough minority samples, no oversampling needed\n",
    "# Otherwise, sample (with replacement) from the minority to get the required count\n",
    "if minority_needed <= minority_count:\n",
    "    oversampled_minority = minority_class\n",
    "else:\n",
    "    # Randomly sample with replacement to reach minority_needed\n",
    "    oversampled_minority = minority_class.sample(n=minority_needed, replace=True, random_state=0)\n",
    "\n",
    "# Combine the new minority subset with the entire majority\n",
    "fraud_oversampled = pd.concat([oversampled_minority, majority_class])\n",
    "\n",
    "# Shuffle the dataset\n",
    "fraud_oversampled = fraud_oversampled.sample(frac=1, random_state=42).reset_index(drop=True)\n",
    "\n",
    "# Check new class distribution\n",
    "print(\"New class distribution:\", fraud_oversampled['misstate'].value_counts())"
   ]
  },
  {
   "cell_type": "markdown",
   "id": "68f2fa11",
   "metadata": {},
   "source": [
    "6. Missing values. You may notice that some variables have missing values. <br>\n",
    "Ideally, we need to handle missing values carefully. We will explore that in the future if we have the chance.<br>\n",
    "For now, we just simply drop the observations with missing values. Use dropna() to do that."
   ]
  },
  {
   "cell_type": "code",
   "execution_count": null,
   "id": "039457d9",
   "metadata": {},
   "outputs": [],
   "source": []
  },
  {
   "cell_type": "markdown",
   "id": "d5a99249",
   "metadata": {},
   "source": [
    "7. Now let's fit logistic regression models. First, we only use the 14 financial ratio variables as the independent variables. You may find the definitions of them in the Word document."
   ]
  },
  {
   "cell_type": "markdown",
   "id": "17f94935",
   "metadata": {},
   "source": [
    "Prepare the data."
   ]
  },
  {
   "cell_type": "code",
   "execution_count": null,
   "id": "7257b901",
   "metadata": {},
   "outputs": [],
   "source": []
  },
  {
   "cell_type": "markdown",
   "id": "a598b06b",
   "metadata": {},
   "source": [
    "8. Fit the model using statsmodels. Show the results. Which variables are not significant?"
   ]
  },
  {
   "cell_type": "code",
   "execution_count": null,
   "id": "ed8dd572",
   "metadata": {},
   "outputs": [],
   "source": []
  }
 ],
 "metadata": {
  "kernelspec": {
   "display_name": "base",
   "language": "python",
   "name": "python3"
  },
  "language_info": {
   "codemirror_mode": {
    "name": "ipython",
    "version": 3
   },
   "file_extension": ".py",
   "mimetype": "text/x-python",
   "name": "python",
   "nbconvert_exporter": "python",
   "pygments_lexer": "ipython3",
   "version": "3.12.7"
  }
 },
 "nbformat": 4,
 "nbformat_minor": 5
}

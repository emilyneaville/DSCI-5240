{
 "cells": [
  {
   "cell_type": "code",
   "execution_count": 27,
   "id": "87e0673e",
   "metadata": {},
   "outputs": [],
   "source": [
    "# Import packages\n",
    "import pandas as pd"
   ]
  },
  {
   "cell_type": "code",
   "execution_count": 28,
   "id": "8f809cd9",
   "metadata": {},
   "outputs": [
    {
     "name": "stdout",
     "output_type": "stream",
     "text": [
      "<class 'pandas.core.frame.DataFrame'>\n",
      "RangeIndex: 89958 entries, 0 to 89957\n",
      "Data columns (total 12 columns):\n",
      " #   Column                      Non-Null Count  Dtype  \n",
      "---  ------                      --------------  -----  \n",
      " 0   Line by line                89958 non-null  object \n",
      " 1   Fiscal Year                 89958 non-null  int64  \n",
      " 2   Employer (Petitioner) Name  89949 non-null  object \n",
      " 3   Tax ID                      88567 non-null  float64\n",
      " 4   Industry (NAICS) Code       78573 non-null  object \n",
      " 5   Petitioner City             89958 non-null  object \n",
      " 6   Petitioner State            89958 non-null  object \n",
      " 7   Petitioner Zip Code         89956 non-null  float64\n",
      " 8   Initial Approval            89958 non-null  int64  \n",
      " 9   Initial Denial              89958 non-null  int64  \n",
      " 10  Continuing Approval         89958 non-null  int64  \n",
      " 11  Continuing Denial           89958 non-null  int64  \n",
      "dtypes: float64(2), int64(5), object(5)\n",
      "memory usage: 8.2+ MB\n"
     ]
    }
   ],
   "source": [
    "# Read in dataset\n",
    "hb_df = pd.read_excel('Datasets/Employer Information.xlsx')\n",
    "hb_df.info()"
   ]
  },
  {
   "cell_type": "code",
   "execution_count": 29,
   "id": "1f202c95",
   "metadata": {},
   "outputs": [],
   "source": [
    "# Tax revenue, innovation contributions (patents), a person's expenditure contribution?"
   ]
  },
  {
   "cell_type": "code",
   "execution_count": 30,
   "id": "25205e41",
   "metadata": {},
   "outputs": [
    {
     "data": {
      "application/vnd.microsoft.datawrangler.viewer.v0+json": {
       "columns": [
        {
         "name": "index",
         "rawType": "int64",
         "type": "integer"
        },
        {
         "name": "Line by line",
         "rawType": "object",
         "type": "string"
        },
        {
         "name": "Fiscal Year   ",
         "rawType": "int64",
         "type": "integer"
        },
        {
         "name": "Employer (Petitioner) Name",
         "rawType": "object",
         "type": "string"
        },
        {
         "name": "Tax ID",
         "rawType": "float64",
         "type": "float"
        },
        {
         "name": "Industry (NAICS) Code",
         "rawType": "object",
         "type": "string"
        },
        {
         "name": "Petitioner City",
         "rawType": "object",
         "type": "string"
        },
        {
         "name": "Petitioner State",
         "rawType": "object",
         "type": "string"
        },
        {
         "name": "Petitioner Zip Code",
         "rawType": "float64",
         "type": "float"
        },
        {
         "name": "Initial Approval",
         "rawType": "int64",
         "type": "integer"
        },
        {
         "name": "Initial Denial",
         "rawType": "int64",
         "type": "integer"
        },
        {
         "name": "Continuing Approval",
         "rawType": "int64",
         "type": "integer"
        },
        {
         "name": "Continuing Denial",
         "rawType": "int64",
         "type": "integer"
        }
       ],
       "conversionMethod": "pd.DataFrame",
       "ref": "2b52a751-9109-4596-91a0-1e4cd588b784",
       "rows": [
        [
         "0",
         "1",
         "2024",
         "1ST RANKING TECHNOLOGIES",
         "3403.0",
         "54 - Professional, Scientific, and Technical Services",
         "LEWISVILLE",
         "TX",
         "75067.0",
         "4",
         "0",
         "3",
         "0"
        ],
        [
         "1",
         "2",
         "2024",
         "2M ASSOCIATES LLC",
         "5521.0",
         "54 - Professional, Scientific, and Technical Services",
         "DALLAS",
         "TX",
         "75240.0",
         "1",
         "0",
         "0",
         "0"
        ],
        [
         "2",
         "3",
         "2024",
         "2M RESEARCH SERVICES LLC",
         "3188.0",
         "54 - Professional, Scientific, and Technical Services",
         "ARLINGTON",
         "TX",
         "76011.0",
         "0",
         "0",
         "1",
         "0"
        ],
        [
         "3",
         "4",
         "2024",
         "2M SOLUTIONS INC",
         "6900.0",
         "56 - Administrative and Support and Waste Management and Remediation Services",
         "GRAND PRAIRIE",
         "TX",
         "75050.0",
         "0",
         "0",
         "1",
         "0"
        ],
        [
         "4",
         "5",
         "2024",
         "3A INFOTECH LLC",
         "6341.0",
         "54 - Professional, Scientific, and Technical Services",
         "HOUSTON",
         "TX",
         "77069.0",
         "5",
         "0",
         "0",
         "0"
        ]
       ],
       "shape": {
        "columns": 12,
        "rows": 5
       }
      },
      "text/html": [
       "<div>\n",
       "<style scoped>\n",
       "    .dataframe tbody tr th:only-of-type {\n",
       "        vertical-align: middle;\n",
       "    }\n",
       "\n",
       "    .dataframe tbody tr th {\n",
       "        vertical-align: top;\n",
       "    }\n",
       "\n",
       "    .dataframe thead th {\n",
       "        text-align: right;\n",
       "    }\n",
       "</style>\n",
       "<table border=\"1\" class=\"dataframe\">\n",
       "  <thead>\n",
       "    <tr style=\"text-align: right;\">\n",
       "      <th></th>\n",
       "      <th>Line by line</th>\n",
       "      <th>Fiscal Year</th>\n",
       "      <th>Employer (Petitioner) Name</th>\n",
       "      <th>Tax ID</th>\n",
       "      <th>Industry (NAICS) Code</th>\n",
       "      <th>Petitioner City</th>\n",
       "      <th>Petitioner State</th>\n",
       "      <th>Petitioner Zip Code</th>\n",
       "      <th>Initial Approval</th>\n",
       "      <th>Initial Denial</th>\n",
       "      <th>Continuing Approval</th>\n",
       "      <th>Continuing Denial</th>\n",
       "    </tr>\n",
       "  </thead>\n",
       "  <tbody>\n",
       "    <tr>\n",
       "      <th>0</th>\n",
       "      <td>1</td>\n",
       "      <td>2024</td>\n",
       "      <td>1ST RANKING TECHNOLOGIES</td>\n",
       "      <td>3403.0</td>\n",
       "      <td>54 - Professional, Scientific, and Technical S...</td>\n",
       "      <td>LEWISVILLE</td>\n",
       "      <td>TX</td>\n",
       "      <td>75067.0</td>\n",
       "      <td>4</td>\n",
       "      <td>0</td>\n",
       "      <td>3</td>\n",
       "      <td>0</td>\n",
       "    </tr>\n",
       "    <tr>\n",
       "      <th>1</th>\n",
       "      <td>2</td>\n",
       "      <td>2024</td>\n",
       "      <td>2M ASSOCIATES LLC</td>\n",
       "      <td>5521.0</td>\n",
       "      <td>54 - Professional, Scientific, and Technical S...</td>\n",
       "      <td>DALLAS</td>\n",
       "      <td>TX</td>\n",
       "      <td>75240.0</td>\n",
       "      <td>1</td>\n",
       "      <td>0</td>\n",
       "      <td>0</td>\n",
       "      <td>0</td>\n",
       "    </tr>\n",
       "    <tr>\n",
       "      <th>2</th>\n",
       "      <td>3</td>\n",
       "      <td>2024</td>\n",
       "      <td>2M RESEARCH SERVICES LLC</td>\n",
       "      <td>3188.0</td>\n",
       "      <td>54 - Professional, Scientific, and Technical S...</td>\n",
       "      <td>ARLINGTON</td>\n",
       "      <td>TX</td>\n",
       "      <td>76011.0</td>\n",
       "      <td>0</td>\n",
       "      <td>0</td>\n",
       "      <td>1</td>\n",
       "      <td>0</td>\n",
       "    </tr>\n",
       "    <tr>\n",
       "      <th>3</th>\n",
       "      <td>4</td>\n",
       "      <td>2024</td>\n",
       "      <td>2M SOLUTIONS INC</td>\n",
       "      <td>6900.0</td>\n",
       "      <td>56 - Administrative and Support and Waste Mana...</td>\n",
       "      <td>GRAND PRAIRIE</td>\n",
       "      <td>TX</td>\n",
       "      <td>75050.0</td>\n",
       "      <td>0</td>\n",
       "      <td>0</td>\n",
       "      <td>1</td>\n",
       "      <td>0</td>\n",
       "    </tr>\n",
       "    <tr>\n",
       "      <th>4</th>\n",
       "      <td>5</td>\n",
       "      <td>2024</td>\n",
       "      <td>3A INFOTECH LLC</td>\n",
       "      <td>6341.0</td>\n",
       "      <td>54 - Professional, Scientific, and Technical S...</td>\n",
       "      <td>HOUSTON</td>\n",
       "      <td>TX</td>\n",
       "      <td>77069.0</td>\n",
       "      <td>5</td>\n",
       "      <td>0</td>\n",
       "      <td>0</td>\n",
       "      <td>0</td>\n",
       "    </tr>\n",
       "  </tbody>\n",
       "</table>\n",
       "</div>"
      ],
      "text/plain": [
       "  Line by line  Fiscal Year    Employer (Petitioner) Name  Tax ID  \\\n",
       "0            1            2024   1ST RANKING TECHNOLOGIES  3403.0   \n",
       "1            2            2024          2M ASSOCIATES LLC  5521.0   \n",
       "2            3            2024   2M RESEARCH SERVICES LLC  3188.0   \n",
       "3            4            2024           2M SOLUTIONS INC  6900.0   \n",
       "4            5            2024            3A INFOTECH LLC  6341.0   \n",
       "\n",
       "                               Industry (NAICS) Code Petitioner City  \\\n",
       "0  54 - Professional, Scientific, and Technical S...      LEWISVILLE   \n",
       "1  54 - Professional, Scientific, and Technical S...          DALLAS   \n",
       "2  54 - Professional, Scientific, and Technical S...       ARLINGTON   \n",
       "3  56 - Administrative and Support and Waste Mana...   GRAND PRAIRIE   \n",
       "4  54 - Professional, Scientific, and Technical S...         HOUSTON   \n",
       "\n",
       "  Petitioner State  Petitioner Zip Code  Initial Approval  Initial Denial  \\\n",
       "0               TX              75067.0                 4               0   \n",
       "1               TX              75240.0                 1               0   \n",
       "2               TX              76011.0                 0               0   \n",
       "3               TX              75050.0                 0               0   \n",
       "4               TX              77069.0                 5               0   \n",
       "\n",
       "   Continuing Approval  Continuing Denial  \n",
       "0                    3                  0  \n",
       "1                    0                  0  \n",
       "2                    1                  0  \n",
       "3                    1                  0  \n",
       "4                    0                  0  "
      ]
     },
     "execution_count": 30,
     "metadata": {},
     "output_type": "execute_result"
    }
   ],
   "source": [
    "hb_df.head()"
   ]
  },
  {
   "cell_type": "code",
   "execution_count": 31,
   "id": "68241026",
   "metadata": {},
   "outputs": [],
   "source": [
    "# Create column called total\n",
    "hb_df['Total'] = hb_df['Initial Approval'] + hb_df['Initial Denial']"
   ]
  },
  {
   "cell_type": "code",
   "execution_count": 32,
   "id": "a64dc68b",
   "metadata": {},
   "outputs": [
    {
     "data": {
      "application/vnd.microsoft.datawrangler.viewer.v0+json": {
       "columns": [
        {
         "name": "index",
         "rawType": "int64",
         "type": "integer"
        },
        {
         "name": "Line by line",
         "rawType": "object",
         "type": "string"
        },
        {
         "name": "Fiscal Year   ",
         "rawType": "int64",
         "type": "integer"
        },
        {
         "name": "Employer (Petitioner) Name",
         "rawType": "object",
         "type": "string"
        },
        {
         "name": "Tax ID",
         "rawType": "float64",
         "type": "float"
        },
        {
         "name": "Industry (NAICS) Code",
         "rawType": "object",
         "type": "string"
        },
        {
         "name": "Petitioner City",
         "rawType": "object",
         "type": "string"
        },
        {
         "name": "Petitioner State",
         "rawType": "object",
         "type": "string"
        },
        {
         "name": "Petitioner Zip Code",
         "rawType": "float64",
         "type": "float"
        },
        {
         "name": "Initial Approval",
         "rawType": "int64",
         "type": "integer"
        },
        {
         "name": "Initial Denial",
         "rawType": "int64",
         "type": "integer"
        },
        {
         "name": "Continuing Approval",
         "rawType": "int64",
         "type": "integer"
        },
        {
         "name": "Continuing Denial",
         "rawType": "int64",
         "type": "integer"
        },
        {
         "name": "Total",
         "rawType": "int64",
         "type": "integer"
        }
       ],
       "conversionMethod": "pd.DataFrame",
       "ref": "25d389fb-057f-4dd2-b873-aef7b4d3031e",
       "rows": [
        [
         "0",
         "1",
         "2024",
         "1ST RANKING TECHNOLOGIES",
         "3403.0",
         "54 - Professional, Scientific, and Technical Services",
         "LEWISVILLE",
         "TX",
         "75067.0",
         "4",
         "0",
         "3",
         "0",
         "4"
        ],
        [
         "1",
         "2",
         "2024",
         "2M ASSOCIATES LLC",
         "5521.0",
         "54 - Professional, Scientific, and Technical Services",
         "DALLAS",
         "TX",
         "75240.0",
         "1",
         "0",
         "0",
         "0",
         "1"
        ],
        [
         "2",
         "3",
         "2024",
         "2M RESEARCH SERVICES LLC",
         "3188.0",
         "54 - Professional, Scientific, and Technical Services",
         "ARLINGTON",
         "TX",
         "76011.0",
         "0",
         "0",
         "1",
         "0",
         "0"
        ],
        [
         "3",
         "4",
         "2024",
         "2M SOLUTIONS INC",
         "6900.0",
         "56 - Administrative and Support and Waste Management and Remediation Services",
         "GRAND PRAIRIE",
         "TX",
         "75050.0",
         "0",
         "0",
         "1",
         "0",
         "0"
        ],
        [
         "4",
         "5",
         "2024",
         "3A INFOTECH LLC",
         "6341.0",
         "54 - Professional, Scientific, and Technical Services",
         "HOUSTON",
         "TX",
         "77069.0",
         "5",
         "0",
         "0",
         "0",
         "5"
        ]
       ],
       "shape": {
        "columns": 13,
        "rows": 5
       }
      },
      "text/html": [
       "<div>\n",
       "<style scoped>\n",
       "    .dataframe tbody tr th:only-of-type {\n",
       "        vertical-align: middle;\n",
       "    }\n",
       "\n",
       "    .dataframe tbody tr th {\n",
       "        vertical-align: top;\n",
       "    }\n",
       "\n",
       "    .dataframe thead th {\n",
       "        text-align: right;\n",
       "    }\n",
       "</style>\n",
       "<table border=\"1\" class=\"dataframe\">\n",
       "  <thead>\n",
       "    <tr style=\"text-align: right;\">\n",
       "      <th></th>\n",
       "      <th>Line by line</th>\n",
       "      <th>Fiscal Year</th>\n",
       "      <th>Employer (Petitioner) Name</th>\n",
       "      <th>Tax ID</th>\n",
       "      <th>Industry (NAICS) Code</th>\n",
       "      <th>Petitioner City</th>\n",
       "      <th>Petitioner State</th>\n",
       "      <th>Petitioner Zip Code</th>\n",
       "      <th>Initial Approval</th>\n",
       "      <th>Initial Denial</th>\n",
       "      <th>Continuing Approval</th>\n",
       "      <th>Continuing Denial</th>\n",
       "      <th>Total</th>\n",
       "    </tr>\n",
       "  </thead>\n",
       "  <tbody>\n",
       "    <tr>\n",
       "      <th>0</th>\n",
       "      <td>1</td>\n",
       "      <td>2024</td>\n",
       "      <td>1ST RANKING TECHNOLOGIES</td>\n",
       "      <td>3403.0</td>\n",
       "      <td>54 - Professional, Scientific, and Technical S...</td>\n",
       "      <td>LEWISVILLE</td>\n",
       "      <td>TX</td>\n",
       "      <td>75067.0</td>\n",
       "      <td>4</td>\n",
       "      <td>0</td>\n",
       "      <td>3</td>\n",
       "      <td>0</td>\n",
       "      <td>4</td>\n",
       "    </tr>\n",
       "    <tr>\n",
       "      <th>1</th>\n",
       "      <td>2</td>\n",
       "      <td>2024</td>\n",
       "      <td>2M ASSOCIATES LLC</td>\n",
       "      <td>5521.0</td>\n",
       "      <td>54 - Professional, Scientific, and Technical S...</td>\n",
       "      <td>DALLAS</td>\n",
       "      <td>TX</td>\n",
       "      <td>75240.0</td>\n",
       "      <td>1</td>\n",
       "      <td>0</td>\n",
       "      <td>0</td>\n",
       "      <td>0</td>\n",
       "      <td>1</td>\n",
       "    </tr>\n",
       "    <tr>\n",
       "      <th>2</th>\n",
       "      <td>3</td>\n",
       "      <td>2024</td>\n",
       "      <td>2M RESEARCH SERVICES LLC</td>\n",
       "      <td>3188.0</td>\n",
       "      <td>54 - Professional, Scientific, and Technical S...</td>\n",
       "      <td>ARLINGTON</td>\n",
       "      <td>TX</td>\n",
       "      <td>76011.0</td>\n",
       "      <td>0</td>\n",
       "      <td>0</td>\n",
       "      <td>1</td>\n",
       "      <td>0</td>\n",
       "      <td>0</td>\n",
       "    </tr>\n",
       "    <tr>\n",
       "      <th>3</th>\n",
       "      <td>4</td>\n",
       "      <td>2024</td>\n",
       "      <td>2M SOLUTIONS INC</td>\n",
       "      <td>6900.0</td>\n",
       "      <td>56 - Administrative and Support and Waste Mana...</td>\n",
       "      <td>GRAND PRAIRIE</td>\n",
       "      <td>TX</td>\n",
       "      <td>75050.0</td>\n",
       "      <td>0</td>\n",
       "      <td>0</td>\n",
       "      <td>1</td>\n",
       "      <td>0</td>\n",
       "      <td>0</td>\n",
       "    </tr>\n",
       "    <tr>\n",
       "      <th>4</th>\n",
       "      <td>5</td>\n",
       "      <td>2024</td>\n",
       "      <td>3A INFOTECH LLC</td>\n",
       "      <td>6341.0</td>\n",
       "      <td>54 - Professional, Scientific, and Technical S...</td>\n",
       "      <td>HOUSTON</td>\n",
       "      <td>TX</td>\n",
       "      <td>77069.0</td>\n",
       "      <td>5</td>\n",
       "      <td>0</td>\n",
       "      <td>0</td>\n",
       "      <td>0</td>\n",
       "      <td>5</td>\n",
       "    </tr>\n",
       "  </tbody>\n",
       "</table>\n",
       "</div>"
      ],
      "text/plain": [
       "  Line by line  Fiscal Year    Employer (Petitioner) Name  Tax ID  \\\n",
       "0            1            2024   1ST RANKING TECHNOLOGIES  3403.0   \n",
       "1            2            2024          2M ASSOCIATES LLC  5521.0   \n",
       "2            3            2024   2M RESEARCH SERVICES LLC  3188.0   \n",
       "3            4            2024           2M SOLUTIONS INC  6900.0   \n",
       "4            5            2024            3A INFOTECH LLC  6341.0   \n",
       "\n",
       "                               Industry (NAICS) Code Petitioner City  \\\n",
       "0  54 - Professional, Scientific, and Technical S...      LEWISVILLE   \n",
       "1  54 - Professional, Scientific, and Technical S...          DALLAS   \n",
       "2  54 - Professional, Scientific, and Technical S...       ARLINGTON   \n",
       "3  56 - Administrative and Support and Waste Mana...   GRAND PRAIRIE   \n",
       "4  54 - Professional, Scientific, and Technical S...         HOUSTON   \n",
       "\n",
       "  Petitioner State  Petitioner Zip Code  Initial Approval  Initial Denial  \\\n",
       "0               TX              75067.0                 4               0   \n",
       "1               TX              75240.0                 1               0   \n",
       "2               TX              76011.0                 0               0   \n",
       "3               TX              75050.0                 0               0   \n",
       "4               TX              77069.0                 5               0   \n",
       "\n",
       "   Continuing Approval  Continuing Denial  Total  \n",
       "0                    3                  0      4  \n",
       "1                    0                  0      1  \n",
       "2                    1                  0      0  \n",
       "3                    1                  0      0  \n",
       "4                    0                  0      5  "
      ]
     },
     "execution_count": 32,
     "metadata": {},
     "output_type": "execute_result"
    }
   ],
   "source": [
    "hb_df.head()"
   ]
  },
  {
   "cell_type": "code",
   "execution_count": 33,
   "id": "7ce261da",
   "metadata": {},
   "outputs": [
    {
     "data": {
      "application/vnd.microsoft.datawrangler.viewer.v0+json": {
       "columns": [
        {
         "name": "index",
         "rawType": "int64",
         "type": "integer"
        },
        {
         "name": "Employer (Petitioner) Name",
         "rawType": "object",
         "type": "string"
        },
        {
         "name": "Total",
         "rawType": "int64",
         "type": "integer"
        }
       ],
       "conversionMethod": "pd.DataFrame",
       "ref": "8fd68597-e6a7-49e4-8aa6-7cbb4e5aaa7e",
       "rows": [
        [
         "15128",
         "INFOSYS LIMITED",
         "31759"
        ],
        [
         "6900",
         "COGNIZANT TECH SOLUTIONS US CORP",
         "12441"
        ],
        [
         "6898",
         "COGNIZANT TECH SOLNS US CORP",
         "12282"
        ],
        [
         "15130",
         "INFOSYS LTD",
         "9736"
        ],
        [
         "15135",
         "INFOSYS TECHNOLOGIES LIMITED",
         "8456"
        ],
        [
         "6909",
         "COGNIZANT TECHNOLOGY SOLUTIONS US CORP",
         "5397"
        ],
        [
         "6908",
         "COGNIZANT TECHNOLOGY SOLUTIONS US",
         "5117"
        ],
        [
         "12801",
         "GOOGLE INC",
         "4706"
        ],
        [
         "29938",
         "TECH MAHINDRA AMERICAS INC",
         "2594"
        ],
        [
         "17316",
         "KPMG LLP",
         "2121"
        ],
        [
         "22405",
         "ORACLE AMERICA INC",
         "1815"
        ],
        [
         "3841",
         "BAYLOR COLLEGE OF MEDICINE",
         "1505"
        ],
        [
         "30413",
         "TESLA INC",
         "1331"
        ],
        [
         "10533",
         "ERICSSON INC",
         "1136"
        ],
        [
         "30689",
         "TEXAS INSTRUMENTS INCORPORATED",
         "1117"
        ],
        [
         "30521",
         "TEXAS A&M UNIVERSITY",
         "1027"
        ],
        [
         "26731",
         "SCHLUMBERGER TECHNOLOGY CORP",
         "966"
        ],
        [
         "14010",
         "HITACHI CONSULTING CORPORATION",
         "955"
        ],
        [
         "8194",
         "DALLAS INDEPENDENT SCHOOL DISTRICT",
         "862"
        ],
        [
         "33052",
         "UT SOUTHWESTERN MEDICAL CENTER",
         "845"
        ],
        [
         "31277",
         "THE UNIV OF TEXAS AT AUSTIN",
         "837"
        ],
        [
         "13842",
         "HEWLETT PACKARD ENTERPRISE COMPANY",
         "815"
        ],
        [
         "8623",
         "DELL MARKETING LP",
         "785"
        ],
        [
         "30798",
         "TEXAS TECH UNIVERSITY",
         "707"
        ],
        [
         "1851",
         "AMERICAN AIRLINES INC",
         "546"
        ],
        [
         "34973",
         "YASH & LUJAN CONSULTING INC",
         "505"
        ],
        [
         "34010",
         "W M RICE UNIVERSITY",
         "502"
        ],
        [
         "13445",
         "HARMONY PUBLIC SCHOOLS",
         "488"
        ],
        [
         "10064",
         "EMC CORPORATION",
         "482"
        ],
        [
         "33868",
         "VMWARE INC",
         "452"
        ],
        [
         "31309",
         "THE UNIV OF TX MD ANDERSON CANCER",
         "444"
        ],
        [
         "14977",
         "INDEED INC",
         "409"
        ],
        [
         "13313",
         "HALLIBURTON ENERGY SERVICES INC",
         "401"
        ],
        [
         "31324",
         "THE UNIVERSITY OF TEXAS AT AUSTIN",
         "396"
        ],
        [
         "8627",
         "DELL PRODUCTS L P",
         "389"
        ],
        [
         "32843",
         "UNIVERSITY OF HOUSTON",
         "370"
        ],
        [
         "31287",
         "THE UNIV OF TEXAS MEDICAL BRANCH",
         "361"
        ],
        [
         "10968",
         "FACEBOOK INC",
         "358"
        ],
        [
         "31308",
         "THE UNIV OF TX M D ANDERSON CANCER",
         "357"
        ],
        [
         "8628",
         "DELL PRODUCTS LP",
         "348"
        ],
        [
         "7564",
         "COSMOS FOUNDATION",
         "346"
        ],
        [
         "26241",
         "SAGE IT INC",
         "344"
        ],
        [
         "8632",
         "DELL USA L P",
         "344"
        ],
        [
         "1824",
         "AMENSYS INC",
         "341"
        ],
        [
         "33316",
         "VASTIKA INC",
         "339"
        ],
        [
         "26409",
         "SAMSUNG TELECOMMUNICATIONS AMERICA",
         "338"
        ],
        [
         "31304",
         "THE UNIV OF TX HLTH SCIENCE CTR AT",
         "333"
        ],
        [
         "6794",
         "CNET GLOBAL SOLUTIONS INC",
         "333"
        ],
        [
         "14375",
         "HP INC",
         "326"
        ],
        [
         "4651",
         "BP AMERICA INC",
         "311"
        ]
       ],
       "shape": {
        "columns": 2,
        "rows": 35331
       }
      },
      "text/html": [
       "<div>\n",
       "<style scoped>\n",
       "    .dataframe tbody tr th:only-of-type {\n",
       "        vertical-align: middle;\n",
       "    }\n",
       "\n",
       "    .dataframe tbody tr th {\n",
       "        vertical-align: top;\n",
       "    }\n",
       "\n",
       "    .dataframe thead th {\n",
       "        text-align: right;\n",
       "    }\n",
       "</style>\n",
       "<table border=\"1\" class=\"dataframe\">\n",
       "  <thead>\n",
       "    <tr style=\"text-align: right;\">\n",
       "      <th></th>\n",
       "      <th>Employer (Petitioner) Name</th>\n",
       "      <th>Total</th>\n",
       "    </tr>\n",
       "  </thead>\n",
       "  <tbody>\n",
       "    <tr>\n",
       "      <th>15128</th>\n",
       "      <td>INFOSYS LIMITED</td>\n",
       "      <td>31759</td>\n",
       "    </tr>\n",
       "    <tr>\n",
       "      <th>6900</th>\n",
       "      <td>COGNIZANT TECH SOLUTIONS US CORP</td>\n",
       "      <td>12441</td>\n",
       "    </tr>\n",
       "    <tr>\n",
       "      <th>6898</th>\n",
       "      <td>COGNIZANT TECH SOLNS US CORP</td>\n",
       "      <td>12282</td>\n",
       "    </tr>\n",
       "    <tr>\n",
       "      <th>15130</th>\n",
       "      <td>INFOSYS LTD</td>\n",
       "      <td>9736</td>\n",
       "    </tr>\n",
       "    <tr>\n",
       "      <th>15135</th>\n",
       "      <td>INFOSYS TECHNOLOGIES LIMITED</td>\n",
       "      <td>8456</td>\n",
       "    </tr>\n",
       "    <tr>\n",
       "      <th>...</th>\n",
       "      <td>...</td>\n",
       "      <td>...</td>\n",
       "    </tr>\n",
       "    <tr>\n",
       "      <th>17652</th>\n",
       "      <td>LASALLE GROUP INC</td>\n",
       "      <td>0</td>\n",
       "    </tr>\n",
       "    <tr>\n",
       "      <th>17653</th>\n",
       "      <td>LASER CLADDING SERVICES LLC</td>\n",
       "      <td>0</td>\n",
       "    </tr>\n",
       "    <tr>\n",
       "      <th>17654</th>\n",
       "      <td>LASER CLADDING SERVICES LTD</td>\n",
       "      <td>0</td>\n",
       "    </tr>\n",
       "    <tr>\n",
       "      <th>17659</th>\n",
       "      <td>LASSUS &amp; ASSOCIATES INC</td>\n",
       "      <td>0</td>\n",
       "    </tr>\n",
       "    <tr>\n",
       "      <th>17665</th>\n",
       "      <td>LATINO COMMUNICATIONS CORPORATION</td>\n",
       "      <td>0</td>\n",
       "    </tr>\n",
       "  </tbody>\n",
       "</table>\n",
       "<p>35331 rows × 2 columns</p>\n",
       "</div>"
      ],
      "text/plain": [
       "              Employer (Petitioner) Name  Total\n",
       "15128                    INFOSYS LIMITED  31759\n",
       "6900    COGNIZANT TECH SOLUTIONS US CORP  12441\n",
       "6898        COGNIZANT TECH SOLNS US CORP  12282\n",
       "15130                        INFOSYS LTD   9736\n",
       "15135       INFOSYS TECHNOLOGIES LIMITED   8456\n",
       "...                                  ...    ...\n",
       "17652                  LASALLE GROUP INC      0\n",
       "17653        LASER CLADDING SERVICES LLC      0\n",
       "17654        LASER CLADDING SERVICES LTD      0\n",
       "17659            LASSUS & ASSOCIATES INC      0\n",
       "17665  LATINO COMMUNICATIONS CORPORATION      0\n",
       "\n",
       "[35331 rows x 2 columns]"
      ]
     },
     "execution_count": 33,
     "metadata": {},
     "output_type": "execute_result"
    }
   ],
   "source": [
    "employer_totals = hb_df.groupby(\"Employer (Petitioner) Name\")[\"Total\"].sum().reset_index().sort_values(by='Total', ascending=False)\n",
    "employer_totals"
   ]
  },
  {
   "cell_type": "code",
   "execution_count": 34,
   "id": "8ce696e9",
   "metadata": {},
   "outputs": [
    {
     "data": {
      "text/plain": [
       "Index(['Line by line', 'Fiscal Year   ', 'Employer (Petitioner) Name',\n",
       "       'Tax ID', 'Industry (NAICS) Code', 'Petitioner City',\n",
       "       'Petitioner State', 'Petitioner Zip Code', 'Initial Approval',\n",
       "       'Initial Denial', 'Continuing Approval', 'Continuing Denial', 'Total'],\n",
       "      dtype='object')"
      ]
     },
     "execution_count": 34,
     "metadata": {},
     "output_type": "execute_result"
    }
   ],
   "source": [
    "hb_df.columns"
   ]
  },
  {
   "cell_type": "code",
   "execution_count": 35,
   "id": "3ad666a2",
   "metadata": {},
   "outputs": [],
   "source": [
    "# Strip spaces from 'Fiscal Year'\n",
    "hb_df.columns = hb_df.columns.str.strip()"
   ]
  },
  {
   "cell_type": "code",
   "execution_count": 36,
   "id": "34837b8f",
   "metadata": {},
   "outputs": [
    {
     "data": {
      "application/vnd.microsoft.datawrangler.viewer.v0+json": {
       "columns": [
        {
         "name": "index",
         "rawType": "int64",
         "type": "integer"
        },
        {
         "name": "Fiscal Year",
         "rawType": "int64",
         "type": "integer"
        },
        {
         "name": "Total",
         "rawType": "int64",
         "type": "integer"
        }
       ],
       "conversionMethod": "pd.DataFrame",
       "ref": "ed64cc47-da81-476f-b3bf-e277bc7b0278",
       "rows": [
        [
         "0",
         "2009",
         "9514"
        ],
        [
         "1",
         "2010",
         "10078"
        ],
        [
         "2",
         "2011",
         "12429"
        ],
        [
         "3",
         "2012",
         "15978"
        ],
        [
         "4",
         "2013",
         "17410"
        ],
        [
         "5",
         "2014",
         "20527"
        ],
        [
         "6",
         "2015",
         "16653"
        ],
        [
         "7",
         "2016",
         "16252"
        ],
        [
         "8",
         "2017",
         "14794"
        ],
        [
         "9",
         "2018",
         "11686"
        ],
        [
         "10",
         "2019",
         "18760"
        ],
        [
         "11",
         "2020",
         "19621"
        ],
        [
         "12",
         "2021",
         "15813"
        ],
        [
         "13",
         "2022",
         "17913"
        ],
        [
         "14",
         "2023",
         "18695"
        ],
        [
         "15",
         "2024",
         "22290"
        ]
       ],
       "shape": {
        "columns": 2,
        "rows": 16
       }
      },
      "text/html": [
       "<div>\n",
       "<style scoped>\n",
       "    .dataframe tbody tr th:only-of-type {\n",
       "        vertical-align: middle;\n",
       "    }\n",
       "\n",
       "    .dataframe tbody tr th {\n",
       "        vertical-align: top;\n",
       "    }\n",
       "\n",
       "    .dataframe thead th {\n",
       "        text-align: right;\n",
       "    }\n",
       "</style>\n",
       "<table border=\"1\" class=\"dataframe\">\n",
       "  <thead>\n",
       "    <tr style=\"text-align: right;\">\n",
       "      <th></th>\n",
       "      <th>Fiscal Year</th>\n",
       "      <th>Total</th>\n",
       "    </tr>\n",
       "  </thead>\n",
       "  <tbody>\n",
       "    <tr>\n",
       "      <th>0</th>\n",
       "      <td>2009</td>\n",
       "      <td>9514</td>\n",
       "    </tr>\n",
       "    <tr>\n",
       "      <th>1</th>\n",
       "      <td>2010</td>\n",
       "      <td>10078</td>\n",
       "    </tr>\n",
       "    <tr>\n",
       "      <th>2</th>\n",
       "      <td>2011</td>\n",
       "      <td>12429</td>\n",
       "    </tr>\n",
       "    <tr>\n",
       "      <th>3</th>\n",
       "      <td>2012</td>\n",
       "      <td>15978</td>\n",
       "    </tr>\n",
       "    <tr>\n",
       "      <th>4</th>\n",
       "      <td>2013</td>\n",
       "      <td>17410</td>\n",
       "    </tr>\n",
       "    <tr>\n",
       "      <th>5</th>\n",
       "      <td>2014</td>\n",
       "      <td>20527</td>\n",
       "    </tr>\n",
       "    <tr>\n",
       "      <th>6</th>\n",
       "      <td>2015</td>\n",
       "      <td>16653</td>\n",
       "    </tr>\n",
       "    <tr>\n",
       "      <th>7</th>\n",
       "      <td>2016</td>\n",
       "      <td>16252</td>\n",
       "    </tr>\n",
       "    <tr>\n",
       "      <th>8</th>\n",
       "      <td>2017</td>\n",
       "      <td>14794</td>\n",
       "    </tr>\n",
       "    <tr>\n",
       "      <th>9</th>\n",
       "      <td>2018</td>\n",
       "      <td>11686</td>\n",
       "    </tr>\n",
       "    <tr>\n",
       "      <th>10</th>\n",
       "      <td>2019</td>\n",
       "      <td>18760</td>\n",
       "    </tr>\n",
       "    <tr>\n",
       "      <th>11</th>\n",
       "      <td>2020</td>\n",
       "      <td>19621</td>\n",
       "    </tr>\n",
       "    <tr>\n",
       "      <th>12</th>\n",
       "      <td>2021</td>\n",
       "      <td>15813</td>\n",
       "    </tr>\n",
       "    <tr>\n",
       "      <th>13</th>\n",
       "      <td>2022</td>\n",
       "      <td>17913</td>\n",
       "    </tr>\n",
       "    <tr>\n",
       "      <th>14</th>\n",
       "      <td>2023</td>\n",
       "      <td>18695</td>\n",
       "    </tr>\n",
       "    <tr>\n",
       "      <th>15</th>\n",
       "      <td>2024</td>\n",
       "      <td>22290</td>\n",
       "    </tr>\n",
       "  </tbody>\n",
       "</table>\n",
       "</div>"
      ],
      "text/plain": [
       "    Fiscal Year  Total\n",
       "0          2009   9514\n",
       "1          2010  10078\n",
       "2          2011  12429\n",
       "3          2012  15978\n",
       "4          2013  17410\n",
       "5          2014  20527\n",
       "6          2015  16653\n",
       "7          2016  16252\n",
       "8          2017  14794\n",
       "9          2018  11686\n",
       "10         2019  18760\n",
       "11         2020  19621\n",
       "12         2021  15813\n",
       "13         2022  17913\n",
       "14         2023  18695\n",
       "15         2024  22290"
      ]
     },
     "execution_count": 36,
     "metadata": {},
     "output_type": "execute_result"
    }
   ],
   "source": [
    "per_year = hb_df.groupby('Fiscal Year')['Total'].sum().reset_index()\n",
    "per_year"
   ]
  },
  {
   "cell_type": "code",
   "execution_count": 37,
   "id": "d45fa805",
   "metadata": {},
   "outputs": [
    {
     "data": {
      "image/png": "[encoded data removed]",
      "text/plain": [
       "<Figure size 640x480 with 1 Axes>"
      ]
     },
     "metadata": {},
     "output_type": "display_data"
    }
   ],
   "source": [
    "import seaborn as sns\n",
    "import matplotlib.pyplot as plt\n",
    "\n",
    "sns.lineplot(data= per_year, x='Fiscal Year', y='Total')\n",
    "plt.title('Total Over Time')\n",
    "plt.xlabel('Year')\n",
    "plt.ylabel('Total')\n",
    "plt.tight_layout()"
   ]
  },
  {
   "cell_type": "markdown",
   "id": "b4554269",
   "metadata": {},
   "source": [
    "We will continue our analysis for H1B in class for this assignment.\n",
    "\n",
    "Given what we have done in class, please do the following.\n",
    "\n",
    "1. I collected two pieces of information about Texas economic development over 2009 - 2024: GDP (tx_gdp) and Unemployment rate (tx_ur) and saved them in this csv file. Texas economy.csv Download Texas economy.csv. Import it. \n",
    "\n",
    "2. Use the variable 'GDP Deflator' to calculate the real GDP. The variable sets the 2017 dollar value at 100. By dividing the nominal GDP with this deflator, we get the real GDP, all in 2017 dollar value. Please create this real GDP variable.\n",
    "\n",
    "3. Calculate the numbers of Initial Approvals and Continuing Approvals of every year. Make graphs that compare each of them with Texas GDP and unemployment rate. What do you find?\n",
    "\n",
    "4. As H1B visa can only be valid for six years, we may need the most recent six years' data to estimate the current number of employees. Get the subset of the most recent six years. Using the subset, find the total number of H1B employees across industries. Which industry has the highest number of employees? Try make a graph.\n",
    "\n",
    "5. Using the subset, find the total number of H1B employees across cities. What are the top ten cities?\n",
    "\n",
    "6. In class, we found that 'COGNIZANT' company has different names. Please replace the different names with the same name. Then using the subset, find the sum of H1B employees from each petitioner. "
   ]
  },
  {
   "cell_type": "code",
   "execution_count": 38,
   "id": "04680a74",
   "metadata": {},
   "outputs": [
    {
     "name": "stdout",
     "output_type": "stream",
     "text": [
      "<class 'pandas.core.frame.DataFrame'>\n",
      "RangeIndex: 16 entries, 0 to 15\n",
      "Data columns (total 4 columns):\n",
      " #   Column        Non-Null Count  Dtype  \n",
      "---  ------        --------------  -----  \n",
      " 0   Fiscal Year   16 non-null     int64  \n",
      " 1   GDP Deflator  16 non-null     float64\n",
      " 2   tx_gdp        16 non-null     float64\n",
      " 3   tx_ur         16 non-null     float64\n",
      "dtypes: float64(3), int64(1)\n",
      "memory usage: 644.0 bytes\n",
      "None\n",
      "Index(['Fiscal Year', 'GDP Deflator', 'tx_gdp', 'tx_ur'], dtype='object')\n"
     ]
    }
   ],
   "source": [
    "# Load in Texas economic development csv\n",
    "texas_df = pd.read_csv('Datasets/Texas economy.csv')\n",
    "print(texas_df.info())\n",
    "print(texas_df.columns)"
   ]
  },
  {
   "cell_type": "code",
   "execution_count": 39,
   "id": "14bcd8d6",
   "metadata": {},
   "outputs": [
    {
     "data": {
      "application/vnd.microsoft.datawrangler.viewer.v0+json": {
       "columns": [
        {
         "name": "index",
         "rawType": "int64",
         "type": "integer"
        },
        {
         "name": "Fiscal Year",
         "rawType": "int64",
         "type": "integer"
        },
        {
         "name": "GDP Deflator",
         "rawType": "float64",
         "type": "float"
        },
        {
         "name": "tx_gdp",
         "rawType": "float64",
         "type": "float"
        },
        {
         "name": "tx_ur",
         "rawType": "float64",
         "type": "float"
        }
       ],
       "conversionMethod": "pd.DataFrame",
       "ref": "5439e293-cf89-4597-abd5-107d0606da95",
       "rows": [
        [
         "0",
         "2009",
         "88.556",
         "1179168.1",
         "7.591666666666668"
        ],
        [
         "1",
         "2010",
         "89.632",
         "1255660.8",
         "8.25"
        ],
        [
         "2",
         "2011",
         "91.481",
         "1351776.9",
         "8.033333333333331"
        ],
        [
         "3",
         "2012",
         "93.185",
         "1429588.0",
         "6.708333333333333"
        ],
        [
         "4",
         "2013",
         "94.771",
         "1526781.9",
         "6.316666666666666"
        ],
        [
         "5",
         "2014",
         "96.421",
         "1592177.6",
         "5.183333333333335"
        ],
        [
         "6",
         "2015",
         "97.316",
         "1585985.9",
         "4.466666666666666"
        ],
        [
         "7",
         "2016",
         "98.241",
         "1582981.5",
         "4.666666666666665"
        ],
        [
         "8",
         "2017",
         "100.0",
         "1667313.0",
         "4.358333333333333"
        ],
        [
         "9",
         "2018",
         "102.291",
         "1808026.9",
         "3.9166666666666656"
        ]
       ],
       "shape": {
        "columns": 4,
        "rows": 10
       }
      },
      "text/html": [
       "<div>\n",
       "<style scoped>\n",
       "    .dataframe tbody tr th:only-of-type {\n",
       "        vertical-align: middle;\n",
       "    }\n",
       "\n",
       "    .dataframe tbody tr th {\n",
       "        vertical-align: top;\n",
       "    }\n",
       "\n",
       "    .dataframe thead th {\n",
       "        text-align: right;\n",
       "    }\n",
       "</style>\n",
       "<table border=\"1\" class=\"dataframe\">\n",
       "  <thead>\n",
       "    <tr style=\"text-align: right;\">\n",
       "      <th></th>\n",
       "      <th>Fiscal Year</th>\n",
       "      <th>GDP Deflator</th>\n",
       "      <th>tx_gdp</th>\n",
       "      <th>tx_ur</th>\n",
       "    </tr>\n",
       "  </thead>\n",
       "  <tbody>\n",
       "    <tr>\n",
       "      <th>0</th>\n",
       "      <td>2009</td>\n",
       "      <td>88.556</td>\n",
       "      <td>1179168.1</td>\n",
       "      <td>7.591667</td>\n",
       "    </tr>\n",
       "    <tr>\n",
       "      <th>1</th>\n",
       "      <td>2010</td>\n",
       "      <td>89.632</td>\n",
       "      <td>1255660.8</td>\n",
       "      <td>8.250000</td>\n",
       "    </tr>\n",
       "    <tr>\n",
       "      <th>2</th>\n",
       "      <td>2011</td>\n",
       "      <td>91.481</td>\n",
       "      <td>1351776.9</td>\n",
       "      <td>8.033333</td>\n",
       "    </tr>\n",
       "    <tr>\n",
       "      <th>3</th>\n",
       "      <td>2012</td>\n",
       "      <td>93.185</td>\n",
       "      <td>1429588.0</td>\n",
       "      <td>6.708333</td>\n",
       "    </tr>\n",
       "    <tr>\n",
       "      <th>4</th>\n",
       "      <td>2013</td>\n",
       "      <td>94.771</td>\n",
       "      <td>1526781.9</td>\n",
       "      <td>6.316667</td>\n",
       "    </tr>\n",
       "    <tr>\n",
       "      <th>5</th>\n",
       "      <td>2014</td>\n",
       "      <td>96.421</td>\n",
       "      <td>1592177.6</td>\n",
       "      <td>5.183333</td>\n",
       "    </tr>\n",
       "    <tr>\n",
       "      <th>6</th>\n",
       "      <td>2015</td>\n",
       "      <td>97.316</td>\n",
       "      <td>1585985.9</td>\n",
       "      <td>4.466667</td>\n",
       "    </tr>\n",
       "    <tr>\n",
       "      <th>7</th>\n",
       "      <td>2016</td>\n",
       "      <td>98.241</td>\n",
       "      <td>1582981.5</td>\n",
       "      <td>4.666667</td>\n",
       "    </tr>\n",
       "    <tr>\n",
       "      <th>8</th>\n",
       "      <td>2017</td>\n",
       "      <td>100.000</td>\n",
       "      <td>1667313.0</td>\n",
       "      <td>4.358333</td>\n",
       "    </tr>\n",
       "    <tr>\n",
       "      <th>9</th>\n",
       "      <td>2018</td>\n",
       "      <td>102.291</td>\n",
       "      <td>1808026.9</td>\n",
       "      <td>3.916667</td>\n",
       "    </tr>\n",
       "  </tbody>\n",
       "</table>\n",
       "</div>"
      ],
      "text/plain": [
       "   Fiscal Year  GDP Deflator     tx_gdp     tx_ur\n",
       "0         2009        88.556  1179168.1  7.591667\n",
       "1         2010        89.632  1255660.8  8.250000\n",
       "2         2011        91.481  1351776.9  8.033333\n",
       "3         2012        93.185  1429588.0  6.708333\n",
       "4         2013        94.771  1526781.9  6.316667\n",
       "5         2014        96.421  1592177.6  5.183333\n",
       "6         2015        97.316  1585985.9  4.466667\n",
       "7         2016        98.241  1582981.5  4.666667\n",
       "8         2017       100.000  1667313.0  4.358333\n",
       "9         2018       102.291  1808026.9  3.916667"
      ]
     },
     "execution_count": 39,
     "metadata": {},
     "output_type": "execute_result"
    }
   ],
   "source": [
    "texas_df.head(10)"
   ]
  },
  {
   "cell_type": "code",
   "execution_count": 40,
   "id": "2a116c83",
   "metadata": {},
   "outputs": [
    {
     "data": {
      "application/vnd.microsoft.datawrangler.viewer.v0+json": {
       "columns": [
        {
         "name": "index",
         "rawType": "int64",
         "type": "integer"
        },
        {
         "name": "Fiscal Year",
         "rawType": "int64",
         "type": "integer"
        },
        {
         "name": "GDP Deflator",
         "rawType": "float64",
         "type": "float"
        },
        {
         "name": "tx_gdp",
         "rawType": "float64",
         "type": "float"
        },
        {
         "name": "tx_ur",
         "rawType": "float64",
         "type": "float"
        },
        {
         "name": "real_gdp",
         "rawType": "float64",
         "type": "float"
        }
       ],
       "conversionMethod": "pd.DataFrame",
       "ref": "ac4de5d7-2f74-436b-9c64-ba3e1f2a55b9",
       "rows": [
        [
         "0",
         "2009",
         "88.556",
         "1179168.1",
         "7.591666666666668",
         "1331550.8"
        ],
        [
         "1",
         "2010",
         "89.632",
         "1255660.8",
         "8.25",
         "1400906.8"
        ],
        [
         "2",
         "2011",
         "91.481",
         "1351776.9",
         "8.033333333333331",
         "1477658.6"
        ],
        [
         "3",
         "2012",
         "93.185",
         "1429588.0",
         "6.708333333333333",
         "1534139.6"
        ],
        [
         "4",
         "2013",
         "94.771",
         "1526781.9",
         "6.316666666666666",
         "1611022.3"
        ],
        [
         "5",
         "2014",
         "96.421",
         "1592177.6",
         "5.183333333333335",
         "1651276.8"
        ],
        [
         "6",
         "2015",
         "97.316",
         "1585985.9",
         "4.466666666666666",
         "1629727.8"
        ],
        [
         "7",
         "2016",
         "98.241",
         "1582981.5",
         "4.666666666666665",
         "1611324.7"
        ],
        [
         "8",
         "2017",
         "100.0",
         "1667313.0",
         "4.358333333333333",
         "1667313.0"
        ],
        [
         "9",
         "2018",
         "102.291",
         "1808026.9",
         "3.9166666666666656",
         "1767532.7"
        ]
       ],
       "shape": {
        "columns": 5,
        "rows": 10
       }
      },
      "text/html": [
       "<div>\n",
       "<style scoped>\n",
       "    .dataframe tbody tr th:only-of-type {\n",
       "        vertical-align: middle;\n",
       "    }\n",
       "\n",
       "    .dataframe tbody tr th {\n",
       "        vertical-align: top;\n",
       "    }\n",
       "\n",
       "    .dataframe thead th {\n",
       "        text-align: right;\n",
       "    }\n",
       "</style>\n",
       "<table border=\"1\" class=\"dataframe\">\n",
       "  <thead>\n",
       "    <tr style=\"text-align: right;\">\n",
       "      <th></th>\n",
       "      <th>Fiscal Year</th>\n",
       "      <th>GDP Deflator</th>\n",
       "      <th>tx_gdp</th>\n",
       "      <th>tx_ur</th>\n",
       "      <th>real_gdp</th>\n",
       "    </tr>\n",
       "  </thead>\n",
       "  <tbody>\n",
       "    <tr>\n",
       "      <th>0</th>\n",
       "      <td>2009</td>\n",
       "      <td>88.556</td>\n",
       "      <td>1179168.1</td>\n",
       "      <td>7.591667</td>\n",
       "      <td>1331550.8</td>\n",
       "    </tr>\n",
       "    <tr>\n",
       "      <th>1</th>\n",
       "      <td>2010</td>\n",
       "      <td>89.632</td>\n",
       "      <td>1255660.8</td>\n",
       "      <td>8.250000</td>\n",
       "      <td>1400906.8</td>\n",
       "    </tr>\n",
       "    <tr>\n",
       "      <th>2</th>\n",
       "      <td>2011</td>\n",
       "      <td>91.481</td>\n",
       "      <td>1351776.9</td>\n",
       "      <td>8.033333</td>\n",
       "      <td>1477658.6</td>\n",
       "    </tr>\n",
       "    <tr>\n",
       "      <th>3</th>\n",
       "      <td>2012</td>\n",
       "      <td>93.185</td>\n",
       "      <td>1429588.0</td>\n",
       "      <td>6.708333</td>\n",
       "      <td>1534139.6</td>\n",
       "    </tr>\n",
       "    <tr>\n",
       "      <th>4</th>\n",
       "      <td>2013</td>\n",
       "      <td>94.771</td>\n",
       "      <td>1526781.9</td>\n",
       "      <td>6.316667</td>\n",
       "      <td>1611022.3</td>\n",
       "    </tr>\n",
       "    <tr>\n",
       "      <th>5</th>\n",
       "      <td>2014</td>\n",
       "      <td>96.421</td>\n",
       "      <td>1592177.6</td>\n",
       "      <td>5.183333</td>\n",
       "      <td>1651276.8</td>\n",
       "    </tr>\n",
       "    <tr>\n",
       "      <th>6</th>\n",
       "      <td>2015</td>\n",
       "      <td>97.316</td>\n",
       "      <td>1585985.9</td>\n",
       "      <td>4.466667</td>\n",
       "      <td>1629727.8</td>\n",
       "    </tr>\n",
       "    <tr>\n",
       "      <th>7</th>\n",
       "      <td>2016</td>\n",
       "      <td>98.241</td>\n",
       "      <td>1582981.5</td>\n",
       "      <td>4.666667</td>\n",
       "      <td>1611324.7</td>\n",
       "    </tr>\n",
       "    <tr>\n",
       "      <th>8</th>\n",
       "      <td>2017</td>\n",
       "      <td>100.000</td>\n",
       "      <td>1667313.0</td>\n",
       "      <td>4.358333</td>\n",
       "      <td>1667313.0</td>\n",
       "    </tr>\n",
       "    <tr>\n",
       "      <th>9</th>\n",
       "      <td>2018</td>\n",
       "      <td>102.291</td>\n",
       "      <td>1808026.9</td>\n",
       "      <td>3.916667</td>\n",
       "      <td>1767532.7</td>\n",
       "    </tr>\n",
       "  </tbody>\n",
       "</table>\n",
       "</div>"
      ],
      "text/plain": [
       "   Fiscal Year  GDP Deflator     tx_gdp     tx_ur   real_gdp\n",
       "0         2009        88.556  1179168.1  7.591667  1331550.8\n",
       "1         2010        89.632  1255660.8  8.250000  1400906.8\n",
       "2         2011        91.481  1351776.9  8.033333  1477658.6\n",
       "3         2012        93.185  1429588.0  6.708333  1534139.6\n",
       "4         2013        94.771  1526781.9  6.316667  1611022.3\n",
       "5         2014        96.421  1592177.6  5.183333  1651276.8\n",
       "6         2015        97.316  1585985.9  4.466667  1629727.8\n",
       "7         2016        98.241  1582981.5  4.666667  1611324.7\n",
       "8         2017       100.000  1667313.0  4.358333  1667313.0\n",
       "9         2018       102.291  1808026.9  3.916667  1767532.7"
      ]
     },
     "execution_count": 40,
     "metadata": {},
     "output_type": "execute_result"
    }
   ],
   "source": [
    "# Calculating real gdp\n",
    "texas_df['real_gdp'] = round(texas_df['tx_gdp'] / (texas_df['GDP Deflator'] / 100), 1)\n",
    "texas_df.head(10)"
   ]
  },
  {
   "cell_type": "code",
   "execution_count": 41,
   "id": "2bf001c0",
   "metadata": {},
   "outputs": [
    {
     "data": {
      "application/vnd.microsoft.datawrangler.viewer.v0+json": {
       "columns": [
        {
         "name": "index",
         "rawType": "int64",
         "type": "integer"
        },
        {
         "name": "Fiscal Year",
         "rawType": "int64",
         "type": "integer"
        },
        {
         "name": "Initial Approval",
         "rawType": "int64",
         "type": "integer"
        },
        {
         "name": "Continuing Approval",
         "rawType": "int64",
         "type": "integer"
        }
       ],
       "conversionMethod": "pd.DataFrame",
       "ref": "95c5a348-0c8f-4cd2-a407-2cdbe5311c90",
       "rows": [
        [
         "0",
         "2009",
         "8359",
         "13221"
        ],
        [
         "1",
         "2010",
         "9432",
         "11039"
        ],
        [
         "2",
         "2011",
         "11855",
         "17714"
        ],
        [
         "3",
         "2012",
         "15362",
         "14776"
        ],
        [
         "4",
         "2013",
         "16484",
         "19820"
        ],
        [
         "5",
         "2014",
         "19275",
         "34212"
        ],
        [
         "6",
         "2015",
         "15661",
         "32652"
        ],
        [
         "7",
         "2016",
         "14927",
         "47805"
        ],
        [
         "8",
         "2017",
         "12404",
         "57494"
        ],
        [
         "9",
         "2018",
         "6954",
         "31671"
        ],
        [
         "10",
         "2019",
         "11682",
         "31686"
        ],
        [
         "11",
         "2020",
         "14213",
         "37652"
        ],
        [
         "12",
         "2021",
         "15129",
         "31853"
        ],
        [
         "13",
         "2022",
         "17505",
         "27807"
        ],
        [
         "14",
         "2023",
         "17826",
         "30940"
        ],
        [
         "15",
         "2024",
         "21575",
         "34182"
        ]
       ],
       "shape": {
        "columns": 3,
        "rows": 16
       }
      },
      "text/html": [
       "<div>\n",
       "<style scoped>\n",
       "    .dataframe tbody tr th:only-of-type {\n",
       "        vertical-align: middle;\n",
       "    }\n",
       "\n",
       "    .dataframe tbody tr th {\n",
       "        vertical-align: top;\n",
       "    }\n",
       "\n",
       "    .dataframe thead th {\n",
       "        text-align: right;\n",
       "    }\n",
       "</style>\n",
       "<table border=\"1\" class=\"dataframe\">\n",
       "  <thead>\n",
       "    <tr style=\"text-align: right;\">\n",
       "      <th></th>\n",
       "      <th>Fiscal Year</th>\n",
       "      <th>Initial Approval</th>\n",
       "      <th>Continuing Approval</th>\n",
       "    </tr>\n",
       "  </thead>\n",
       "  <tbody>\n",
       "    <tr>\n",
       "      <th>0</th>\n",
       "      <td>2009</td>\n",
       "      <td>8359</td>\n",
       "      <td>13221</td>\n",
       "    </tr>\n",
       "    <tr>\n",
       "      <th>1</th>\n",
       "      <td>2010</td>\n",
       "      <td>9432</td>\n",
       "      <td>11039</td>\n",
       "    </tr>\n",
       "    <tr>\n",
       "      <th>2</th>\n",
       "      <td>2011</td>\n",
       "      <td>11855</td>\n",
       "      <td>17714</td>\n",
       "    </tr>\n",
       "    <tr>\n",
       "      <th>3</th>\n",
       "      <td>2012</td>\n",
       "      <td>15362</td>\n",
       "      <td>14776</td>\n",
       "    </tr>\n",
       "    <tr>\n",
       "      <th>4</th>\n",
       "      <td>2013</td>\n",
       "      <td>16484</td>\n",
       "      <td>19820</td>\n",
       "    </tr>\n",
       "    <tr>\n",
       "      <th>5</th>\n",
       "      <td>2014</td>\n",
       "      <td>19275</td>\n",
       "      <td>34212</td>\n",
       "    </tr>\n",
       "    <tr>\n",
       "      <th>6</th>\n",
       "      <td>2015</td>\n",
       "      <td>15661</td>\n",
       "      <td>32652</td>\n",
       "    </tr>\n",
       "    <tr>\n",
       "      <th>7</th>\n",
       "      <td>2016</td>\n",
       "      <td>14927</td>\n",
       "      <td>47805</td>\n",
       "    </tr>\n",
       "    <tr>\n",
       "      <th>8</th>\n",
       "      <td>2017</td>\n",
       "      <td>12404</td>\n",
       "      <td>57494</td>\n",
       "    </tr>\n",
       "    <tr>\n",
       "      <th>9</th>\n",
       "      <td>2018</td>\n",
       "      <td>6954</td>\n",
       "      <td>31671</td>\n",
       "    </tr>\n",
       "    <tr>\n",
       "      <th>10</th>\n",
       "      <td>2019</td>\n",
       "      <td>11682</td>\n",
       "      <td>31686</td>\n",
       "    </tr>\n",
       "    <tr>\n",
       "      <th>11</th>\n",
       "      <td>2020</td>\n",
       "      <td>14213</td>\n",
       "      <td>37652</td>\n",
       "    </tr>\n",
       "    <tr>\n",
       "      <th>12</th>\n",
       "      <td>2021</td>\n",
       "      <td>15129</td>\n",
       "      <td>31853</td>\n",
       "    </tr>\n",
       "    <tr>\n",
       "      <th>13</th>\n",
       "      <td>2022</td>\n",
       "      <td>17505</td>\n",
       "      <td>27807</td>\n",
       "    </tr>\n",
       "    <tr>\n",
       "      <th>14</th>\n",
       "      <td>2023</td>\n",
       "      <td>17826</td>\n",
       "      <td>30940</td>\n",
       "    </tr>\n",
       "    <tr>\n",
       "      <th>15</th>\n",
       "      <td>2024</td>\n",
       "      <td>21575</td>\n",
       "      <td>34182</td>\n",
       "    </tr>\n",
       "  </tbody>\n",
       "</table>\n",
       "</div>"
      ],
      "text/plain": [
       "    Fiscal Year  Initial Approval  Continuing Approval\n",
       "0          2009              8359                13221\n",
       "1          2010              9432                11039\n",
       "2          2011             11855                17714\n",
       "3          2012             15362                14776\n",
       "4          2013             16484                19820\n",
       "5          2014             19275                34212\n",
       "6          2015             15661                32652\n",
       "7          2016             14927                47805\n",
       "8          2017             12404                57494\n",
       "9          2018              6954                31671\n",
       "10         2019             11682                31686\n",
       "11         2020             14213                37652\n",
       "12         2021             15129                31853\n",
       "13         2022             17505                27807\n",
       "14         2023             17826                30940\n",
       "15         2024             21575                34182"
      ]
     },
     "execution_count": 41,
     "metadata": {},
     "output_type": "execute_result"
    }
   ],
   "source": [
    "# Initial and continuing approvals per year\n",
    "approvals_peryear = hb_df.groupby('Fiscal Year')[['Initial Approval', 'Continuing Approval']].sum().reset_index()\n",
    "approvals_peryear"
   ]
  },
  {
   "cell_type": "code",
   "execution_count": 42,
   "id": "2c88592d",
   "metadata": {},
   "outputs": [
    {
     "data": {
      "application/vnd.microsoft.datawrangler.viewer.v0+json": {
       "columns": [
        {
         "name": "index",
         "rawType": "int64",
         "type": "integer"
        },
        {
         "name": "Fiscal Year",
         "rawType": "int64",
         "type": "integer"
        },
        {
         "name": "GDP Deflator",
         "rawType": "float64",
         "type": "float"
        },
        {
         "name": "tx_gdp",
         "rawType": "float64",
         "type": "float"
        },
        {
         "name": "tx_ur",
         "rawType": "float64",
         "type": "float"
        },
        {
         "name": "real_gdp",
         "rawType": "float64",
         "type": "float"
        },
        {
         "name": "Initial Approval",
         "rawType": "int64",
         "type": "integer"
        },
        {
         "name": "Continuing Approval",
         "rawType": "int64",
         "type": "integer"
        }
       ],
       "conversionMethod": "pd.DataFrame",
       "ref": "7fdcbb6b-aae2-4618-9293-56fac4f20c7a",
       "rows": [
        [
         "0",
         "2009",
         "88.556",
         "1179168.1",
         "7.591666666666668",
         "1331550.8",
         "8359",
         "13221"
        ],
        [
         "1",
         "2010",
         "89.632",
         "1255660.8",
         "8.25",
         "1400906.8",
         "9432",
         "11039"
        ],
        [
         "2",
         "2011",
         "91.481",
         "1351776.9",
         "8.033333333333331",
         "1477658.6",
         "11855",
         "17714"
        ],
        [
         "3",
         "2012",
         "93.185",
         "1429588.0",
         "6.708333333333333",
         "1534139.6",
         "15362",
         "14776"
        ],
        [
         "4",
         "2013",
         "94.771",
         "1526781.9",
         "6.316666666666666",
         "1611022.3",
         "16484",
         "19820"
        ],
        [
         "5",
         "2014",
         "96.421",
         "1592177.6",
         "5.183333333333335",
         "1651276.8",
         "19275",
         "34212"
        ],
        [
         "6",
         "2015",
         "97.316",
         "1585985.9",
         "4.466666666666666",
         "1629727.8",
         "15661",
         "32652"
        ],
        [
         "7",
         "2016",
         "98.241",
         "1582981.5",
         "4.666666666666665",
         "1611324.7",
         "14927",
         "47805"
        ],
        [
         "8",
         "2017",
         "100.0",
         "1667313.0",
         "4.358333333333333",
         "1667313.0",
         "12404",
         "57494"
        ],
        [
         "9",
         "2018",
         "102.291",
         "1808026.9",
         "3.9166666666666656",
         "1767532.7",
         "6954",
         "31671"
        ],
        [
         "10",
         "2019",
         "103.979",
         "1864872.3",
         "3.525",
         "1793508.6",
         "11682",
         "31686"
        ],
        [
         "11",
         "2020",
         "105.361",
         "1802143.7",
         "7.725",
         "1710446.7",
         "14213",
         "37652"
        ],
        [
         "12",
         "2021",
         "110.172",
         "2088972.3",
         "5.625",
         "1896100.9",
         "15129",
         "31853"
        ],
        [
         "13",
         "2022",
         "118.026",
         "2436925.0",
         "3.9166666666666665",
         "2064735.7",
         "17505",
         "27807"
        ],
        [
         "14",
         "2023",
         "122.273",
         "2583866.2",
         "4.016666666666667",
         "2113194.4",
         "17826",
         "30940"
        ],
        [
         "15",
         "2024",
         "125.22",
         "2709392.9",
         "4.091666666666668",
         "2163706.2",
         "21575",
         "34182"
        ]
       ],
       "shape": {
        "columns": 7,
        "rows": 16
       }
      },
      "text/html": [
       "<div>\n",
       "<style scoped>\n",
       "    .dataframe tbody tr th:only-of-type {\n",
       "        vertical-align: middle;\n",
       "    }\n",
       "\n",
       "    .dataframe tbody tr th {\n",
       "        vertical-align: top;\n",
       "    }\n",
       "\n",
       "    .dataframe thead th {\n",
       "        text-align: right;\n",
       "    }\n",
       "</style>\n",
       "<table border=\"1\" class=\"dataframe\">\n",
       "  <thead>\n",
       "    <tr style=\"text-align: right;\">\n",
       "      <th></th>\n",
       "      <th>Fiscal Year</th>\n",
       "      <th>GDP Deflator</th>\n",
       "      <th>tx_gdp</th>\n",
       "      <th>tx_ur</th>\n",
       "      <th>real_gdp</th>\n",
       "      <th>Initial Approval</th>\n",
       "      <th>Continuing Approval</th>\n",
       "    </tr>\n",
       "  </thead>\n",
       "  <tbody>\n",
       "    <tr>\n",
       "      <th>0</th>\n",
       "      <td>2009</td>\n",
       "      <td>88.556</td>\n",
       "      <td>1179168.1</td>\n",
       "      <td>7.591667</td>\n",
       "      <td>1331550.8</td>\n",
       "      <td>8359</td>\n",
       "      <td>13221</td>\n",
       "    </tr>\n",
       "    <tr>\n",
       "      <th>1</th>\n",
       "      <td>2010</td>\n",
       "      <td>89.632</td>\n",
       "      <td>1255660.8</td>\n",
       "      <td>8.250000</td>\n",
       "      <td>1400906.8</td>\n",
       "      <td>9432</td>\n",
       "      <td>11039</td>\n",
       "    </tr>\n",
       "    <tr>\n",
       "      <th>2</th>\n",
       "      <td>2011</td>\n",
       "      <td>91.481</td>\n",
       "      <td>1351776.9</td>\n",
       "      <td>8.033333</td>\n",
       "      <td>1477658.6</td>\n",
       "      <td>11855</td>\n",
       "      <td>17714</td>\n",
       "    </tr>\n",
       "    <tr>\n",
       "      <th>3</th>\n",
       "      <td>2012</td>\n",
       "      <td>93.185</td>\n",
       "      <td>1429588.0</td>\n",
       "      <td>6.708333</td>\n",
       "      <td>1534139.6</td>\n",
       "      <td>15362</td>\n",
       "      <td>14776</td>\n",
       "    </tr>\n",
       "    <tr>\n",
       "      <th>4</th>\n",
       "      <td>2013</td>\n",
       "      <td>94.771</td>\n",
       "      <td>1526781.9</td>\n",
       "      <td>6.316667</td>\n",
       "      <td>1611022.3</td>\n",
       "      <td>16484</td>\n",
       "      <td>19820</td>\n",
       "    </tr>\n",
       "    <tr>\n",
       "      <th>5</th>\n",
       "      <td>2014</td>\n",
       "      <td>96.421</td>\n",
       "      <td>1592177.6</td>\n",
       "      <td>5.183333</td>\n",
       "      <td>1651276.8</td>\n",
       "      <td>19275</td>\n",
       "      <td>34212</td>\n",
       "    </tr>\n",
       "    <tr>\n",
       "      <th>6</th>\n",
       "      <td>2015</td>\n",
       "      <td>97.316</td>\n",
       "      <td>1585985.9</td>\n",
       "      <td>4.466667</td>\n",
       "      <td>1629727.8</td>\n",
       "      <td>15661</td>\n",
       "      <td>32652</td>\n",
       "    </tr>\n",
       "    <tr>\n",
       "      <th>7</th>\n",
       "      <td>2016</td>\n",
       "      <td>98.241</td>\n",
       "      <td>1582981.5</td>\n",
       "      <td>4.666667</td>\n",
       "      <td>1611324.7</td>\n",
       "      <td>14927</td>\n",
       "      <td>47805</td>\n",
       "    </tr>\n",
       "    <tr>\n",
       "      <th>8</th>\n",
       "      <td>2017</td>\n",
       "      <td>100.000</td>\n",
       "      <td>1667313.0</td>\n",
       "      <td>4.358333</td>\n",
       "      <td>1667313.0</td>\n",
       "      <td>12404</td>\n",
       "      <td>57494</td>\n",
       "    </tr>\n",
       "    <tr>\n",
       "      <th>9</th>\n",
       "      <td>2018</td>\n",
       "      <td>102.291</td>\n",
       "      <td>1808026.9</td>\n",
       "      <td>3.916667</td>\n",
       "      <td>1767532.7</td>\n",
       "      <td>6954</td>\n",
       "      <td>31671</td>\n",
       "    </tr>\n",
       "    <tr>\n",
       "      <th>10</th>\n",
       "      <td>2019</td>\n",
       "      <td>103.979</td>\n",
       "      <td>1864872.3</td>\n",
       "      <td>3.525000</td>\n",
       "      <td>1793508.6</td>\n",
       "      <td>11682</td>\n",
       "      <td>31686</td>\n",
       "    </tr>\n",
       "    <tr>\n",
       "      <th>11</th>\n",
       "      <td>2020</td>\n",
       "      <td>105.361</td>\n",
       "      <td>1802143.7</td>\n",
       "      <td>7.725000</td>\n",
       "      <td>1710446.7</td>\n",
       "      <td>14213</td>\n",
       "      <td>37652</td>\n",
       "    </tr>\n",
       "    <tr>\n",
       "      <th>12</th>\n",
       "      <td>2021</td>\n",
       "      <td>110.172</td>\n",
       "      <td>2088972.3</td>\n",
       "      <td>5.625000</td>\n",
       "      <td>1896100.9</td>\n",
       "      <td>15129</td>\n",
       "      <td>31853</td>\n",
       "    </tr>\n",
       "    <tr>\n",
       "      <th>13</th>\n",
       "      <td>2022</td>\n",
       "      <td>118.026</td>\n",
       "      <td>2436925.0</td>\n",
       "      <td>3.916667</td>\n",
       "      <td>2064735.7</td>\n",
       "      <td>17505</td>\n",
       "      <td>27807</td>\n",
       "    </tr>\n",
       "    <tr>\n",
       "      <th>14</th>\n",
       "      <td>2023</td>\n",
       "      <td>122.273</td>\n",
       "      <td>2583866.2</td>\n",
       "      <td>4.016667</td>\n",
       "      <td>2113194.4</td>\n",
       "      <td>17826</td>\n",
       "      <td>30940</td>\n",
       "    </tr>\n",
       "    <tr>\n",
       "      <th>15</th>\n",
       "      <td>2024</td>\n",
       "      <td>125.220</td>\n",
       "      <td>2709392.9</td>\n",
       "      <td>4.091667</td>\n",
       "      <td>2163706.2</td>\n",
       "      <td>21575</td>\n",
       "      <td>34182</td>\n",
       "    </tr>\n",
       "  </tbody>\n",
       "</table>\n",
       "</div>"
      ],
      "text/plain": [
       "    Fiscal Year  GDP Deflator     tx_gdp     tx_ur   real_gdp  \\\n",
       "0          2009        88.556  1179168.1  7.591667  1331550.8   \n",
       "1          2010        89.632  1255660.8  8.250000  1400906.8   \n",
       "2          2011        91.481  1351776.9  8.033333  1477658.6   \n",
       "3          2012        93.185  1429588.0  6.708333  1534139.6   \n",
       "4          2013        94.771  1526781.9  6.316667  1611022.3   \n",
       "5          2014        96.421  1592177.6  5.183333  1651276.8   \n",
       "6          2015        97.316  1585985.9  4.466667  1629727.8   \n",
       "7          2016        98.241  1582981.5  4.666667  1611324.7   \n",
       "8          2017       100.000  1667313.0  4.358333  1667313.0   \n",
       "9          2018       102.291  1808026.9  3.916667  1767532.7   \n",
       "10         2019       103.979  1864872.3  3.525000  1793508.6   \n",
       "11         2020       105.361  1802143.7  7.725000  1710446.7   \n",
       "12         2021       110.172  2088972.3  5.625000  1896100.9   \n",
       "13         2022       118.026  2436925.0  3.916667  2064735.7   \n",
       "14         2023       122.273  2583866.2  4.016667  2113194.4   \n",
       "15         2024       125.220  2709392.9  4.091667  2163706.2   \n",
       "\n",
       "    Initial Approval  Continuing Approval  \n",
       "0               8359                13221  \n",
       "1               9432                11039  \n",
       "2              11855                17714  \n",
       "3              15362                14776  \n",
       "4              16484                19820  \n",
       "5              19275                34212  \n",
       "6              15661                32652  \n",
       "7              14927                47805  \n",
       "8              12404                57494  \n",
       "9               6954                31671  \n",
       "10             11682                31686  \n",
       "11             14213                37652  \n",
       "12             15129                31853  \n",
       "13             17505                27807  \n",
       "14             17826                30940  \n",
       "15             21575                34182  "
      ]
     },
     "execution_count": 42,
     "metadata": {},
     "output_type": "execute_result"
    }
   ],
   "source": [
    "# Combine new df with texas economy df for visualization\n",
    "texas_approvals = texas_df.merge(approvals_peryear, on='Fiscal Year', how='left')\n",
    "texas_approvals"
   ]
  },
  {
   "cell_type": "code",
   "execution_count": null,
   "id": "ad6442b7",
   "metadata": {},
   "outputs": [
    {
     "data": {
      "application/vnd.microsoft.datawrangler.viewer.v0+json": {
       "columns": [
        {
         "name": "index",
         "rawType": "int64",
         "type": "integer"
        },
        {
         "name": "Fiscal Year",
         "rawType": "int64",
         "type": "integer"
        },
        {
         "name": "GDP Deflator",
         "rawType": "float64",
         "type": "float"
        },
        {
         "name": "tx_gdp",
         "rawType": "float64",
         "type": "float"
        },
        {
         "name": "tx_ur",
         "rawType": "float64",
         "type": "float"
        },
        {
         "name": "real_gdp",
         "rawType": "float64",
         "type": "float"
        },
        {
         "name": "Initial Approval",
         "rawType": "int64",
         "type": "integer"
        },
        {
         "name": "Continuing Approval",
         "rawType": "int64",
         "type": "integer"
        },
        {
         "name": "Initial Approval % Change",
         "rawType": "float64",
         "type": "float"
        },
        {
         "name": "Continuing Approval % Change",
         "rawType": "float64",
         "type": "float"
        },
        {
         "name": "Real GDP % Change",
         "rawType": "float64",
         "type": "float"
        },
        {
         "name": "Unemployment Rate % Change",
         "rawType": "float64",
         "type": "float"
        }
       ],
       "conversionMethod": "pd.DataFrame",
       "ref": "216203bf-747b-4472-97ad-65ef10081116",
       "rows": [
        [
         "0",
         "2009",
         "88.556",
         "1179168.1",
         "7.591666666666668",
         "1331550.8",
         "8359",
         "13221",
         null,
         null,
         null,
         null
        ],
        [
         "1",
         "2010",
         "89.632",
         "1255660.8",
         "8.25",
         "1400906.8",
         "9432",
         "11039",
         "12.83646369182916",
         "-16.504046592542167",
         "5.208663462182583",
         "8.671789242590556"
        ],
        [
         "2",
         "2011",
         "91.481",
         "1351776.9",
         "8.033333333333331",
         "1477658.6",
         "11855",
         "17714",
         "25.68914334181509",
         "60.46743364435186",
         "5.478722781558343",
         "-2.6262626262626543"
        ],
        [
         "3",
         "2012",
         "93.185",
         "1429588.0",
         "6.708333333333333",
         "1534139.6",
         "15362",
         "14776",
         "29.582454660480817",
         "-16.585751383086823",
         "3.822330814438457",
         "-16.493775933609946"
        ],
        [
         "4",
         "2013",
         "94.771",
         "1526781.9",
         "6.316666666666666",
         "1611022.3",
         "16484",
         "19820",
         "7.303736492644197",
         "34.136437466161354",
         "5.0114539771999755",
         "-5.838509316770191"
        ]
       ],
       "shape": {
        "columns": 11,
        "rows": 5
       }
      },
      "text/html": [
       "<div>\n",
       "<style scoped>\n",
       "    .dataframe tbody tr th:only-of-type {\n",
       "        vertical-align: middle;\n",
       "    }\n",
       "\n",
       "    .dataframe tbody tr th {\n",
       "        vertical-align: top;\n",
       "    }\n",
       "\n",
       "    .dataframe thead th {\n",
       "        text-align: right;\n",
       "    }\n",
       "</style>\n",
       "<table border=\"1\" class=\"dataframe\">\n",
       "  <thead>\n",
       "    <tr style=\"text-align: right;\">\n",
       "      <th></th>\n",
       "      <th>Fiscal Year</th>\n",
       "      <th>GDP Deflator</th>\n",
       "      <th>tx_gdp</th>\n",
       "      <th>tx_ur</th>\n",
       "      <th>real_gdp</th>\n",
       "      <th>Initial Approval</th>\n",
       "      <th>Continuing Approval</th>\n",
       "      <th>Initial Approval % Change</th>\n",
       "      <th>Continuing Approval % Change</th>\n",
       "      <th>Real GDP % Change</th>\n",
       "      <th>Unemployment Rate % Change</th>\n",
       "    </tr>\n",
       "  </thead>\n",
       "  <tbody>\n",
       "    <tr>\n",
       "      <th>0</th>\n",
       "      <td>2009</td>\n",
       "      <td>88.556</td>\n",
       "      <td>1179168.1</td>\n",
       "      <td>7.591667</td>\n",
       "      <td>1331550.8</td>\n",
       "      <td>8359</td>\n",
       "      <td>13221</td>\n",
       "      <td>NaN</td>\n",
       "      <td>NaN</td>\n",
       "      <td>NaN</td>\n",
       "      <td>NaN</td>\n",
       "    </tr>\n",
       "    <tr>\n",
       "      <th>1</th>\n",
       "      <td>2010</td>\n",
       "      <td>89.632</td>\n",
       "      <td>1255660.8</td>\n",
       "      <td>8.250000</td>\n",
       "      <td>1400906.8</td>\n",
       "      <td>9432</td>\n",
       "      <td>11039</td>\n",
       "      <td>12.836464</td>\n",
       "      <td>-16.504047</td>\n",
       "      <td>5.208663</td>\n",
       "      <td>8.671789</td>\n",
       "    </tr>\n",
       "    <tr>\n",
       "      <th>2</th>\n",
       "      <td>2011</td>\n",
       "      <td>91.481</td>\n",
       "      <td>1351776.9</td>\n",
       "      <td>8.033333</td>\n",
       "      <td>1477658.6</td>\n",
       "      <td>11855</td>\n",
       "      <td>17714</td>\n",
       "      <td>25.689143</td>\n",
       "      <td>60.467434</td>\n",
       "      <td>5.478723</td>\n",
       "      <td>-2.626263</td>\n",
       "    </tr>\n",
       "    <tr>\n",
       "      <th>3</th>\n",
       "      <td>2012</td>\n",
       "      <td>93.185</td>\n",
       "      <td>1429588.0</td>\n",
       "      <td>6.708333</td>\n",
       "      <td>1534139.6</td>\n",
       "      <td>15362</td>\n",
       "      <td>14776</td>\n",
       "      <td>29.582455</td>\n",
       "      <td>-16.585751</td>\n",
       "      <td>3.822331</td>\n",
       "      <td>-16.493776</td>\n",
       "    </tr>\n",
       "    <tr>\n",
       "      <th>4</th>\n",
       "      <td>2013</td>\n",
       "      <td>94.771</td>\n",
       "      <td>1526781.9</td>\n",
       "      <td>6.316667</td>\n",
       "      <td>1611022.3</td>\n",
       "      <td>16484</td>\n",
       "      <td>19820</td>\n",
       "      <td>7.303736</td>\n",
       "      <td>34.136437</td>\n",
       "      <td>5.011454</td>\n",
       "      <td>-5.838509</td>\n",
       "    </tr>\n",
       "  </tbody>\n",
       "</table>\n",
       "</div>"
      ],
      "text/plain": [
       "   Fiscal Year  GDP Deflator     tx_gdp     tx_ur   real_gdp  \\\n",
       "0         2009        88.556  1179168.1  7.591667  1331550.8   \n",
       "1         2010        89.632  1255660.8  8.250000  1400906.8   \n",
       "2         2011        91.481  1351776.9  8.033333  1477658.6   \n",
       "3         2012        93.185  1429588.0  6.708333  1534139.6   \n",
       "4         2013        94.771  1526781.9  6.316667  1611022.3   \n",
       "\n",
       "   Initial Approval  Continuing Approval  Initial Approval % Change  \\\n",
       "0              8359                13221                        NaN   \n",
       "1              9432                11039                  12.836464   \n",
       "2             11855                17714                  25.689143   \n",
       "3             15362                14776                  29.582455   \n",
       "4             16484                19820                   7.303736   \n",
       "\n",
       "   Continuing Approval % Change  Real GDP % Change  Unemployment Rate % Change  \n",
       "0                           NaN                NaN                         NaN  \n",
       "1                    -16.504047           5.208663                    8.671789  \n",
       "2                     60.467434           5.478723                   -2.626263  \n",
       "3                    -16.585751           3.822331                  -16.493776  \n",
       "4                     34.136437           5.011454                   -5.838509  "
      ]
     },
     "execution_count": 45,
     "metadata": {},
     "output_type": "execute_result"
    }
   ],
   "source": [
    "# Create YOY percent change columns for better comparison\n",
    "texas_approvals['Initial Approval % Change'] = texas_approvals['Initial Approval'].pct_change() * 100\n",
    "texas_approvals['Continuing Approval % Change'] = texas_approvals['Continuing Approval'].pct_change() * 100\n",
    "texas_approvals['Real GDP % Change'] = texas_approvals['real_gdp'].pct_change() * 100\n",
    "texas_approvals['Unemployment Rate % Change'] = texas_approvals['tx_ur'].pct_change() * 100\n",
    "texas_approvals.head()\n"
   ]
  },
  {
   "cell_type": "markdown",
   "id": "33e0f895",
   "metadata": {},
   "source": [
    "#### Do first time H1-B approvals follow any pattern with Texas GDP?"
   ]
  },
  {
   "cell_type": "code",
   "execution_count": 47,
   "id": "32ed9658",
   "metadata": {},
   "outputs": [
    {
     "data": {
      "image/png": "[encoded data removed]",
      "text/plain": [
       "<Figure size 640x480 with 1 Axes>"
      ]
     },
     "metadata": {},
     "output_type": "display_data"
    }
   ],
   "source": [
    "sns.lineplot(data=texas_approvals, x='Fiscal Year', y='Initial Approval % Change', label='Initial Approval %')\n",
    "sns.lineplot(data=texas_approvals, x='Fiscal Year', y='Real GDP % Change', label='Real GDP %')\n",
    "plt.axhline(0, linestyle='--', color='gray', alpha=0.5)\n",
    "plt.title('Percent Change: Initial Approvals vs Real GDP')\n",
    "plt.ylabel('% Change')\n",
    "plt.legend()\n",
    "plt.tight_layout()\n"
   ]
  },
  {
   "cell_type": "markdown",
   "id": "7cbca6e5",
   "metadata": {},
   "source": [
    "#### Do H1-B renewals follow any pattern with the unemployment rate in Texas?"
   ]
  },
  {
   "cell_type": "code",
   "execution_count": 46,
   "id": "4b48ce9c",
   "metadata": {},
   "outputs": [
    {
     "data": {
      "image/png": "[encoded data removed]",
      "text/plain": [
       "<Figure size 640x480 with 1 Axes>"
      ]
     },
     "metadata": {},
     "output_type": "display_data"
    }
   ],
   "source": [
    "sns.lineplot(data=texas_approvals, x='Fiscal Year', y='Continuing Approval % Change', label='Continuing Approval %')\n",
    "sns.lineplot(data=texas_approvals, x='Fiscal Year', y='Unemployment Rate % Change', label='Unemployment Rate %')\n",
    "plt.axhline(0, linestyle='--', color='gray', alpha=0.5)\n",
    "plt.title('Percent Change: Continuing Approvals vs Texas UR')\n",
    "plt.ylabel('% Change')\n",
    "plt.legend()\n",
    "plt.tight_layout()\n"
   ]
  },
  {
   "cell_type": "markdown",
   "id": "7b5fb92c",
   "metadata": {},
   "source": [
    "The YOY percent change analysis reveals that Initial H1B Approvals are highly volatile and do not follow Texas GDP growth, suggesting that new H1B demand is influenced more by policy changes or filing cycles than by state-level economic performance. In contrast, Continuing Approvals show a moderate inverse relationship with the unemployment rate. This is very evident in 2020, when unemployment spiked and continuing approvals declined, indicating that renewals and extensions may be more sensitive to labor market conditions."
   ]
  },
  {
   "cell_type": "markdown",
   "id": "b170d171",
   "metadata": {},
   "source": []
  }
 ],
 "metadata": {
  "kernelspec": {
   "display_name": "base",
   "language": "python",
   "name": "python3"
  },
  "language_info": {
   "codemirror_mode": {
    "name": "ipython",
    "version": 3
   },
   "file_extension": ".py",
   "mimetype": "text/x-python",
   "name": "python",
   "nbconvert_exporter": "python",
   "pygments_lexer": "ipython3",
   "version": "3.12.7"
  }
 },
 "nbformat": 4,
 "nbformat_minor": 5
}

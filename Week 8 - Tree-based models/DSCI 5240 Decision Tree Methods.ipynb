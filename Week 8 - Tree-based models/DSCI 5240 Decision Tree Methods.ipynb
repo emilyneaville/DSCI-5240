{
 "cells": [
  {
   "cell_type": "markdown",
   "id": "d9d5943f",
   "metadata": {},
   "source": [
    "### Decision Tree Methods"
   ]
  },
  {
   "cell_type": "code",
   "execution_count": null,
   "id": "8c377812",
   "metadata": {},
   "outputs": [],
   "source": [
    "# This code appears in every demonstration Notebook.\n",
    "# By default, when you run each cell, only the last output of the codes will show.\n",
    "# This code makes all outputs of a cell show.\n",
    "from IPython.core.interactiveshell import InteractiveShell\n",
    "InteractiveShell.ast_node_interactivity = \"all\""
   ]
  },
  {
   "cell_type": "markdown",
   "id": "c2cdb2bb",
   "metadata": {},
   "source": [
    "1. Import libraries"
   ]
  },
  {
   "cell_type": "code",
   "execution_count": 1,
   "id": "1ddcd9db",
   "metadata": {},
   "outputs": [],
   "source": [
    "import pandas as pd"
   ]
  },
  {
   "cell_type": "markdown",
   "id": "b39b8485",
   "metadata": {},
   "source": [
    "2. Import Carseats dataset"
   ]
  },
  {
   "cell_type": "code",
   "execution_count": 2,
   "id": "67356283",
   "metadata": {},
   "outputs": [],
   "source": [
    "carseats = pd.read_csv('Datasets/Carseats.csv')"
   ]
  },
  {
   "cell_type": "markdown",
   "id": "f82b60a2",
   "metadata": {},
   "source": [
    "3. We intend to classify the sales of carseats into high or low categories.<br>\n",
    "First, we need to transform the numeric 'Sales' into high/low categories."
   ]
  },
  {
   "cell_type": "code",
   "execution_count": null,
   "id": "6081bb01",
   "metadata": {},
   "outputs": [],
   "source": []
  },
  {
   "cell_type": "markdown",
   "id": "a633c649",
   "metadata": {},
   "source": [
    "4. Prepare X and y"
   ]
  },
  {
   "cell_type": "code",
   "execution_count": null,
   "id": "9015f1ed",
   "metadata": {},
   "outputs": [],
   "source": []
  },
  {
   "cell_type": "code",
   "execution_count": null,
   "id": "830c34d2",
   "metadata": {},
   "outputs": [],
   "source": []
  },
  {
   "cell_type": "markdown",
   "id": "9cc97c5f",
   "metadata": {},
   "source": [
    "5. Split training and test datasets"
   ]
  },
  {
   "cell_type": "code",
   "execution_count": null,
   "id": "7a1cff91",
   "metadata": {},
   "outputs": [],
   "source": []
  },
  {
   "cell_type": "markdown",
   "id": "e72c00cb",
   "metadata": {},
   "source": [
    "6. Fit a decision tree.<br>\n",
    "We set the max depth to be 3 to stop the tree growing."
   ]
  },
  {
   "cell_type": "code",
   "execution_count": null,
   "id": "33b779d4",
   "metadata": {},
   "outputs": [],
   "source": [
    "# Initiating the classifier\n",
    "# We can set parameters to control the tree\n",
    "# criterion - entropy or gini index\n",
    "# max_depth - the levels of the tree\n",
    "# min_samples_split - the least observations in a node\n"
   ]
  },
  {
   "cell_type": "markdown",
   "id": "b8f2ba40",
   "metadata": {},
   "source": [
    "7. Plot the tree"
   ]
  },
  {
   "cell_type": "code",
   "execution_count": null,
   "id": "3eaf47f4",
   "metadata": {},
   "outputs": [],
   "source": []
  },
  {
   "cell_type": "markdown",
   "id": "f849e00a",
   "metadata": {},
   "source": [
    "8. Next we fit a tree without specifying stopping criteria.<br>\n",
    "By default, the tree will grown until there is no more information gain."
   ]
  },
  {
   "cell_type": "code",
   "execution_count": null,
   "id": "bb6e2b0a",
   "metadata": {},
   "outputs": [],
   "source": []
  },
  {
   "cell_type": "markdown",
   "id": "31d9974d",
   "metadata": {},
   "source": [
    "9. Bagging, random forest and boosting"
   ]
  },
  {
   "cell_type": "code",
   "execution_count": null,
   "id": "fc8f415c",
   "metadata": {},
   "outputs": [],
   "source": []
  },
  {
   "cell_type": "markdown",
   "id": "f7b6ad18",
   "metadata": {},
   "source": [
    "9.1 Bagging"
   ]
  },
  {
   "cell_type": "code",
   "execution_count": null,
   "id": "6b018c7a",
   "metadata": {},
   "outputs": [],
   "source": []
  },
  {
   "cell_type": "markdown",
   "id": "6c4f5ebe",
   "metadata": {},
   "source": [
    "9.2 Random forest"
   ]
  },
  {
   "cell_type": "code",
   "execution_count": null,
   "id": "bc845e30",
   "metadata": {},
   "outputs": [],
   "source": []
  },
  {
   "cell_type": "markdown",
   "id": "0683771c",
   "metadata": {},
   "source": [
    "9.4 We cannot get an interpretable tree from ensemble methods, but we can figure out the importance of each variable in classification."
   ]
  },
  {
   "cell_type": "code",
   "execution_count": null,
   "id": "82083209",
   "metadata": {},
   "outputs": [],
   "source": []
  },
  {
   "cell_type": "markdown",
   "id": "b3ac33f1",
   "metadata": {},
   "source": [
    "9.3 Boosting"
   ]
  },
  {
   "cell_type": "code",
   "execution_count": null,
   "id": "cd836cd9",
   "metadata": {},
   "outputs": [],
   "source": []
  }
 ],
 "metadata": {
  "kernelspec": {
   "display_name": "base",
   "language": "python",
   "name": "python3"
  },
  "language_info": {
   "codemirror_mode": {
    "name": "ipython",
    "version": 3
   },
   "file_extension": ".py",
   "mimetype": "text/x-python",
   "name": "python",
   "nbconvert_exporter": "python",
   "pygments_lexer": "ipython3",
   "version": "3.12.7"
  }
 },
 "nbformat": 4,
 "nbformat_minor": 5
}
